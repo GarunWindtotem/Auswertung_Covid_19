{
 "cells": [
  {
   "cell_type": "code",
   "execution_count": 32,
   "metadata": {},
   "outputs": [],
   "source": [
    "import pandas as pd\n",
    "import datetime\n",
    "from datetime import datetime, timedelta\n",
    "from datetime import date # todays date"
   ]
  },
  {
   "cell_type": "code",
   "execution_count": 33,
   "metadata": {},
   "outputs": [],
   "source": [
    "df = pd.read_csv(\"https://covid19.who.int/WHO-COVID-19-global-data.csv\")\n",
    "df = df.loc[df.Country=='Germany']"
   ]
  },
  {
   "cell_type": "code",
   "execution_count": null,
   "metadata": {},
   "outputs": [],
   "source": []
  },
  {
   "cell_type": "code",
   "execution_count": null,
   "metadata": {},
   "outputs": [],
   "source": []
  },
  {
   "cell_type": "code",
   "execution_count": null,
   "metadata": {},
   "outputs": [],
   "source": []
  },
  {
   "cell_type": "code",
   "execution_count": 34,
   "metadata": {},
   "outputs": [
    {
     "name": "stdout",
     "output_type": "stream",
     "text": [
      "17.07.2021\n"
     ]
    }
   ],
   "source": [
    "today = date.today().strftime(\"%d.%m.%Y\")\n",
    "print(today)"
   ]
  },
  {
   "cell_type": "code",
   "execution_count": 35,
   "metadata": {},
   "outputs": [],
   "source": [
    "def days_between(d1, d2):\n",
    "    d1 = datetime.strptime(d1, \"%Y-%m-%d\")\n",
    "    d2 = datetime.strptime(d2, \"%Y-%m-%d\")\n",
    "    return abs((d2 - d1).days)"
   ]
  },
  {
   "cell_type": "code",
   "execution_count": 36,
   "metadata": {},
   "outputs": [
    {
     "name": "stdout",
     "output_type": "stream",
     "text": [
      "2021-07-17\n",
      "7\n"
     ]
    }
   ],
   "source": [
    "a = str(date.today().strftime(\"%Y-%m-%d\"))\n",
    "print(a)\n",
    "# tage = days_between(a, \"2020-03-01\")\n",
    "tage = days_between(a, \"2021-07-10\")\n",
    "print(tage)"
   ]
  },
  {
   "cell_type": "code",
   "execution_count": 37,
   "metadata": {},
   "outputs": [
    {
     "name": "stdout",
     "output_type": "stream",
     "text": [
      "2021-07-17 11:08:20.395732\n",
      "2021-07-10 11:08:20.395732+00:00\n"
     ]
    }
   ],
   "source": [
    "print(datetime.today())\n",
    "\n",
    "ts_x = str(datetime.today() - timedelta(tage))\n",
    "ts_x = str(datetime.today() - timedelta(tage))\n",
    "\n",
    "ts = pd.to_datetime(ts_x, utc=True)\n",
    "print(ts)"
   ]
  },
  {
   "cell_type": "code",
   "execution_count": 38,
   "metadata": {},
   "outputs": [],
   "source": [
    "df['Date_reported'] = pd.to_datetime(df.Date_reported, utc=True)\n",
    "\n",
    "df = df.loc[df.Date_reported >= ts, :]"
   ]
  },
  {
   "cell_type": "code",
   "execution_count": 39,
   "metadata": {},
   "outputs": [
    {
     "data": {
      "text/html": [
       "<div>\n",
       "<style scoped>\n",
       "    .dataframe tbody tr th:only-of-type {\n",
       "        vertical-align: middle;\n",
       "    }\n",
       "\n",
       "    .dataframe tbody tr th {\n",
       "        vertical-align: top;\n",
       "    }\n",
       "\n",
       "    .dataframe thead th {\n",
       "        text-align: right;\n",
       "    }\n",
       "</style>\n",
       "<table border=\"1\" class=\"dataframe\">\n",
       "  <thead>\n",
       "    <tr style=\"text-align: right;\">\n",
       "      <th></th>\n",
       "      <th>Date_reported</th>\n",
       "      <th>Country_code</th>\n",
       "      <th>Country</th>\n",
       "      <th>WHO_region</th>\n",
       "      <th>New_cases</th>\n",
       "      <th>Cumulative_cases</th>\n",
       "      <th>New_deaths</th>\n",
       "      <th>Cumulative_deaths</th>\n",
       "    </tr>\n",
       "  </thead>\n",
       "  <tbody>\n",
       "    <tr>\n",
       "      <th>44309</th>\n",
       "      <td>2021-07-11 00:00:00+00:00</td>\n",
       "      <td>DE</td>\n",
       "      <td>Germany</td>\n",
       "      <td>EURO</td>\n",
       "      <td>745</td>\n",
       "      <td>3736165</td>\n",
       "      <td>6</td>\n",
       "      <td>91231</td>\n",
       "    </tr>\n",
       "    <tr>\n",
       "      <th>44310</th>\n",
       "      <td>2021-07-12 00:00:00+00:00</td>\n",
       "      <td>DE</td>\n",
       "      <td>Germany</td>\n",
       "      <td>EURO</td>\n",
       "      <td>324</td>\n",
       "      <td>3736489</td>\n",
       "      <td>2</td>\n",
       "      <td>91233</td>\n",
       "    </tr>\n",
       "    <tr>\n",
       "      <th>44311</th>\n",
       "      <td>2021-07-13 00:00:00+00:00</td>\n",
       "      <td>DE</td>\n",
       "      <td>Germany</td>\n",
       "      <td>EURO</td>\n",
       "      <td>646</td>\n",
       "      <td>3737135</td>\n",
       "      <td>26</td>\n",
       "      <td>91259</td>\n",
       "    </tr>\n",
       "    <tr>\n",
       "      <th>44312</th>\n",
       "      <td>2021-07-14 00:00:00+00:00</td>\n",
       "      <td>DE</td>\n",
       "      <td>Germany</td>\n",
       "      <td>EURO</td>\n",
       "      <td>1548</td>\n",
       "      <td>3738683</td>\n",
       "      <td>28</td>\n",
       "      <td>91287</td>\n",
       "    </tr>\n",
       "    <tr>\n",
       "      <th>44313</th>\n",
       "      <td>2021-07-15 00:00:00+00:00</td>\n",
       "      <td>DE</td>\n",
       "      <td>Germany</td>\n",
       "      <td>EURO</td>\n",
       "      <td>1642</td>\n",
       "      <td>3740325</td>\n",
       "      <td>32</td>\n",
       "      <td>91319</td>\n",
       "    </tr>\n",
       "    <tr>\n",
       "      <th>44314</th>\n",
       "      <td>2021-07-16 00:00:00+00:00</td>\n",
       "      <td>DE</td>\n",
       "      <td>Germany</td>\n",
       "      <td>EURO</td>\n",
       "      <td>1456</td>\n",
       "      <td>3741781</td>\n",
       "      <td>18</td>\n",
       "      <td>91337</td>\n",
       "    </tr>\n",
       "  </tbody>\n",
       "</table>\n",
       "</div>"
      ],
      "text/plain": [
       "                  Date_reported Country_code  Country WHO_region  New_cases  \\\n",
       "44309 2021-07-11 00:00:00+00:00           DE  Germany       EURO        745   \n",
       "44310 2021-07-12 00:00:00+00:00           DE  Germany       EURO        324   \n",
       "44311 2021-07-13 00:00:00+00:00           DE  Germany       EURO        646   \n",
       "44312 2021-07-14 00:00:00+00:00           DE  Germany       EURO       1548   \n",
       "44313 2021-07-15 00:00:00+00:00           DE  Germany       EURO       1642   \n",
       "44314 2021-07-16 00:00:00+00:00           DE  Germany       EURO       1456   \n",
       "\n",
       "       Cumulative_cases  New_deaths  Cumulative_deaths  \n",
       "44309           3736165           6              91231  \n",
       "44310           3736489           2              91233  \n",
       "44311           3737135          26              91259  \n",
       "44312           3738683          28              91287  \n",
       "44313           3740325          32              91319  \n",
       "44314           3741781          18              91337  "
      ]
     },
     "execution_count": 39,
     "metadata": {},
     "output_type": "execute_result"
    }
   ],
   "source": [
    "df"
   ]
  },
  {
   "cell_type": "code",
   "execution_count": null,
   "metadata": {},
   "outputs": [],
   "source": []
  },
  {
   "cell_type": "code",
   "execution_count": null,
   "metadata": {},
   "outputs": [],
   "source": []
  },
  {
   "cell_type": "code",
   "execution_count": null,
   "metadata": {},
   "outputs": [],
   "source": []
  },
  {
   "cell_type": "code",
   "execution_count": null,
   "metadata": {},
   "outputs": [],
   "source": []
  }
 ],
 "metadata": {
  "kernelspec": {
   "display_name": "Python 3",
   "language": "python",
   "name": "python3"
  },
  "language_info": {
   "codemirror_mode": {
    "name": "ipython",
    "version": 3
   },
   "file_extension": ".py",
   "mimetype": "text/x-python",
   "name": "python",
   "nbconvert_exporter": "python",
   "pygments_lexer": "ipython3",
   "version": "3.8.3"
  }
 },
 "nbformat": 4,
 "nbformat_minor": 4
}
