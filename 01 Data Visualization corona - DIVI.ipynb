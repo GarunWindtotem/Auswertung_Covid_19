{
 "cells": [
  {
   "cell_type": "markdown",
   "metadata": {},
   "source": [
    "# COVID-19 Auswertung - DIVI"
   ]
  },
  {
   "cell_type": "code",
   "execution_count": 15,
   "metadata": {},
   "outputs": [],
   "source": [
    "Programm_Name = \"DIVI\""
   ]
  },
  {
   "cell_type": "markdown",
   "metadata": {},
   "source": [
    "### Speicherorte und Dateinamen Plots"
   ]
  },
  {
   "cell_type": "code",
   "execution_count": 16,
   "metadata": {},
   "outputs": [],
   "source": [
    "Laufwerk = \"D:\\\\\"\n",
    "name_input = 'data-ovyiI.csv'\n",
    "name_output_df = 'Dataframes\\\\df_divi2.csv'\n",
    "\n",
    "pfad_output = \"Github\\\\Auswertung_Covid_19\\\\output\\\\\"\n",
    "pfad_onedrive = \"OneDrive\\\\Auswertung_Covid_19\\\\\"\n",
    "pfad_input = \"Github\\\\Auswertung_Covid_19\\\\input\\\\\"\n",
    "name_performance = 'Dataframes\\\\df_performance.csv'\n",
    "\n",
    "name_1_1 = \"plot_1-1_cases_absolute numbers.png\" # cases absoulte zahlen EU\n",
    "name_1_2 = \"plot_1-2_cases.png\" # cases pro 100.000 Einwohner EU \n",
    "name_2 = \"plot_2_intensiv.png\" # intensiv Deutschland\n",
    "name_2_2 = \"plot_2_2_intensiv_gesamt.png\" # intensiv Deutschland covid und nicht covid\n",
    "name_2_3 = \"plot_2_3_intensiv_covid-19.png\" # intensiv Deutschland covid\n",
    "name_3_1 = \"plot_3-1_deaths_absolute numbers.png\" # deaths absolute zahlen EU\n",
    "name_3_2 = \"plot_3-2_deaths.png\" # deaths pro 100.000 Einwohner EU\n",
    "name_4_1 = \"plot_4-1_cases_ger.png\" # cases Deutschland\n",
    "name_4_2 = \"plot_4-2_deaths_ger.png\" # deaths Deutschland\n",
    "name_5 = \"performance_dist_plot.png\" # Performance Plot\n",
    "name_6 = \"plot_6_Positivenquote_ger.png\" # Positivenquote\n",
    "name_6_2 = \"plot_6-2_Anzahl_Testungen_ger.png\" # Anzahl Testungen\n",
    "name_7 = \"plot_7_Impfquote_ger.png\" # Impfquote Deutschland Bundesländer\n",
    "name_7_2 = \"plot_7-2_Impfungen_Timeseries_ger.png\" # Impfungen Timeseries Deutschland\n",
    "name_7_3 = \"plot_7-3_Impfungen_Timeseries_ger.png\" # Impfungen Timeseries Deutschland"
   ]
  },
  {
   "cell_type": "markdown",
   "metadata": {},
   "source": [
    "## import libraries"
   ]
  },
  {
   "cell_type": "code",
   "execution_count": 17,
   "metadata": {},
   "outputs": [],
   "source": [
    "import pandas as pd #Daten\n",
    "from matplotlib import pyplot as plt # plots\n",
    "from matplotlib.ticker import FuncFormatter   # Numberformat plot ticks\n",
    "import matplotlib.dates as mdates\n",
    "\n",
    "# performance\n",
    "from datetime import datetime, timedelta\n",
    "from datetime import date # todays date\n",
    "\n",
    "import os\n",
    "now = datetime.now()"
   ]
  },
  {
   "cell_type": "code",
   "execution_count": 18,
   "metadata": {},
   "outputs": [],
   "source": [
    "# Datum einstellen \n",
    "minticks = 14\n",
    "maxticks = 14"
   ]
  },
  {
   "cell_type": "markdown",
   "metadata": {},
   "source": [
    "# Preprocessing Dataframes"
   ]
  },
  {
   "cell_type": "markdown",
   "metadata": {},
   "source": [
    "### Linien und Schriftgrößen"
   ]
  },
  {
   "cell_type": "code",
   "execution_count": 19,
   "metadata": {},
   "outputs": [],
   "source": [
    "# Linien Stärke\n",
    "lws = 3\n",
    "lwb = 7\n",
    "# Bezugsschriftgröße\n",
    "size = 25\n",
    "\n",
    "# output größe der bilder\n",
    "h = 16*1.3\n",
    "v = 9\n",
    "dpi = 200"
   ]
  },
  {
   "cell_type": "code",
   "execution_count": 20,
   "metadata": {},
   "outputs": [],
   "source": [
    "today = date.today().strftime(\"%d.%m.%Y\")"
   ]
  },
  {
   "cell_type": "markdown",
   "metadata": {},
   "source": [
    "## Datenimport"
   ]
  },
  {
   "cell_type": "markdown",
   "metadata": {},
   "source": [
    "# Variablen für die Plots definieren"
   ]
  },
  {
   "cell_type": "markdown",
   "metadata": {},
   "source": [
    "## Länder Farben"
   ]
  },
  {
   "cell_type": "code",
   "execution_count": 21,
   "metadata": {},
   "outputs": [],
   "source": [
    "c_fr = '#f80d0d'    # rot\n",
    "c_pl = '#25e5e5'    # cyan\n",
    "c_isr = '#25e5e5'\n",
    "c_ger = '#0721ff'   # dunkelblau\n",
    "c_cz = '#bb8fce'    # lila\n",
    "c_usa = '#bb8fce'\n",
    "c_at = '#18c213'    # grün\n",
    "c_rus = '#18c213'\n",
    "c_se = '#18c213'\n",
    "c_ch = '#000000'    # schwarz\n",
    "c_ita = '#000000'\n",
    "c_gb = '#faac2b'    # orange\n"
   ]
  },
  {
   "cell_type": "code",
   "execution_count": null,
   "metadata": {},
   "outputs": [],
   "source": []
  },
  {
   "cell_type": "code",
   "execution_count": 22,
   "metadata": {
    "scrolled": false
   },
   "outputs": [],
   "source": [
    "# Lokal - CSV einlesen\n",
    "df_divi2 = pd.read_csv(Laufwerk + pfad_input + name_input)\n",
    "df_divi2['date'] = pd.to_datetime(df_divi2.date, utc=True)\n",
    "#df_divi2 = df.loc[df.date >= ts, :]"
   ]
  },
  {
   "cell_type": "markdown",
   "metadata": {},
   "source": [
    "## preprocessing"
   ]
  },
  {
   "cell_type": "markdown",
   "metadata": {},
   "source": [
    "### data (WHO)"
   ]
  },
  {
   "cell_type": "code",
   "execution_count": 23,
   "metadata": {
    "scrolled": false
   },
   "outputs": [
    {
     "name": "stdout",
     "output_type": "stream",
     "text": [
      "2021-02-24 20:17:55.167221\n",
      "2020-10-07 20:17:55.167221+00:00\n"
     ]
    }
   ],
   "source": [
    "#Timestamp definieren  YYYY-MM-DD\n",
    "#ts = pd.to_datetime('2020-10-14', utc=True)\n",
    "\n",
    "print(datetime. today())\n",
    "\n",
    "ts_x = str(datetime. today() - timedelta(140))\n",
    "ts = pd.to_datetime(ts_x, utc=True)\n",
    "print(ts)"
   ]
  },
  {
   "cell_type": "markdown",
   "metadata": {},
   "source": [
    "### df_divi2 (DIVI)"
   ]
  },
  {
   "cell_type": "code",
   "execution_count": 24,
   "metadata": {},
   "outputs": [],
   "source": [
    "# Zeit eingrenzen\n",
    "\n",
    "df_divi2 = df_divi2.loc[df_divi2.date >= ts, :]\n",
    "#df_divi2.head(1)"
   ]
  },
  {
   "cell_type": "markdown",
   "metadata": {},
   "source": [
    "### 2-2) Intensivstationen DIVI2"
   ]
  },
  {
   "cell_type": "code",
   "execution_count": 25,
   "metadata": {},
   "outputs": [],
   "source": [
    "# # Größe im 16:9 format und mit Umrechnungsfaktor 1.2 (durch Test ermittelt) für PowerPoint angepasst\n",
    "# #plt.figure(figsize=(16,9))\n",
    "\n",
    "# def y_axis_thousands(x, pos):\n",
    "#    # 'The two args are the value and tick position'\n",
    "#     return '{:0,d}'.format(int(x)).replace(\",\",\".\")\n",
    "# formatter = FuncFormatter(y_axis_thousands)\n",
    "\n",
    "# fig = plt.figure(figsize=(h,v))\n",
    "# ax = fig.add_subplot()\n",
    "# ax.yaxis.set_major_formatter(formatter)\n",
    "\n",
    "# plt.style.use('seaborn')\n",
    "# plt.grid(True)\n",
    "\n",
    "# plt.plot(df_divi2.date,df_divi2['Belegte Betten'], color = 'blue', linewidth = lws, label = \"nicht-Covid-19\")\n",
    "# plt.plot(df_divi2.date,df_divi2['COVID-19-Fälle'], color = 'red', linewidth = lws, label = \"Covid-19\")\n",
    "\n",
    "\n",
    "# plt.legend(loc='upper center', \n",
    "#            bbox_to_anchor=(0.5, -0.3),\n",
    "#            fancybox=True, \n",
    "#            shadow=True, \n",
    "#            ncol=2, \n",
    "#            fontsize=size)\n",
    "\n",
    "# # Schriftgrößen x und y achsenwerte\n",
    "# plt.xticks(fontsize=size - 10, rotation = 90)\n",
    "# plt.yticks(fontsize=size -4)\n",
    "\n",
    "# # plt.xticks([])\n",
    "# plt.ylabel('Anzahl Personen', fontsize=size)\n",
    "# plt.xlabel('Zeit', fontsize=size)\n",
    "# #plt.title('DIVI-Intensivregister (www.intensivregister.de)  \\n Stand: ' + today, fontsize=size)\n",
    "\n",
    "# plt.title('Intensivstationen in Deutschland (DIVI-Daten)\\n', fontsize=size)\n",
    "# plt.suptitle(today + ' PW', fontsize=size-5, y=0.92)\n",
    "\n",
    "# # fill area between \n",
    "# plt.fill_between(df_divi2.date, df_divi2['COVID-19-Fälle'], color='red',alpha=0.5)\n",
    "# plt.fill_between(df_divi2.date, df_divi2['COVID-19-Fälle'], df_divi2['Belegte Betten'], color='blue',alpha=0.5)\n",
    "\n",
    "# # Diagramm als Bild exporieren und Auflösung definieren\n",
    "# plt.savefig(Laufwerk + pfad_output + name_2_2, dpi = dpi, bbox_inches='tight')\n",
    "# plt.savefig(Laufwerk + pfad_onedrive + name_2_2, dpi = dpi, bbox_inches='tight')\n",
    "\n",
    "# plt.close()"
   ]
  },
  {
   "cell_type": "code",
   "execution_count": 26,
   "metadata": {
    "scrolled": true
   },
   "outputs": [
    {
     "data": {
      "image/png": "[encoded data removed]",
      "text/plain": [
       "<Figure size 1497.6x648 with 1 Axes>"
      ]
     },
     "metadata": {},
     "output_type": "display_data"
    }
   ],
   "source": [
    "# Größe im 16:9 format und mit Umrechnungsfaktor 1.2 (durch Test ermittelt) für PowerPoint angepasst\n",
    "#plt.figure(figsize=(19,9))\n",
    "\n",
    "def y_axis_thousands(x, pos):\n",
    "   # 'The two args are the value and tick position'\n",
    "    return '{:0,d}'.format(int(x)).replace(\",\",\".\")\n",
    "formatter = FuncFormatter(y_axis_thousands)\n",
    "plt.style.use('seaborn')\n",
    "\n",
    "fig, ax = plt.subplots(figsize=(h, v))\n",
    "\n",
    "ax.yaxis.set_major_formatter(formatter)\n",
    "\n",
    "plt.style.use('seaborn')\n",
    "plt.grid(True)\n",
    "\n",
    "#plt.plot(df_divi2.date,df_divi2['Belegte Betten'], color = 'blue', linewidth = lws, label = \"nicht-Covid-19\")\n",
    "ax1 = plt.plot(df_divi2.date,df_divi2['COVID-19-Fälle'], color = 'red', linewidth = lws, label = \"Covid-19\")\n",
    "\n",
    "\n",
    "plt.legend(loc='upper center', \n",
    "           bbox_to_anchor=(0.5, -0.3),\n",
    "           fancybox=True, \n",
    "           shadow=True, \n",
    "           ncol=2, \n",
    "           fontsize=size)\n",
    "\n",
    "# Schriftgrößen x und y achsenwerte\n",
    "plt.xticks(fontsize=size - 10, rotation = 0)\n",
    "plt.yticks(fontsize=size -4)\n",
    "\n",
    "# plt.xticks([])\n",
    "plt.ylabel('Anzahl Personen', fontsize=size)\n",
    "plt.xlabel('Zeit', fontsize=size)\n",
    "#plt.title('DIVI-Intensivregister (www.intensivregister.de)  \\n Stand: ' + today, fontsize=size)\n",
    "\n",
    "plt.title('Intensivstationen in Deutschland (DIVI-Daten)\\n', fontsize=size)\n",
    "plt.suptitle(today + ' PW', fontsize=size-5, y=0.92)\n",
    "\n",
    "# fill area between \n",
    "plt.fill_between(df_divi2.date, df_divi2['COVID-19-Fälle'], color='red',alpha=0.5)\n",
    "#plt.fill_between(df_divi2.date, df_divi2['COVID-19-Fälle'], df_divi2['Belegte Betten'], color='blue',alpha=0.5)\n",
    "\n",
    "locator = mdates.AutoDateLocator(minticks=minticks, maxticks=maxticks)\n",
    "formatter = mdates.ConciseDateFormatter(locator)\n",
    "ax.xaxis.set_major_locator(locator)\n",
    "ax.xaxis.set_major_formatter(formatter)\n",
    "\n",
    "# Diagramm als Bild exporieren und Auflösung definieren\n",
    "plt.savefig(Laufwerk + pfad_output + name_2_3, dpi = dpi, bbox_inches='tight')\n",
    "plt.savefig(Laufwerk + pfad_onedrive + name_2_3, dpi = dpi, bbox_inches='tight')\n",
    "\n",
    "plt.show()"
   ]
  },
  {
   "cell_type": "markdown",
   "metadata": {},
   "source": [
    "## dataframes speichern"
   ]
  },
  {
   "cell_type": "code",
   "execution_count": 27,
   "metadata": {},
   "outputs": [],
   "source": [
    "df_divi2.to_csv(Laufwerk + pfad_output + name_output_df, index=False)"
   ]
  },
  {
   "cell_type": "markdown",
   "metadata": {},
   "source": [
    "## Performance messen"
   ]
  },
  {
   "cell_type": "code",
   "execution_count": 28,
   "metadata": {},
   "outputs": [
    {
     "name": "stdout",
     "output_type": "stream",
     "text": [
      "performance DOUG = 1.27 seconds\n"
     ]
    }
   ],
   "source": [
    "pc = os.environ['COMPUTERNAME']\n",
    "now2 = datetime.now()\n",
    "\n",
    "# Laufzeit\n",
    "x = now2 - now\n",
    "x = round(x.total_seconds(),2)\n",
    "\n",
    "# Performance CSV einlesen\n",
    "d = pd.read_csv(Laufwerk + pfad_output + name_performance)\n",
    "\n",
    "# Neues Dateframe für die Performance definieren\n",
    "now = datetime.now()\n",
    "\n",
    "d2 = {'Date': [now],\n",
    "      'PC': [pc],\n",
    "      'Laufzeit_in_s': [x],\n",
    "      'Version': [Programm_Name]}\n",
    "\n",
    "# Datum Spalte formatieren\n",
    "df2 = pd.DataFrame(d2)\n",
    "df2['Date'] = df2['Date'].dt.strftime('%Y-%m-%d %r')\n",
    "\n",
    "# Performance mit dem CSV verbinden\n",
    "d = d.append(df2, ignore_index=True)\n",
    "\n",
    "# Datenexport Performance\n",
    "d.to_csv(Laufwerk + pfad_output + name_performance, index=False)\n",
    "\n",
    "print(f'performance {pc} = {x} seconds')"
   ]
  }
 ],
 "metadata": {
  "kernelspec": {
   "display_name": "Python 3",
   "language": "python",
   "name": "python3"
  },
  "language_info": {
   "codemirror_mode": {
    "name": "ipython",
    "version": 3
   },
   "file_extension": ".py",
   "mimetype": "text/x-python",
   "name": "python",
   "nbconvert_exporter": "python",
   "pygments_lexer": "ipython3",
   "version": "3.8.3"
  }
 },
 "nbformat": 4,
 "nbformat_minor": 4
}
