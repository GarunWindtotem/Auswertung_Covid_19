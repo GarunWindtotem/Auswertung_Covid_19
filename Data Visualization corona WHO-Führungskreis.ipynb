{
 "cells": [
  {
   "cell_type": "markdown",
   "metadata": {},
   "source": [
    "# COVID-19 Auswertung - new cases, deaths, Intensivstationen\n",
    "## DIVI und WHO Daten - Deutschland und einige Nachbarn\n"
   ]
  },
  {
   "cell_type": "markdown",
   "metadata": {},
   "source": [
    "## import libraries"
   ]
  },
  {
   "cell_type": "code",
   "execution_count": 89,
   "metadata": {},
   "outputs": [],
   "source": [
    "import pandas as pd #Daten\n",
    "from matplotlib import pyplot as plt # plots\n",
    "import numpy as np\n",
    "\n",
    "# performance\n",
    "from datetime import datetime\n",
    "from datetime import date # todays date\n",
    "import seaborn as sns\n",
    "\n",
    "import os\n",
    "now = datetime.now()"
   ]
  },
  {
   "cell_type": "markdown",
   "metadata": {},
   "source": [
    "# Preprocessing Dataframes"
   ]
  },
  {
   "cell_type": "markdown",
   "metadata": {},
   "source": [
    "## Datenimport"
   ]
  },
  {
   "cell_type": "code",
   "execution_count": 90,
   "metadata": {
    "scrolled": false
   },
   "outputs": [],
   "source": [
    "# Webabruf - CSV einlesen\n",
    "data = pd.read_csv(\"https://covid19.who.int/WHO-COVID-19-global-data.csv\")\n",
    "\n",
    "# Lokal - CSV einlesen\n",
    "df = pd.read_csv(\"D:\\Github\\Covid-19-Auswertung-WHO-DIVI\\data-WvhXR.csv\")"
   ]
  },
  {
   "cell_type": "markdown",
   "metadata": {},
   "source": [
    "### preprocessing"
   ]
  },
  {
   "cell_type": "code",
   "execution_count": 91,
   "metadata": {},
   "outputs": [],
   "source": [
    "#gleitender Mittelwert der cases und deaths, 7 Tage\n",
    "data['MA'] = data['New_cases'].rolling(window=7,min_periods=1).mean()\n",
    "data['MA_deaths'] = data['New_deaths'].rolling(window=7, min_periods=1).mean()\n",
    "\n",
    "data['MSTD_cases'] = data['New_cases'].rolling(window=7,min_periods=1).std()\n",
    "data['MSTD_deaths'] = data['New_deaths'].rolling(window=7,min_periods=1).std()\n",
    "\n",
    "data['OTG_cases'] = data['MA'] + data['MSTD_cases']\n",
    "data['UTG_cases'] = data['MA'] - data['MSTD_cases']\n",
    "\n",
    "data['OTG_deaths'] = data['MA_deaths'] + data['MSTD_deaths']\n",
    "data['UTG_deaths'] = data['MA_deaths'] - data['MSTD_deaths']\n",
    "\n",
    "# Date_reported in eine Datumsspalte umwandeln\n",
    "data['Date_reported'] = pd.to_datetime(data.Date_reported, utc=True)\n",
    "\n",
    "df['date'] = pd.to_datetime(df.date, utc=True)\n",
    "\n",
    "#Timestamp definieren  YYYY-MM-DD\n",
    "ts = pd.to_datetime('2020-10-01', utc=True)\n",
    "\n",
    "#dataframe reduzieren \n",
    "data = data.loc[data.Date_reported >= ts, :]\n",
    "df = df.loc[df.date >= ts, :]"
   ]
  },
  {
   "cell_type": "markdown",
   "metadata": {},
   "source": [
    "### Länder definieren"
   ]
  },
  {
   "cell_type": "code",
   "execution_count": 92,
   "metadata": {},
   "outputs": [],
   "source": [
    "ger = data[data.Country == 'Germany']\n",
    "fr = data[data.Country == 'France']\n",
    "at = data[data.Country == 'Austria']\n",
    "pl = data[data.Country == 'Poland']\n",
    "cz = data[data.Country == 'Czechia']\n",
    "ch = data[data.Country == 'Switzerland']\n",
    "it = data[data.Country == 'Italy']\n",
    "es = data[data.Country == 'Spain']\n",
    "gb = data[data.Country == 'The United Kingdom']\n",
    "se = data[data.Country == 'Sweden']\n",
    "\n",
    "#euro = data[data.WHO_region == 'EURO']"
   ]
  },
  {
   "cell_type": "markdown",
   "metadata": {},
   "source": [
    "# Variablen für die Plots definieren"
   ]
  },
  {
   "cell_type": "markdown",
   "metadata": {},
   "source": [
    "### Linien und Schriftgrößen"
   ]
  },
  {
   "cell_type": "code",
   "execution_count": 93,
   "metadata": {},
   "outputs": [],
   "source": [
    "# Linien Stärke\n",
    "lws = 3\n",
    "lwb = 7\n",
    "# Bezugsschriftgröße\n",
    "size = 28"
   ]
  },
  {
   "cell_type": "markdown",
   "metadata": {},
   "source": [
    "### Einwohnerzahlen"
   ]
  },
  {
   "cell_type": "code",
   "execution_count": 94,
   "metadata": {},
   "outputs": [],
   "source": [
    "E_fr = 66012908\n",
    "E_pl = 38659927\n",
    "E_ger = 81504947\n",
    "E_cz = 10586651\n",
    "E_at = 8902600\n",
    "E_ch = 8847020\n",
    "E_gb = 66650000"
   ]
  },
  {
   "cell_type": "markdown",
   "metadata": {},
   "source": [
    " ### Bezugsgröße Einwohner und Datum"
   ]
  },
  {
   "cell_type": "code",
   "execution_count": 95,
   "metadata": {},
   "outputs": [],
   "source": [
    "pE = 100000\n",
    "\n",
    "# Heutiges Datum und formatieren dd.mm.YYYY\n",
    "today = date.today().strftime(\"%d.%m.%Y\")"
   ]
  },
  {
   "cell_type": "markdown",
   "metadata": {},
   "source": [
    "### Speicherorte und Dateinamen"
   ]
  },
  {
   "cell_type": "code",
   "execution_count": 96,
   "metadata": {},
   "outputs": [],
   "source": [
    "pfad = \"D:\\Github\\Covid-19-Auswertung-WHO-DIVI\\plots_Führungskreis\"\n",
    "\n",
    "name_1_1 = \"\\plot_1-1_cases_absolute numbers.jpg\" # cases absoulte zahlen EU\n",
    "name_1_2 = \"\\plot_1-2_cases.jpg\" # cases pro 100.000 Einwohner EU \n",
    "name_2 = \"\\plot_2_intensiv.jpg\" # intensiv Deutschland\n",
    "name_3_1 = \"\\plot_3-1_deaths_absolute numbers.jpg\" # deaths absolute zahlen EU\n",
    "name_3_2 = \"\\plot_3-2_deaths.jpg\" # deaths pro 100.000 Einwohner EU\n",
    "name_4_1 = \"\\plot_4-1_cases_ger.jpg\" # cases Deutschland\n",
    "name_4_2 = \"\\plot_4-2_deaths_ger.jpg\" # deaths Deutschland\n",
    "name_5 = \"D:\\Github\\Covid-19-Auswertung-WHO-DIVI\\performance_dist_Führungskreis.jpg\" # Performance Plot"
   ]
  },
  {
   "cell_type": "markdown",
   "metadata": {},
   "source": [
    "# Visualisierung der Plots"
   ]
  },
  {
   "cell_type": "markdown",
   "metadata": {},
   "source": [
    "### 1-1) Neue Fälle 7 Tage Mittelwert (absolute Zahlen)"
   ]
  },
  {
   "cell_type": "code",
   "execution_count": 97,
   "metadata": {
    "scrolled": true
   },
   "outputs": [],
   "source": [
    "# Größe im 16:9 format und mit Umrechnungsfaktor 1.2 (durch Test ermittelt) für PowerPoint angepasst\n",
    "plt.figure(figsize=(16/1.5,9/1.5))\n",
    "\n",
    "\n",
    "# Neue Fälle pro Tag pro 100.000 Einwohner - 02.12.2020 \n",
    "\n",
    "plt.plot(gb.Date_reported,gb['MA'], 'y--', linewidth = lws, label=\"Großbritannien\")\n",
    "plt.plot(ger.Date_reported,ger['MA'], 'b-', linewidth = lwb, label=\"Deutschland\")\n",
    "plt.plot(fr.Date_reported,fr['MA'], 'r--', linewidth = lws, label=\"Frankreich\")\n",
    "plt.plot(pl.Date_reported,pl['MA'], 'c--', linewidth = lws, label=\"Polen\")\n",
    "plt.plot(cz.Date_reported,cz['MA'], 'm--', linewidth = lws, label=\"Tschechien\")\n",
    "plt.plot(ch.Date_reported,ch['MA'], 'k--', linewidth = lws, label=\"Schweitz\")\n",
    "plt.plot(at.Date_reported,at['MA'], 'g--', linewidth = lws, label=\"Österreich\")\n",
    "\n",
    "plt.legend(loc='center left', \n",
    "           bbox_to_anchor=(1, 0.5),\n",
    "           fancybox=True, \n",
    "           shadow=True, \n",
    "           ncol=1, \n",
    "           fontsize=size)\n",
    "\n",
    "# Schriftgrößen x und y achsenwerte\n",
    "plt.xticks(fontsize=size - 10, rotation=90)\n",
    "plt.yticks(fontsize=size -4)\n",
    "\n",
    "plt.ylabel('Neue Fälle', fontsize=size)\n",
    "plt.title('Neue Fälle pro Tag (absolute Zahlen)  \\n Stand: ' + today, fontsize=size)\n",
    "plt.xlabel('Zeit', fontsize=size)\n",
    "\n",
    "# Diagramm als Bild exporieren und Auflösung definieren\n",
    "plt.savefig(pfad + name_1_1, dpi = 150, bbox_inches='tight')\n",
    "plt.close()"
   ]
  },
  {
   "cell_type": "markdown",
   "metadata": {},
   "source": [
    "### 1-2) Neue Fälle 7 Tage Mittelwert (pro 100.000 Einwohner)"
   ]
  },
  {
   "cell_type": "code",
   "execution_count": 98,
   "metadata": {
    "scrolled": true
   },
   "outputs": [],
   "source": [
    "# Größe im 16:9 format und mit Umrechnungsfaktor 1.2 (durch Test ermittelt) für PowerPoint angepasst\n",
    "plt.figure(figsize=(16/1.5,9/1.5))\n",
    "\n",
    "\n",
    "# Neue Fälle pro Tag pro 100.000 Einwohner - 02.12.2020 \n",
    "\n",
    "plt.plot(cz.Date_reported,cz['MA']* (pE/E_cz), 'm--', linewidth = lws, label=\"Tschechien\")\n",
    "plt.plot(ch.Date_reported,ch['MA']* (pE/E_ch), 'k--', linewidth = lws, label=\"Schweitz\")\n",
    "plt.plot(gb.Date_reported,gb['MA']* (pE/E_gb), 'y--', linewidth = lws, label=\"Großbritannien\")\n",
    "plt.plot(ger.Date_reported,ger['MA']* (pE/E_ger), 'b-', linewidth = lwb, label=\"Deutschland\")\n",
    "plt.plot(at.Date_reported,at['MA']* (pE/E_at), 'g--', linewidth = lws, label=\"Österreich\")\n",
    "\n",
    "plt.plot(pl.Date_reported,pl['MA']* (pE/E_pl), 'c--', linewidth = lws, label=\"Polen\")\n",
    "plt.plot(fr.Date_reported,fr['MA']* (pE/E_fr), 'r--', linewidth = lws, label=\"Frankreich\")\n",
    "\n",
    "plt.legend(loc='center left', \n",
    "           bbox_to_anchor=(1, 0.5),\n",
    "           fancybox=True, \n",
    "           shadow=True, \n",
    "           ncol=1, \n",
    "           fontsize=size)\n",
    "\n",
    "\n",
    "# Schriftgrößen x und y achsenwerte\n",
    "plt.xticks(fontsize=size - 10, rotation=90)\n",
    "plt.yticks(fontsize=size -4)\n",
    "\n",
    "plt.ylabel('Neue Fälle', fontsize=size)\n",
    "plt.title('Neue Fälle pro Tag pro 100.000 Einwohner  \\n Stand: ' + today, fontsize=size)\n",
    "plt.xlabel('Zeit', fontsize=size)\n",
    "\n",
    "# Diagramm als Bild exporieren und Auflösung definieren\n",
    "plt.savefig(pfad + name_1_2, dpi = 150, bbox_inches='tight')\n",
    "plt.close()"
   ]
  },
  {
   "cell_type": "markdown",
   "metadata": {},
   "source": [
    "### 2) Intensivstationen DIVI"
   ]
  },
  {
   "cell_type": "code",
   "execution_count": 99,
   "metadata": {
    "scrolled": true
   },
   "outputs": [],
   "source": [
    "# Größe im 16:9 format und mit Umrechnungsfaktor 1.2 (durch Test ermittelt) für PowerPoint angepasst\n",
    "plt.figure(figsize=(16/1.5,9/1.5))\n",
    "\n",
    "plt.style.use('seaborn')\n",
    "plt.grid(True)\n",
    "plt.plot(df.date,df['COVID-19-Fälle'], 'b-', linewidth = lwb, label = \"Intensiv-\\nstationen \\nDeutschland\")\n",
    "plt.legend(loc='center left', \n",
    "           bbox_to_anchor=(1, 0.5),\n",
    "           fancybox=True, \n",
    "           shadow=True, \n",
    "           ncol=1, \n",
    "           fontsize=size)\n",
    "\n",
    "# Schriftgrößen x und y achsenwerte\n",
    "plt.xticks(fontsize=size - 10, rotation = 90)\n",
    "plt.yticks(fontsize=size -4)\n",
    "\n",
    "# plt.xticks([])\n",
    "plt.ylabel('Anzahl Personen', fontsize=size)\n",
    "plt.title('Intensivstationen Deutschland  \\n Stand: ' + today, fontsize=size)\n",
    "plt.xlabel('Zeit', fontsize=size)\n",
    "\n",
    "# Diagramm als Bild exporieren und Auflösung definieren\n",
    "plt.savefig(pfad + name_2, dpi = 150, bbox_inches='tight')\n",
    "plt.close()"
   ]
  },
  {
   "cell_type": "markdown",
   "metadata": {},
   "source": [
    "###  3-1) Todesfälle 7 Tage Mittelwert (absolute Zahlen) "
   ]
  },
  {
   "cell_type": "code",
   "execution_count": 100,
   "metadata": {},
   "outputs": [],
   "source": [
    "# Größe im 16:9 format und mit Umrechnungsfaktor 1.2 (durch Test ermittelt) für PowerPoint angepasst\n",
    "plt.figure(figsize=(16/1.5,9/1.5))\n",
    "\n",
    "plt.style.use('seaborn')\n",
    "plt.grid(True)\n",
    "\n",
    "# Todesfälle pro 100.000 Einwohner 02.12.2020\n",
    "plt.plot(ger.Date_reported,ger['MA_deaths'], 'b-', linewidth = lwb, label = \"Deutschland\") # blau, linie, dick\n",
    "plt.plot(gb.Date_reported,gb['MA_deaths'], 'y--', linewidth = lws, label = \"Großbritannien\") # gelb, gestrichelt, dünn\n",
    "plt.plot(pl.Date_reported,pl['MA_deaths'], 'c--', linewidth = lws, label = \"Polen\") # cyan, gestrichelt, dünn\n",
    "plt.plot(fr.Date_reported,fr['MA_deaths'], 'r--', linewidth = lws, label = \"Frankreich\") # rot, gestrichelt, dünn\n",
    "plt.plot(cz.Date_reported,cz['MA_deaths'], 'm--', linewidth = lws, label = \"Tschechien\") # magenta, gestrichelt, dünn\n",
    "plt.plot(at.Date_reported,at['MA_deaths'], 'g--', linewidth = lws, label = \"Österreich\") # grün, gestrichelt, dünn\n",
    "plt.plot(ch.Date_reported,ch['MA_deaths'], 'k--', linewidth = lws, label = \"Schweitz\") # schwarz, gestrichelt, dünn\n",
    "\n",
    "\n",
    "\n",
    "\n",
    "\n",
    "# Legende \n",
    "plt.legend(loc='center left', \n",
    "           bbox_to_anchor=(1, 0.5),\n",
    "           fancybox=True, \n",
    "           shadow=True, \n",
    "           ncol=1, \n",
    "           fontsize=size)\n",
    "\n",
    "# Schriftgrößen x und y achsenwerte\n",
    "plt.xticks(fontsize=size - 10, rotation = 90)\n",
    "plt.yticks(fontsize=size -4)\n",
    "plt.ylabel('Todesfälle', fontsize=size)\n",
    "plt.title('Todesfälle pro Tag (absolute Zahlen)  \\n Stand: ' + today, fontsize=size)\n",
    "plt.xlabel('Zeit', fontsize=size)\n",
    "\n",
    "# Diagramm als Bild exporieren und Auflösung definieren\n",
    "plt.savefig(pfad + name_3_1, dpi = 150, bbox_inches='tight')\n",
    "plt.close()"
   ]
  },
  {
   "cell_type": "markdown",
   "metadata": {},
   "source": [
    "###  3-2) Todesfälle 7 Tage Mittelwert (pro 100.000 Einwohner) "
   ]
  },
  {
   "cell_type": "code",
   "execution_count": 101,
   "metadata": {
    "scrolled": true
   },
   "outputs": [],
   "source": [
    "# Größe im 16:9 format und mit Umrechnungsfaktor 1.2 (durch Test ermittelt) für PowerPoint angepasst\n",
    "plt.figure(figsize=(16/1.5,9/1.5))\n",
    "\n",
    "plt.style.use('seaborn')\n",
    "plt.grid(True)\n",
    "\n",
    "# Todesfälle pro 100.000 Einwohner 02.12.2020\n",
    "plt.plot(at.Date_reported,at['MA_deaths'] * (pE/E_at), 'g--', linewidth = lws, label = \"Österreich\") # grün, gestrichelt, dünn\n",
    "plt.plot(cz.Date_reported,cz['MA_deaths'] * (pE/E_cz), 'm--', linewidth = lws, label = \"Tschechien\") # magenta, gestrichelt, dünn\n",
    "plt.plot(pl.Date_reported,pl['MA_deaths'] * (pE/E_pl), 'c--', linewidth = lws, label = \"Polen\") # cyan, gestrichelt, dünn\n",
    "plt.plot(ch.Date_reported,ch['MA_deaths'] * (pE/E_ch), 'k--', linewidth = lws, label = \"Schweitz\") # schwarz, gestrichelt, dünn\n",
    "plt.plot(ger.Date_reported,ger['MA_deaths'] * (pE/E_ger), 'b-', linewidth = lwb, label = \"Deutschland\") # blau, linie, dick\n",
    "plt.plot(gb.Date_reported,gb['MA_deaths'] * (pE/E_gb), 'y--', linewidth = lws, label = \"Großbritannien\") # gelb, gestrichelt, dünn\n",
    "plt.plot(fr.Date_reported,fr['MA_deaths'] * (pE/E_fr), 'r--', linewidth = lws, label = \"Frankreich\") # rot, gestrichelt, dünn\n",
    "\n",
    "\n",
    "# Legende \n",
    "plt.legend(loc='center left', \n",
    "           bbox_to_anchor=(1, 0.5),\n",
    "           fancybox=True, \n",
    "           shadow=True, \n",
    "           ncol=1, \n",
    "           fontsize=size)\n",
    "\n",
    "# Schriftgrößen x und y achsenwerte\n",
    "plt.xticks(fontsize=size - 10, rotation = 90)\n",
    "plt.yticks(fontsize=size -4)\n",
    "plt.ylabel('Todesfälle', fontsize=size)\n",
    "plt.title('Todesfälle pro Tag pro 100.000 Einwohner  \\n Stand: ' + today, fontsize=size)\n",
    "plt.xlabel('Zeit', fontsize=size)\n",
    "\n",
    "# Diagramm als Bild exporieren und Auflösung definieren\n",
    "plt.savefig(pfad + name_3_2, dpi = 150, bbox_inches='tight')\n",
    "plt.close()"
   ]
  },
  {
   "cell_type": "markdown",
   "metadata": {},
   "source": [
    "###  4-1) Cases 7 Tage Mittelwert Deutschland"
   ]
  },
  {
   "cell_type": "code",
   "execution_count": 102,
   "metadata": {
    "scrolled": false
   },
   "outputs": [],
   "source": [
    "# Größe im 16:9 format und mit Umrechnungsfaktor 1.2 (durch Test ermittelt) für PowerPoint angepasst\n",
    "plt.figure(figsize=(16/1.5,9/1.5))\n",
    "\n",
    "# Neue Fälle pro Tag pro 100.000 Einwohner - 02.12.2020 \n",
    "plt.plot(ger.Date_reported,ger['MA'], 'b-', linewidth = lwb, label = \"Deutschland\\n(7-Tage Mittel)\")\n",
    "plt.plot(ger.Date_reported,ger['New_cases'], '.')\n",
    "plt.plot(ger.Date_reported,ger['OTG_cases'], 'r--', linewidth = lws, label =\"+1 sigma\")\n",
    "plt.plot(ger.Date_reported,ger['UTG_cases'], 'r--', linewidth = lws, label =\"-1 sigma\")\n",
    "\n",
    "plt.legend(loc='center left', \n",
    "           bbox_to_anchor=(1, 0.5),\n",
    "           fancybox=True, \n",
    "           shadow=True, \n",
    "           ncol=1, \n",
    "           fontsize=size)\n",
    "\n",
    "# Schriftgrößen x und y achsenwerte\n",
    "plt.xticks(fontsize=size - 10, rotation = 90)\n",
    "plt.yticks(fontsize=size -4)\n",
    "\n",
    "plt.ylabel('Neue Fälle', fontsize=size)\n",
    "plt.title('Neue Fälle pro Tag \\n Stand: ' + today, fontsize=size)\n",
    "plt.xlabel('Zeit', fontsize=size)\n",
    "\n",
    "# Diagramm als Bild exporieren und Auflösung definieren\n",
    "plt.savefig(pfad + name_4_1, dpi = 150, bbox_inches='tight')\n",
    "plt.close()"
   ]
  },
  {
   "cell_type": "markdown",
   "metadata": {},
   "source": [
    "###  4-2) Deaths 7 Tage Mittelwert Deutschland"
   ]
  },
  {
   "cell_type": "code",
   "execution_count": 103,
   "metadata": {
    "scrolled": false
   },
   "outputs": [],
   "source": [
    "# Größe im 16:9 format und mit Umrechnungsfaktor 1.2 (durch Test ermittelt) für PowerPoint angepasst\n",
    "plt.figure(figsize=(16/1.5,9/1.5))\n",
    "\n",
    "plt.style.use('seaborn')\n",
    "plt.grid(True)\n",
    "\n",
    "# Todesfälle pro 100.000 Einwohner 02.12.2020\n",
    "\n",
    "plt.plot(ger.Date_reported,ger['MA_deaths'], 'b-', linewidth = lwb, label = \"Deutschland\\n(7-Tage Mittel)\") # blau, linie, dick\n",
    "plt.plot(ger.Date_reported,ger['New_deaths'], '.')\n",
    "\n",
    "plt.plot(ger.Date_reported,ger['OTG_deaths'], 'r--', linewidth = lws, label =\"+1 sigma\")\n",
    "plt.plot(ger.Date_reported,ger['UTG_deaths'], 'r--', linewidth = lws, label =\"-1 sigma\")\n",
    "\n",
    "# Legende \n",
    "plt.legend(loc='center left', \n",
    "           bbox_to_anchor=(1, 0.5),\n",
    "           fancybox=True, \n",
    "           shadow=True, \n",
    "           ncol=1, \n",
    "           fontsize=size)\n",
    "\n",
    "# Schriftgrößen x und y achsenwerte\n",
    "plt.xticks(fontsize=size - 10, rotation = 90)\n",
    "plt.yticks(fontsize=size -4)\n",
    "plt.ylabel('Todesfälle', fontsize=size)\n",
    "plt.title('Todesfälle pro Tag - Deutschland  \\n Stand: ' + today, fontsize=size)\n",
    "plt.xlabel('Zeit', fontsize=size)\n",
    "\n",
    "# Diagramm als Bild exporieren und Auflösung definieren\n",
    "plt.savefig(pfad + name_4_2, dpi = 150, bbox_inches='tight')\n",
    "plt.close()"
   ]
  },
  {
   "cell_type": "markdown",
   "metadata": {},
   "source": [
    "## Performance messen"
   ]
  },
  {
   "cell_type": "code",
   "execution_count": 104,
   "metadata": {},
   "outputs": [],
   "source": [
    "# performance\n",
    "# pc = os.environ['COMPUTERNAME']\n",
    "# now2 = datetime.now()\n",
    "# print(f'performance {pc} = {now2-now} seconds')"
   ]
  },
  {
   "cell_type": "code",
   "execution_count": 105,
   "metadata": {},
   "outputs": [
    {
     "name": "stdout",
     "output_type": "stream",
     "text": [
      "performance DOUG = 2.95 seconds\n"
     ]
    }
   ],
   "source": [
    "# Performance\n",
    "pc = os.environ['COMPUTERNAME']\n",
    "now2 = datetime.now()\n",
    "\n",
    "x = now2 - now\n",
    "x = round(x.total_seconds(),2)\n",
    "\n",
    "print(f'performance {pc} = {x} seconds')"
   ]
  },
  {
   "cell_type": "code",
   "execution_count": 106,
   "metadata": {},
   "outputs": [],
   "source": [
    "# Performance CSV einlesen\n",
    "d = pd.read_csv('df_performance_Führungskreis.csv')"
   ]
  },
  {
   "cell_type": "code",
   "execution_count": 107,
   "metadata": {},
   "outputs": [],
   "source": [
    "# Neues Dateframe für die Performance definieren\n",
    "now = datetime.now()\n",
    "\n",
    "d2 = {'Date': [now],\n",
    "      'PC': [pc],\n",
    "      'Laufzeit_in_s': [x]}\n",
    "#d2"
   ]
  },
  {
   "cell_type": "code",
   "execution_count": 108,
   "metadata": {},
   "outputs": [],
   "source": [
    "# Datum Spalte formatieren\n",
    "df2 = pd.DataFrame(d2)\n",
    "df2['Date'] = df2['Date'].dt.strftime('%Y-%m-%d %r')"
   ]
  },
  {
   "cell_type": "code",
   "execution_count": 109,
   "metadata": {
    "scrolled": false
   },
   "outputs": [],
   "source": [
    "# Performance mit dem CSV verbinden\n",
    "d = d.append(df2, ignore_index=True)\n",
    "#d.head(3)"
   ]
  },
  {
   "cell_type": "code",
   "execution_count": 110,
   "metadata": {},
   "outputs": [],
   "source": [
    "# Datenexport Performance\n",
    "d.to_csv(r'D:\\Github\\Covid-19-Auswertung-WHO-DIVI\\df_performance_Führungskreis.csv', index=False)"
   ]
  },
  {
   "cell_type": "code",
   "execution_count": 111,
   "metadata": {
    "scrolled": true
   },
   "outputs": [],
   "source": [
    "# Plot Performance\n",
    "sns.set(rc={'figure.figsize':(16,9)})\n",
    "sns_plot = sns.distplot(d['Laufzeit_in_s'],\n",
    "            kde=True,\n",
    "            rug=True,\n",
    "            )\n",
    "sns_plot.set_title('Performance plots Führungskreis',size=size)\n",
    "sns_plot.set_ylabel('Wahrscheinlichkeit', size = size -5)\n",
    "sns_plot.set_xlabel('Laufzeit [s]', size = size -5)\n",
    "fig = sns_plot.get_figure()\n",
    "fig.savefig(name_5) \n",
    "plt.close()"
   ]
  }
 ],
 "metadata": {
  "kernelspec": {
   "display_name": "Python 3",
   "language": "python",
   "name": "python3"
  },
  "language_info": {
   "codemirror_mode": {
    "name": "ipython",
    "version": 3
   },
   "file_extension": ".py",
   "mimetype": "text/x-python",
   "name": "python",
   "nbconvert_exporter": "python",
   "pygments_lexer": "ipython3",
   "version": "3.8.3"
  }
 },
 "nbformat": 4,
 "nbformat_minor": 4
}
