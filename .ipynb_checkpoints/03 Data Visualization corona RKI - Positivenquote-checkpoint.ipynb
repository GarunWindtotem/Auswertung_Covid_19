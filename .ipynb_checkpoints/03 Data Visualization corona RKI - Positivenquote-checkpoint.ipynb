{
 "cells": [
  {
   "cell_type": "markdown",
   "metadata": {},
   "source": [
    "# COVID-19 Auswertung - Positivenquote"
   ]
  },
  {
   "cell_type": "markdown",
   "metadata": {},
   "source": [
    "## import libraries"
   ]
  },
  {
   "cell_type": "code",
   "execution_count": 43,
   "metadata": {},
   "outputs": [],
   "source": [
    "Programm_Name = \"Testungen\" # 04.01.2021 - Time Series Impffdaten erstellen"
   ]
  },
  {
   "cell_type": "markdown",
   "metadata": {},
   "source": [
    "### Speicherorte und Dateinamen Plots"
   ]
  },
  {
   "cell_type": "code",
   "execution_count": 44,
   "metadata": {},
   "outputs": [],
   "source": [
    "Laufwerk = \"D:\\\\\"\n",
    "pfad_output = \"Github\\\\Auswertung_Covid_19\\\\output\\\\\"\n",
    "pfad_onedrive = \"OneDrive\\\\Auswertung_Covid_19\\\\\"\n",
    "pfad_input = \"Github\\\\Auswertung_Covid_19\\\\input\\\\\"\n",
    "\n",
    "name_input = \"Testzahlen-gesamt.xlsx\"\n",
    "\n",
    "name_6 = \"plot_6_Positivenquote_ger.png\" # Positivenquote\n",
    "name_6_2 = \"plot_6-2_Anzahl_Testungen_ger.png\" # Anzahl Testungen\n",
    "\n",
    "\n",
    "name_output_df_EW = 'Dataframes\\\\df_PQ.csv'\n",
    "\n",
    "name_performance = 'Dataframes\\\\df_performance.csv'"
   ]
  },
  {
   "cell_type": "code",
   "execution_count": 45,
   "metadata": {},
   "outputs": [],
   "source": [
    "import pandas as pd #Daten\n",
    "from matplotlib import pyplot as plt # plots\n",
    "#import matplotlib as mpl\n",
    "from matplotlib.ticker import FuncFormatter   # Numberformat plot ticks\n",
    "#import numpy as np\n",
    "\n",
    "# performance\n",
    "from datetime import datetime\n",
    "from datetime import date # todays date\n",
    "import seaborn as sns\n",
    "\n",
    "import os\n",
    "now = datetime.now()"
   ]
  },
  {
   "cell_type": "code",
   "execution_count": 46,
   "metadata": {},
   "outputs": [],
   "source": [
    "E_fr = 66_012_908\n",
    "E_pl = 38_659_927\n",
    "E_ger = 83_020_000\n",
    "E_cz = 10_586_651\n",
    "E_at = 8_902_600\n",
    "E_ch = 8_847_020\n",
    "E_gb = 66_650_000\n",
    "\n",
    "E_isr = 8_884_000\n",
    "E_usa = 328_200_000\n",
    "E_rus = 144_500_000\n",
    "E_ita = 60_360_000\n",
    "E_spa = 46_940_000\n",
    "E_se = 10_230_000"
   ]
  },
  {
   "cell_type": "code",
   "execution_count": null,
   "metadata": {},
   "outputs": [],
   "source": []
  },
  {
   "cell_type": "markdown",
   "metadata": {},
   "source": [
    "# Preprocessing Dataframes"
   ]
  },
  {
   "cell_type": "code",
   "execution_count": 47,
   "metadata": {},
   "outputs": [],
   "source": [
    "today = date.today().strftime(\"%d.%m.%Y\")"
   ]
  },
  {
   "cell_type": "markdown",
   "metadata": {},
   "source": [
    "## Datenimport"
   ]
  },
  {
   "cell_type": "code",
   "execution_count": 48,
   "metadata": {},
   "outputs": [],
   "source": [
    "# df_"
   ]
  },
  {
   "cell_type": "code",
   "execution_count": 49,
   "metadata": {
    "scrolled": false
   },
   "outputs": [],
   "source": [
    "# Datenimport Positivenquote\n",
    "df_PQ = pd.read_excel(Laufwerk + pfad_input + name_input,\n",
    "                    sheet_name =\"1_Testzahlerfassung\",\n",
    "                    usecols=\"A:E\",\n",
    "                    skiprows=\"\")"
   ]
  },
  {
   "cell_type": "code",
   "execution_count": 50,
   "metadata": {},
   "outputs": [
    {
     "data": {
      "text/html": [
       "<div>\n",
       "<style scoped>\n",
       "    .dataframe tbody tr th:only-of-type {\n",
       "        vertical-align: middle;\n",
       "    }\n",
       "\n",
       "    .dataframe tbody tr th {\n",
       "        vertical-align: top;\n",
       "    }\n",
       "\n",
       "    .dataframe thead th {\n",
       "        text-align: right;\n",
       "    }\n",
       "</style>\n",
       "<table border=\"1\" class=\"dataframe\">\n",
       "  <thead>\n",
       "    <tr style=\"text-align: right;\">\n",
       "      <th></th>\n",
       "      <th>Kalenderwoche</th>\n",
       "      <th>Anzahl Testungen</th>\n",
       "      <th>Positiv getestet</th>\n",
       "      <th>Positivenanteil (%)</th>\n",
       "      <th>Anzahl übermittelnder Labore</th>\n",
       "    </tr>\n",
       "  </thead>\n",
       "  <tbody>\n",
       "    <tr>\n",
       "      <th>0</th>\n",
       "      <td>Bis einschließlich KW10, 2020</td>\n",
       "      <td>69493</td>\n",
       "      <td>1722</td>\n",
       "      <td>NaN</td>\n",
       "      <td>NaN</td>\n",
       "    </tr>\n",
       "    <tr>\n",
       "      <th>1</th>\n",
       "      <td>11/2020</td>\n",
       "      <td>129291</td>\n",
       "      <td>7502</td>\n",
       "      <td>5.802415</td>\n",
       "      <td>119.0</td>\n",
       "    </tr>\n",
       "    <tr>\n",
       "      <th>2</th>\n",
       "      <td>12/2020</td>\n",
       "      <td>374534</td>\n",
       "      <td>25886</td>\n",
       "      <td>6.911522</td>\n",
       "      <td>154.0</td>\n",
       "    </tr>\n",
       "    <tr>\n",
       "      <th>3</th>\n",
       "      <td>13/2020</td>\n",
       "      <td>377599</td>\n",
       "      <td>33139</td>\n",
       "      <td>8.776241</td>\n",
       "      <td>159.0</td>\n",
       "    </tr>\n",
       "    <tr>\n",
       "      <th>4</th>\n",
       "      <td>14/2020</td>\n",
       "      <td>417646</td>\n",
       "      <td>37649</td>\n",
       "      <td>9.014572</td>\n",
       "      <td>163.0</td>\n",
       "    </tr>\n",
       "    <tr>\n",
       "      <th>...</th>\n",
       "      <td>...</td>\n",
       "      <td>...</td>\n",
       "      <td>...</td>\n",
       "      <td>...</td>\n",
       "      <td>...</td>\n",
       "    </tr>\n",
       "    <tr>\n",
       "      <th>59</th>\n",
       "      <td>16/2021</td>\n",
       "      <td>1427509</td>\n",
       "      <td>177250</td>\n",
       "      <td>12.416734</td>\n",
       "      <td>211.0</td>\n",
       "    </tr>\n",
       "    <tr>\n",
       "      <th>60</th>\n",
       "      <td>17/2021</td>\n",
       "      <td>1360792</td>\n",
       "      <td>152086</td>\n",
       "      <td>11.176286</td>\n",
       "      <td>210.0</td>\n",
       "    </tr>\n",
       "    <tr>\n",
       "      <th>61</th>\n",
       "      <td>18/2021</td>\n",
       "      <td>1242437</td>\n",
       "      <td>127733</td>\n",
       "      <td>10.280843</td>\n",
       "      <td>207.0</td>\n",
       "    </tr>\n",
       "    <tr>\n",
       "      <th>62</th>\n",
       "      <td>19/2021</td>\n",
       "      <td>1082880</td>\n",
       "      <td>89408</td>\n",
       "      <td>8.256501</td>\n",
       "      <td>204.0</td>\n",
       "    </tr>\n",
       "    <tr>\n",
       "      <th>63</th>\n",
       "      <td>Summe</td>\n",
       "      <td>59197639</td>\n",
       "      <td>4068857</td>\n",
       "      <td>NaN</td>\n",
       "      <td>NaN</td>\n",
       "    </tr>\n",
       "  </tbody>\n",
       "</table>\n",
       "<p>64 rows × 5 columns</p>\n",
       "</div>"
      ],
      "text/plain": [
       "                    Kalenderwoche  Anzahl Testungen  Positiv getestet  \\\n",
       "0   Bis einschließlich KW10, 2020             69493              1722   \n",
       "1                         11/2020            129291              7502   \n",
       "2                         12/2020            374534             25886   \n",
       "3                         13/2020            377599             33139   \n",
       "4                         14/2020            417646             37649   \n",
       "..                            ...               ...               ...   \n",
       "59                        16/2021           1427509            177250   \n",
       "60                        17/2021           1360792            152086   \n",
       "61                        18/2021           1242437            127733   \n",
       "62                        19/2021           1082880             89408   \n",
       "63                          Summe          59197639           4068857   \n",
       "\n",
       "    Positivenanteil (%)  Anzahl übermittelnder Labore  \n",
       "0                   NaN                           NaN  \n",
       "1              5.802415                         119.0  \n",
       "2              6.911522                         154.0  \n",
       "3              8.776241                         159.0  \n",
       "4              9.014572                         163.0  \n",
       "..                  ...                           ...  \n",
       "59            12.416734                         211.0  \n",
       "60            11.176286                         210.0  \n",
       "61            10.280843                         207.0  \n",
       "62             8.256501                         204.0  \n",
       "63                  NaN                           NaN  \n",
       "\n",
       "[64 rows x 5 columns]"
      ]
     },
     "execution_count": 50,
     "metadata": {},
     "output_type": "execute_result"
    }
   ],
   "source": [
    "df_PQ"
   ]
  },
  {
   "cell_type": "markdown",
   "metadata": {},
   "source": [
    "## preprocessing"
   ]
  },
  {
   "cell_type": "code",
   "execution_count": 51,
   "metadata": {},
   "outputs": [
    {
     "data": {
      "text/html": [
       "<div>\n",
       "<style scoped>\n",
       "    .dataframe tbody tr th:only-of-type {\n",
       "        vertical-align: middle;\n",
       "    }\n",
       "\n",
       "    .dataframe tbody tr th {\n",
       "        vertical-align: top;\n",
       "    }\n",
       "\n",
       "    .dataframe thead th {\n",
       "        text-align: right;\n",
       "    }\n",
       "</style>\n",
       "<table border=\"1\" class=\"dataframe\">\n",
       "  <thead>\n",
       "    <tr style=\"text-align: right;\">\n",
       "      <th></th>\n",
       "      <th>Kalenderwoche</th>\n",
       "      <th>Anzahl Testungen</th>\n",
       "      <th>Positiv getestet</th>\n",
       "      <th>Positivenquote</th>\n",
       "    </tr>\n",
       "  </thead>\n",
       "  <tbody>\n",
       "    <tr>\n",
       "      <th>1</th>\n",
       "      <td>KW 11/2020</td>\n",
       "      <td>129291</td>\n",
       "      <td>7502</td>\n",
       "      <td>5.8</td>\n",
       "    </tr>\n",
       "    <tr>\n",
       "      <th>2</th>\n",
       "      <td>KW 12/2020</td>\n",
       "      <td>374534</td>\n",
       "      <td>25886</td>\n",
       "      <td>6.9</td>\n",
       "    </tr>\n",
       "    <tr>\n",
       "      <th>3</th>\n",
       "      <td>KW 13/2020</td>\n",
       "      <td>377599</td>\n",
       "      <td>33139</td>\n",
       "      <td>8.8</td>\n",
       "    </tr>\n",
       "    <tr>\n",
       "      <th>4</th>\n",
       "      <td>KW 14/2020</td>\n",
       "      <td>417646</td>\n",
       "      <td>37649</td>\n",
       "      <td>9.0</td>\n",
       "    </tr>\n",
       "    <tr>\n",
       "      <th>5</th>\n",
       "      <td>KW 15/2020</td>\n",
       "      <td>386241</td>\n",
       "      <td>30829</td>\n",
       "      <td>8.0</td>\n",
       "    </tr>\n",
       "    <tr>\n",
       "      <th>...</th>\n",
       "      <td>...</td>\n",
       "      <td>...</td>\n",
       "      <td>...</td>\n",
       "      <td>...</td>\n",
       "    </tr>\n",
       "    <tr>\n",
       "      <th>58</th>\n",
       "      <td>KW 15/2021</td>\n",
       "      <td>1312602</td>\n",
       "      <td>163464</td>\n",
       "      <td>12.5</td>\n",
       "    </tr>\n",
       "    <tr>\n",
       "      <th>59</th>\n",
       "      <td>KW 16/2021</td>\n",
       "      <td>1427509</td>\n",
       "      <td>177250</td>\n",
       "      <td>12.4</td>\n",
       "    </tr>\n",
       "    <tr>\n",
       "      <th>60</th>\n",
       "      <td>KW 17/2021</td>\n",
       "      <td>1360792</td>\n",
       "      <td>152086</td>\n",
       "      <td>11.2</td>\n",
       "    </tr>\n",
       "    <tr>\n",
       "      <th>61</th>\n",
       "      <td>KW 18/2021</td>\n",
       "      <td>1242437</td>\n",
       "      <td>127733</td>\n",
       "      <td>10.3</td>\n",
       "    </tr>\n",
       "    <tr>\n",
       "      <th>62</th>\n",
       "      <td>KW 19/2021</td>\n",
       "      <td>1082880</td>\n",
       "      <td>89408</td>\n",
       "      <td>8.3</td>\n",
       "    </tr>\n",
       "  </tbody>\n",
       "</table>\n",
       "<p>62 rows × 4 columns</p>\n",
       "</div>"
      ],
      "text/plain": [
       "   Kalenderwoche  Anzahl Testungen  Positiv getestet  Positivenquote\n",
       "1     KW 11/2020            129291              7502             5.8\n",
       "2     KW 12/2020            374534             25886             6.9\n",
       "3     KW 13/2020            377599             33139             8.8\n",
       "4     KW 14/2020            417646             37649             9.0\n",
       "5     KW 15/2020            386241             30829             8.0\n",
       "..           ...               ...               ...             ...\n",
       "58    KW 15/2021           1312602            163464            12.5\n",
       "59    KW 16/2021           1427509            177250            12.4\n",
       "60    KW 17/2021           1360792            152086            11.2\n",
       "61    KW 18/2021           1242437            127733            10.3\n",
       "62    KW 19/2021           1082880             89408             8.3\n",
       "\n",
       "[62 rows x 4 columns]"
      ]
     },
     "execution_count": 51,
     "metadata": {},
     "output_type": "execute_result"
    }
   ],
   "source": [
    "# preprocessing Positivenquote\n",
    "df_PQ = df_PQ.drop(columns=['Anzahl übermittelnder Labore', 'Positivenanteil (%)'])\n",
    "df_PQ = df_PQ.replace('\\*','',regex=True)\n",
    "df_PQ.drop(df_PQ.tail(1).index,inplace=True) # drop last n rows\n",
    "df_PQ.drop(df_PQ.head(1).index,inplace=True) # drop first n rows\n",
    "#df_PQ[\"Positiven-quote (%)\"] = df_PQ[\"Positiven-quote (%)\"].astype(str)+ \" %\"\n",
    "df_PQ[\"Kalenderwoche\"] = \"KW \"+df_PQ[\"Kalenderwoche\"].astype(str)\n",
    "\n",
    "df_PQ[\"Positivenquote\"] = round(100*(df_PQ[\"Positiv getestet\"]/df_PQ[\"Anzahl Testungen\"]),1)\n",
    "df_PQ"
   ]
  },
  {
   "cell_type": "markdown",
   "metadata": {},
   "source": [
    "### Linien und Schriftgrößen"
   ]
  },
  {
   "cell_type": "code",
   "execution_count": 52,
   "metadata": {},
   "outputs": [],
   "source": [
    "# Linien Stärke\n",
    "lws = 3\n",
    "lwb = 7\n",
    "# Bezugsschriftgröße\n",
    "size = 25\n",
    "\n",
    "# output größe der bilder\n",
    "h = 16*1.1\n",
    "v = 9\n",
    "dpi = 200"
   ]
  },
  {
   "cell_type": "markdown",
   "metadata": {},
   "source": [
    " ### Bezugsgröße Einwohner"
   ]
  },
  {
   "cell_type": "code",
   "execution_count": 53,
   "metadata": {},
   "outputs": [],
   "source": [
    "pE = 100_000"
   ]
  },
  {
   "cell_type": "markdown",
   "metadata": {},
   "source": [
    "## Länder Farben"
   ]
  },
  {
   "cell_type": "code",
   "execution_count": 54,
   "metadata": {},
   "outputs": [],
   "source": [
    "c_fr = '#f80d0d'    # rot\n",
    "c_pl = '#25e5e5'    # cyan\n",
    "c_isr = '#25e5e5'\n",
    "c_ger = '#0721ff'   # dunkelblau\n",
    "c_cz = '#bb8fce'    # lila\n",
    "c_usa = '#bb8fce'\n",
    "c_at = '#18c213'    # grün\n",
    "c_rus = '#18c213'\n",
    "c_se = '#18c213'\n",
    "c_ch = '#000000'    # schwarz\n",
    "c_ita = '#000000'\n",
    "c_gb = '#faac2b'    # orange"
   ]
  },
  {
   "cell_type": "markdown",
   "metadata": {},
   "source": [
    "### Einwohnerzahlen"
   ]
  },
  {
   "cell_type": "code",
   "execution_count": 55,
   "metadata": {},
   "outputs": [],
   "source": [
    "E_fr = 66_012_908\n",
    "E_pl = 38_659_927\n",
    "E_ger = 83_020_000\n",
    "E_cz = 10_586_651\n",
    "E_at = 8_902_600\n",
    "E_ch = 8_847_020\n",
    "E_gb = 66_650_000\n",
    "\n",
    "E_isr = 8_884_000\n",
    "E_usa = 328_200_000\n",
    "E_rus = 144_500_000\n",
    "E_ita = 60_360_000\n",
    "E_spa = 46_940_000\n",
    "E_se = 10_230_000"
   ]
  },
  {
   "cell_type": "markdown",
   "metadata": {},
   "source": [
    "# Visualisierung der Plots"
   ]
  },
  {
   "cell_type": "code",
   "execution_count": 56,
   "metadata": {},
   "outputs": [],
   "source": [
    "# ts = pd.to_datetime('2020-12-15', utc=True)\n",
    "# #dataframe reduzieren \n",
    "# data = data.loc[data.Date_reported >= ts, :]\n",
    "# ger = data[data.Country == 'Germany']"
   ]
  },
  {
   "cell_type": "code",
   "execution_count": 64,
   "metadata": {},
   "outputs": [
    {
     "name": "stdout",
     "output_type": "stream",
     "text": [
      "y = 14.783999999999999\n",
      "x = 31.0\n"
     ]
    }
   ],
   "source": [
    "y = max(df_PQ[\"Positivenquote\"])*0.96\n",
    "print(f'y = {y}')\n",
    "\n",
    "x=(1/2)*df_PQ[\"Kalenderwoche\"].count()\n",
    "print(f'x = {x}')\n"
   ]
  },
  {
   "cell_type": "markdown",
   "metadata": {},
   "source": [
    "## RKI Positivenquote pro Woche"
   ]
  },
  {
   "cell_type": "code",
   "execution_count": 65,
   "metadata": {
    "scrolled": false
   },
   "outputs": [
    {
     "data": {
      "image/png": "[encoded data removed]",
      "text/plain": [
       "<Figure size 1267.2x777.6 with 1 Axes>"
      ]
     },
     "metadata": {},
     "output_type": "display_data"
    }
   ],
   "source": [
    "# Größe im 16:9 format und mit Umrechnungsfaktor 1.2 (durch Test ermittelt) für PowerPoint angepasst\n",
    "plt.figure(figsize=(h,v*1.2))\n",
    "\n",
    "plt.style.use('seaborn')\n",
    "\n",
    "plt.bar(x=df_PQ[\"Kalenderwoche\"], height=df_PQ[\"Positivenquote\"], width = 0.9, align = 'center', color = c_ger)\n",
    "\n",
    "# # Schriftgrößen x und y achsenwerte\n",
    "plt.xticks(fontsize=size - 15, rotation=90)\n",
    "plt.yticks(fontsize=size -4)\n",
    "\n",
    "plt.ylabel('Positivenquote in %', fontsize=size)\n",
    "plt.xlabel('Zeit', fontsize=size)\n",
    "\n",
    "plt.title('Positivenquote - Deutschland (RKI-Daten)\\n', fontsize=size+10)\n",
    "plt.suptitle(today + ' PW', fontsize=size-5, y=0.92)\n",
    "\n",
    "\n",
    "plt.text(x, y, r'Positivenquote =  $\\frac{Positive\\ Tests}{Anzahl\\ Tests}\\cdot100$', horizontalalignment='center', size=size-4, style='italic',color = \"white\",\n",
    "        bbox={'facecolor': c_ger, 'alpha': 0.5, 'pad': 5})\n",
    "\n",
    "# Diagramm als Bild exporieren und Auflösung definieren\n",
    "plt.savefig(Laufwerk + pfad_output + name_6, dpi = dpi, bbox_inches='tight')\n",
    "plt.savefig(Laufwerk + pfad_onedrive + name_6, dpi = dpi, bbox_inches='tight')\n",
    "\n",
    "plt.show()"
   ]
  },
  {
   "cell_type": "markdown",
   "metadata": {},
   "source": [
    "## RKI Testungen pro Woche"
   ]
  },
  {
   "cell_type": "code",
   "execution_count": 59,
   "metadata": {},
   "outputs": [],
   "source": [
    "#df_PQ.head(1)"
   ]
  },
  {
   "cell_type": "code",
   "execution_count": 60,
   "metadata": {
    "scrolled": false
   },
   "outputs": [],
   "source": [
    "def millions(x, pos):\n",
    "   # 'The two args are the value and tick position'\n",
    "    return '%1.1f Mio' % (x * 1e-6)\n",
    "formatter = FuncFormatter(millions)\n",
    "\n",
    "\n",
    "fig = plt.figure(figsize=(h,v))\n",
    "ax = fig.add_subplot()\n",
    "ax.yaxis.set_major_formatter(formatter)\n",
    "\n",
    "\n",
    "ax = plt.bar(x=df_PQ[\"Kalenderwoche\"], height=df_PQ[\"Anzahl Testungen\"], width = 0.9, align = 'center', color = c_ger)\n",
    "\n",
    "# # Schriftgrößen x und y achsenwerte\n",
    "plt.xticks(fontsize=size - 15, rotation=90)\n",
    "plt.yticks(fontsize=size -4)\n",
    "\n",
    "\n",
    "plt.ylabel('Anzahl Testungen', fontsize=size+10)\n",
    "plt.xlabel('Zeit', fontsize=size)\n",
    "\n",
    "plt.title('Anzahl Testungen (RKI-Daten)\\n', fontsize=size+10)\n",
    "plt.suptitle(today + ' PW', fontsize=size-5, y=0.92)\n",
    "\n",
    "#plt.figure(figsize=(16,9))\n",
    "\n",
    "fig.savefig(Laufwerk + pfad_output + name_6_2, dpi = dpi, bbox_inches='tight')\n",
    "fig.savefig(Laufwerk + pfad_onedrive + name_6_2, dpi = dpi, bbox_inches='tight')\n",
    "\n",
    "plt.close()"
   ]
  },
  {
   "cell_type": "markdown",
   "metadata": {},
   "source": [
    "## dataframes speichern"
   ]
  },
  {
   "cell_type": "code",
   "execution_count": 61,
   "metadata": {},
   "outputs": [],
   "source": [
    "df_PQ.to_csv(Laufwerk + pfad_output + name_output_df_EW, index=False)"
   ]
  },
  {
   "cell_type": "markdown",
   "metadata": {},
   "source": [
    "## Performance messen"
   ]
  },
  {
   "cell_type": "code",
   "execution_count": 62,
   "metadata": {},
   "outputs": [
    {
     "name": "stdout",
     "output_type": "stream",
     "text": [
      "performance DOUG = 4.16 seconds\n"
     ]
    }
   ],
   "source": [
    "pc = os.environ['COMPUTERNAME']\n",
    "now2 = datetime.now()\n",
    "\n",
    "# Laufzeit\n",
    "x = now2 - now\n",
    "x = round(x.total_seconds(),2)\n",
    "\n",
    "# Performance CSV einlesen\n",
    "d = pd.read_csv(Laufwerk + pfad_output + name_performance)\n",
    "\n",
    "# Neues Dateframe für die Performance definieren\n",
    "now = datetime.now()\n",
    "\n",
    "d2 = {'Date': [now],\n",
    "      'PC': [pc],\n",
    "      'Laufzeit_in_s': [x],\n",
    "      'Version': [Programm_Name]}\n",
    "\n",
    "# Datum Spalte formatieren\n",
    "df2 = pd.DataFrame(d2)\n",
    "df2['Date'] = df2['Date'].dt.strftime('%Y-%m-%d %r')\n",
    "\n",
    "# Performance mit dem CSV verbinden\n",
    "d = d.append(df2, ignore_index=True)\n",
    "\n",
    "# Datenexport Performance\n",
    "d.to_csv(Laufwerk + pfad_output + name_performance, index=False)\n",
    "\n",
    "print(f'performance {pc} = {x} seconds')"
   ]
  },
  {
   "cell_type": "code",
   "execution_count": null,
   "metadata": {},
   "outputs": [],
   "source": []
  }
 ],
 "metadata": {
  "kernelspec": {
   "display_name": "Python 3",
   "language": "python",
   "name": "python3"
  },
  "language_info": {
   "codemirror_mode": {
    "name": "ipython",
    "version": 3
   },
   "file_extension": ".py",
   "mimetype": "text/x-python",
   "name": "python",
   "nbconvert_exporter": "python",
   "pygments_lexer": "ipython3",
   "version": "3.8.3"
  }
 },
 "nbformat": 4,
 "nbformat_minor": 4
}
