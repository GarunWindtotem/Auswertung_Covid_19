{
 "cells": [
  {
   "cell_type": "markdown",
   "metadata": {},
   "source": [
    "# COVID-19 Auswertung - Impfungen\n"
   ]
  },
  {
   "cell_type": "markdown",
   "metadata": {},
   "source": [
    "## import libraries"
   ]
  },
  {
   "cell_type": "code",
   "execution_count": 1,
   "metadata": {},
   "outputs": [],
   "source": [
    "Programm_Name = \"Impfungen\" # 04.01.2021 - Time Series Impffdaten erstellen"
   ]
  },
  {
   "cell_type": "code",
   "execution_count": 2,
   "metadata": {},
   "outputs": [],
   "source": [
    "import pandas as pd #Daten\n",
    "from matplotlib import pyplot as plt # plots\n",
    "#import matplotlib as mpl\n",
    "from matplotlib.ticker import FuncFormatter   # Numberformat plot ticks\n",
    "import numpy as np\n",
    "\n",
    "# performance\n",
    "from datetime import datetime\n",
    "from datetime import date # todays date\n",
    "#import seaborn as sns\n",
    "\n",
    "import os\n",
    "now = datetime.now()"
   ]
  },
  {
   "cell_type": "markdown",
   "metadata": {},
   "source": [
    "# Variablen für die Plots definieren"
   ]
  },
  {
   "cell_type": "markdown",
   "metadata": {},
   "source": [
    "### Linien und Schriftgrößen"
   ]
  },
  {
   "cell_type": "code",
   "execution_count": 3,
   "metadata": {},
   "outputs": [],
   "source": [
    "# Linien Stärke\n",
    "lws = 3\n",
    "lwb = 7\n",
    "# Bezugsschriftgröße\n",
    "size = 25"
   ]
  },
  {
   "cell_type": "markdown",
   "metadata": {},
   "source": [
    " ### Bezugsgröße Einwohner"
   ]
  },
  {
   "cell_type": "code",
   "execution_count": 4,
   "metadata": {},
   "outputs": [],
   "source": [
    "pE = 100_000"
   ]
  },
  {
   "cell_type": "markdown",
   "metadata": {},
   "source": [
    "### Speicherorte und Dateinamen Plots"
   ]
  },
  {
   "cell_type": "code",
   "execution_count": 5,
   "metadata": {},
   "outputs": [],
   "source": [
    "pfad = \"D:\\\\Github\\\\Covid-19-Auswertung-WHO-DIVI\\\\output\\\\\"\n",
    "\n",
    "name_7 = \"plot_7_Impfquote_ger.png\" # Impfquote Deutschland Bundesländer\n",
    "name_7_2 = \"plot_7-2_Impfungen_Timeseries_ger.png\" # Impfungen Timeseries Deutschland\n",
    "name_7_3 = \"plot_7-3_Impfungen_Timeseries_ger.png\" # Impfungen Timeseries Deutschland"
   ]
  },
  {
   "cell_type": "markdown",
   "metadata": {},
   "source": [
    "## Länder Farben"
   ]
  },
  {
   "cell_type": "code",
   "execution_count": 6,
   "metadata": {},
   "outputs": [],
   "source": [
    "c_fr = '#f80d0d'    # rot\n",
    "c_pl = '#25e5e5'    # cyan\n",
    "c_isr = '#25e5e5'\n",
    "c_ger = '#0721ff'   # dunkelblau\n",
    "c_cz = '#bb8fce'    # lila\n",
    "c_usa = '#bb8fce'\n",
    "c_at = '#18c213'    # grün\n",
    "c_rus = '#18c213'\n",
    "c_se = '#18c213'\n",
    "c_ch = '#000000'    # schwarz\n",
    "c_ita = '#000000'\n",
    "c_gb = '#faac2b'    # orange\n"
   ]
  },
  {
   "cell_type": "markdown",
   "metadata": {},
   "source": [
    "### Einwohnerzahlen"
   ]
  },
  {
   "cell_type": "code",
   "execution_count": 7,
   "metadata": {},
   "outputs": [],
   "source": [
    "E_fr = 66_012_908\n",
    "E_pl = 38_659_927\n",
    "E_ger = 83_020_000\n",
    "E_cz = 10_586_651\n",
    "E_at = 8_902_600\n",
    "E_ch = 8_847_020\n",
    "E_gb = 66_650_000\n",
    "\n",
    "E_isr = 8_884_000\n",
    "E_usa = 328_200_000\n",
    "E_rus = 144_500_000\n",
    "E_ita = 60_360_000\n",
    "E_spa = 46_940_000\n",
    "E_se = 10_230_000\n"
   ]
  },
  {
   "cell_type": "markdown",
   "metadata": {},
   "source": [
    "# Preprocessing Dataframes"
   ]
  },
  {
   "cell_type": "code",
   "execution_count": 8,
   "metadata": {},
   "outputs": [],
   "source": [
    "today = date.today().strftime(\"%d.%m.%Y\")"
   ]
  },
  {
   "cell_type": "markdown",
   "metadata": {},
   "source": [
    "## Datenimport"
   ]
  },
  {
   "cell_type": "code",
   "execution_count": 9,
   "metadata": {
    "scrolled": false
   },
   "outputs": [],
   "source": [
    "# Datenimport Einwohnerdaten Bundesländer\n",
    "df_EW = pd.read_excel(\"D:\\\\Github\\\\Covid-19-Auswertung-WHO-DIVI\\\\input\\\\02-bundeslaender.xlsx\",\n",
    "                     sheet_name=\"Bundesländer_mit_Hauptstädten\",\n",
    "                     usecols=\"A:G\",\n",
    "                     skiprows=6)\n",
    "\n",
    "\n",
    "# Impfungen sheet_name der Datenquelle auslesen\n",
    "df_I_sheet = pd.read_excel(\"D:\\\\Github\\\\Covid-19-Auswertung-WHO-DIVI\\\\input\\\\Impfquotenmonitoring.xlsx\", None)\n",
    "sheet_name = df_I_sheet.keys()         # Tabellenblätter Namen auslesen\n",
    "sheet_name = [*sheet_name][1]          # Namen des zweiten Tabellenblattes anzeigen [*dict] dict keyword->list Index 1 anzeigen\n",
    "\n",
    "\n",
    "# Datenimport Impfungen\n",
    "df_I = pd.read_excel(\"D:\\\\Github\\\\Covid-19-Auswertung-WHO-DIVI\\\\input\\\\Impfquotenmonitoring.xlsx\",\n",
    "                    sheet_name = sheet_name,\n",
    "                    usecols=\"A:I\")\n"
   ]
  },
  {
   "cell_type": "markdown",
   "metadata": {},
   "source": [
    "## preprocessing"
   ]
  },
  {
   "cell_type": "markdown",
   "metadata": {},
   "source": [
    "### data (WHO)"
   ]
  },
  {
   "cell_type": "code",
   "execution_count": 10,
   "metadata": {
    "scrolled": false
   },
   "outputs": [],
   "source": [
    "#Timestamp definieren  YYYY-MM-DD\n",
    "ts = pd.to_datetime('2020-10-01', utc=True)"
   ]
  },
  {
   "cell_type": "markdown",
   "metadata": {},
   "source": [
    "### df_EW (Einwohnerdaten pro Bundesland)"
   ]
  },
  {
   "cell_type": "code",
   "execution_count": 11,
   "metadata": {},
   "outputs": [],
   "source": [
    "# Spalten Überschriften definieren \n",
    "df_EW.rename(columns= {\"Unnamed: 0\": \"Bundesland\"},inplace=True)\n",
    "df_EW.rename(columns= {\"Unnamed: 1\": \"Stadt\"},inplace=True)\n",
    "df_EW.rename(columns= {\"Unnamed: 2\": \"Fläche\"},inplace=True)\n",
    "df_EW.rename(columns= {\"Unnamed: 3\": \"Einwohner\"},inplace=True)\n",
    "df_EW.rename(columns= {\"Unnamed: 4\": \"Einwohner_M\"},inplace=True)\n",
    "df_EW.rename(columns= {\"Unnamed: 5\": \"Einwohner_F\"},inplace=True)\n",
    "df_EW.rename(columns= {\"Unnamed: 6\": \"Einwohner_pro_km²\"},inplace=True)\n",
    "\n",
    "# nicht gebrauchte columns löschen\n",
    "df_EW = df_EW.drop(columns=['Stadt','Einwohner_M','Einwohner_F','Einwohner_pro_km²'])\n",
    "\n",
    "# Rechnen\n",
    "df_EW[\"Einwohner_pro_km²\"] = df_EW[\"Einwohner\"]/df_EW[\"Fläche\"]\n",
    "\n",
    "# alles löschen was keine Bundesländer sind\n",
    "df_EW[\"Bundesland\"] = df_EW[\"Bundesland\"].fillna(\"x\")      # ersetze alle NaN Werte mit x\n",
    "df_EW[\"Fläche\"] = df_EW[\"Fläche\"].fillna(\"x\")              # ersetze alle NaN Werte mit x\n",
    "indexNames = df_EW[ df_EW['Bundesland'] == \"x\" ].index     # alle Index Werte mit \"x\" in eine Variable schreiben\n",
    "df_EW.drop(indexNames , inplace=True)                      # lösche diese Index rows vom dataframe\n",
    "indexNames = df_EW[ df_EW['Fläche'] == \"x\" ].index         # wiederholen\n",
    "df_EW.drop(indexNames , inplace=True)                      # wiederholen\n",
    "\n",
    "\n",
    "# Bundesland erste 3 Zeichen entfernen\n",
    "df_EW[\"Bundesland\"] = df_EW[\"Bundesland\"].str[3:]\n",
    "\n",
    "# Datentyp in float ändern\n",
    "df_EW[\"Fläche\"] = pd.to_numeric(df_EW[\"Fläche\"], errors='coerce')\n",
    "\n",
    "#remove space at start\n",
    "df_EW[\"Bundesland\"] = df_EW[\"Bundesland\"].str.lstrip()\n",
    "#df_EW.head(1)"
   ]
  },
  {
   "cell_type": "markdown",
   "metadata": {},
   "source": [
    "### df_I (Impfdaten pro Bundesland)"
   ]
  },
  {
   "cell_type": "code",
   "execution_count": 12,
   "metadata": {},
   "outputs": [
    {
     "data": {
      "text/html": [
       "<div>\n",
       "<style scoped>\n",
       "    .dataframe tbody tr th:only-of-type {\n",
       "        vertical-align: middle;\n",
       "    }\n",
       "\n",
       "    .dataframe tbody tr th {\n",
       "        vertical-align: top;\n",
       "    }\n",
       "\n",
       "    .dataframe thead th {\n",
       "        text-align: right;\n",
       "    }\n",
       "</style>\n",
       "<table border=\"1\" class=\"dataframe\">\n",
       "  <thead>\n",
       "    <tr style=\"text-align: right;\">\n",
       "      <th></th>\n",
       "      <th>RS</th>\n",
       "      <th>Bundesland</th>\n",
       "      <th>Impfungen kumulativ</th>\n",
       "      <th>Differenz zum Vortag</th>\n",
       "      <th>Impfungen pro 1.000 Einwohner</th>\n",
       "      <th>Indikation nach Alter*</th>\n",
       "      <th>Berufliche Indikation*</th>\n",
       "      <th>Medizinische Indikation*</th>\n",
       "      <th>Pflegeheim-bewohnerIn*</th>\n",
       "    </tr>\n",
       "  </thead>\n",
       "  <tbody>\n",
       "    <tr>\n",
       "      <th>0</th>\n",
       "      <td>08</td>\n",
       "      <td>Baden-Württemberg</td>\n",
       "      <td>76762.0</td>\n",
       "      <td>5869.0</td>\n",
       "      <td>6.91525</td>\n",
       "      <td>41457.0</td>\n",
       "      <td>22519.0</td>\n",
       "      <td>2980.0</td>\n",
       "      <td>12781.0</td>\n",
       "    </tr>\n",
       "  </tbody>\n",
       "</table>\n",
       "</div>"
      ],
      "text/plain": [
       "   RS         Bundesland  Impfungen kumulativ  Differenz zum Vortag  \\\n",
       "0  08  Baden-Württemberg              76762.0                5869.0   \n",
       "\n",
       "   Impfungen pro 1.000 Einwohner  Indikation nach Alter*  \\\n",
       "0                        6.91525                 41457.0   \n",
       "\n",
       "   Berufliche Indikation*  Medizinische Indikation*  Pflegeheim-bewohnerIn*  \n",
       "0                 22519.0                    2980.0                 12781.0  "
      ]
     },
     "execution_count": 12,
     "metadata": {},
     "output_type": "execute_result"
    }
   ],
   "source": [
    "df_I.head(1)"
   ]
  },
  {
   "cell_type": "code",
   "execution_count": 13,
   "metadata": {
    "scrolled": false
   },
   "outputs": [],
   "source": [
    "\n",
    "# nicht gebrauchte columns löschen\n",
    "df_I = df_I.drop(columns=['Indikation nach Alter*','Berufliche Indikation*','Medizinische Indikation*', 'Pflegeheim-bewohnerIn*'])\n",
    "\n",
    "# nicht gebrauchte rows löschen\n",
    "df_I = df_I.dropna(axis=0, how='any')\n",
    "#df_I.drop([16,17,18,19,20] , inplace=True)\n",
    "\n",
    "df_I[\"Differenz zum Vortag\"] = df_I[\"Differenz zum Vortag\"].fillna(0)\n"
   ]
  },
  {
   "cell_type": "markdown",
   "metadata": {
    "scrolled": true
   },
   "source": [
    "### df_I_EW (Impfquote)"
   ]
  },
  {
   "cell_type": "code",
   "execution_count": 14,
   "metadata": {},
   "outputs": [],
   "source": [
    "# #df_I_EW.head(1)"
   ]
  },
  {
   "cell_type": "code",
   "execution_count": 15,
   "metadata": {},
   "outputs": [],
   "source": [
    "# Timeseries gestern einlesen\n",
    "df_I_timeseries1 = pd.read_csv('D:\\\\Github\\\\Covid-19-Auswertung-WHO-DIVI\\\\output\\\\Dataframes\\\\df_I_timeseries.csv')"
   ]
  },
  {
   "cell_type": "code",
   "execution_count": 16,
   "metadata": {},
   "outputs": [],
   "source": [
    "# Impfquote in % pro Bundesland\n",
    "# VLOOKUP \n",
    "df_I_EW = pd.merge(df_I, df_EW, on='Bundesland', how='outer')   # how='outer','inner','left','right'\n",
    "df_I_EW[\"Impfquote [%]\"] = (df_I_EW[\"Impfungen kumulativ\"]/df_I_EW[\"Einwohner\"])*100*(1/2)\n",
    "df_I_EW.drop(columns= ['Fläche', 'Einwohner', 'Einwohner_pro_km²'])\n",
    "df_I_EW = df_I_EW.sort_values(by=['Impfquote [%]'], ascending=False)"
   ]
  },
  {
   "cell_type": "markdown",
   "metadata": {},
   "source": [
    "### Berechnung Herdeinimmunität"
   ]
  },
  {
   "cell_type": "code",
   "execution_count": 17,
   "metadata": {},
   "outputs": [
    {
     "name": "stdout",
     "output_type": "stream",
     "text": [
      "Impfgeschwindigkeit = 32409.28125 IF-Statement\n",
      "Tage_seit_Impfstart = 16\n",
      "Summe_Impfungen = 758093.0\n",
      "Impfgeschwindigkeit = 32409.28125 Mittelwert\n",
      "Impfgeschwindigkeit_gestern = 34589.0\n",
      "E_ger = 83020000\n",
      "Herdenimmun = 4.3 Jahren\n"
     ]
    }
   ],
   "source": [
    "\n",
    "Impfstart = datetime.strptime('28.12.2020', '%d.%m.%Y')\n",
    "Tage_seit_Impfstart = (now-Impfstart).days\n",
    "Summe_Impfungen = df_I_EW[\"Impfungen kumulativ\"].sum()\n",
    "Impfgeschwindigkeit = (1/2)*Summe_Impfungen/Tage_seit_Impfstart\n",
    "Impfgeschwindigkeit_gestern = (1/2)*df_I_EW[\"Differenz zum Vortag\"].sum()\n",
    "\n",
    "if Impfgeschwindigkeit_gestern > Impfgeschwindigkeit:\n",
    "    Impfgeschwindigkeit = (Impfgeschwindigkeit*0.2 + Impfgeschwindigkeit_gestern*0.8)\n",
    "    print(f'Impfgeschwindigkeit = {Impfgeschwindigkeit} IF-Statement')\n",
    "\n",
    "Herdenimmun = round((1/12)*(1/30)*(E_ger*0.6)*(1/(Impfgeschwindigkeit)),1)   # grobe Schätzung Zeit bis Herdenimmun\n",
    "\n",
    "\n",
    "\n",
    "print(f'Tage_seit_Impfstart = {Tage_seit_Impfstart}')   # wie lange schon geimpft wird\n",
    "print(f'Summe_Impfungen = {Summe_Impfungen}')\n",
    "print(f'Impfgeschwindigkeit = {Impfgeschwindigkeit} Mittelwert')\n",
    "print(f'Impfgeschwindigkeit_gestern = {Impfgeschwindigkeit_gestern}')\n",
    "print(f'E_ger = {E_ger}')   # Einwohner Deutschland\n",
    "print(f'Herdenimmun = {Herdenimmun} Jahren')"
   ]
  },
  {
   "cell_type": "code",
   "execution_count": 18,
   "metadata": {},
   "outputs": [
    {
     "name": "stdout",
     "output_type": "stream",
     "text": [
      "Tage_bis_Oktober = 260 Tage\n",
      "SOLL_Impfungen60 = 377337 Impfungen pro Tag\n",
      "SOLL_Impfungen30 = 185753 Impfungen pro Tag\n",
      "SOLL_Impfungen15 = 89960 Impfungen pro Tag\n",
      "SOLL_Impfungen5 = 26099 Impfungen pro Tag\n"
     ]
    }
   ],
   "source": [
    "# v=s/t    v = 83020000*0.6 / t   t = \n",
    "\n",
    "Ende = datetime.strptime('01.10.2021', '%d.%m.%Y')\n",
    "Tage_bis_Oktober = (Ende - now).days\n",
    "print(f'Tage_bis_Oktober = {Tage_bis_Oktober} Tage')\n",
    "\n",
    "Impfungen60 = 2*(E_ger*0.6 - Summe_Impfungen)\n",
    "SOLL_Impfungen60 = int(Impfungen60*(1/Tage_bis_Oktober))\n",
    "print(f'SOLL_Impfungen60 = {SOLL_Impfungen60} Impfungen pro Tag')\n",
    "\n",
    "Impfungen30 = 2*(E_ger*0.3 - Summe_Impfungen)\n",
    "SOLL_Impfungen30 = int(Impfungen30*(1/Tage_bis_Oktober))\n",
    "print(f'SOLL_Impfungen30 = {SOLL_Impfungen30} Impfungen pro Tag')\n",
    "\n",
    "Impfungen15 = 2*(E_ger*0.15 - Summe_Impfungen)\n",
    "SOLL_Impfungen15 = int(Impfungen15*(1/Tage_bis_Oktober))\n",
    "print(f'SOLL_Impfungen15 = {SOLL_Impfungen15} Impfungen pro Tag')\n",
    "\n",
    "Impfungen5 = 2*(E_ger*0.05 - Summe_Impfungen)\n",
    "SOLL_Impfungen5 = int(Impfungen5*(1/Tage_bis_Oktober))\n",
    "print(f'SOLL_Impfungen5 = {SOLL_Impfungen5} Impfungen pro Tag')\n"
   ]
  },
  {
   "cell_type": "markdown",
   "metadata": {},
   "source": [
    "## df_I_TS Impfungen Timeseries"
   ]
  },
  {
   "cell_type": "code",
   "execution_count": 19,
   "metadata": {},
   "outputs": [],
   "source": [
    "# Impfungen sheet_name der Datenquelle auslesen\n",
    "df_I_sheet = pd.read_excel(\"D:\\\\Github\\\\Covid-19-Auswertung-WHO-DIVI\\\\input\\\\Impfquotenmonitoring.xlsx\", None)\n",
    "sheet_name = df_I_sheet.keys()         # Tabellenblätter Namen auslesen\n",
    "sheet_name = [*sheet_name][2]          # Namen des zweiten Tabellenblattes anzeigen [*dict] dict keyword->list Index 1 anzeigen\n",
    "\n",
    "# Datenimport Impfungen\n",
    "df_I_TS = pd.read_excel(\"D:\\\\Github\\\\Covid-19-Auswertung-WHO-DIVI\\\\input\\\\Impfquotenmonitoring.xlsx\",\n",
    "                    sheet_name = sheet_name,\n",
    "                    usecols=\"A:B\")\n",
    "\n",
    "\n",
    "\n",
    "#gleitender Mittelwert der cases und deaths, 7 Tage\n",
    "# df_I_TS['MA'] = df_I_TS['Gesamtzahl Impfungen'].rolling(window=7,min_periods=1, center = False).mean()\n",
    "df_I_TS['MA'] = df_I_TS['Gesamtzahl Impfungen'].ewm(alpha=0.5, adjust=False).mean()\n",
    "\n",
    "df_I_TS['MSTD_Impfungen'] = df_I_TS['Gesamtzahl Impfungen'].rolling(window=7,min_periods=1).std()\n",
    "\n",
    "df_I_TS['OTG_Impfungen'] = df_I_TS['MA'] + df_I_TS['MSTD_Impfungen']\n",
    "df_I_TS['UTG_Impfungen'] = df_I_TS['MA'] - df_I_TS['MSTD_Impfungen']\n",
    "\n",
    "df_I_TS['SOLL_Impfungen60'] = SOLL_Impfungen60\n",
    "df_I_TS['SOLL_Impfungen30'] = SOLL_Impfungen30\n",
    "df_I_TS['SOLL_Impfungen15'] = SOLL_Impfungen15\n",
    "df_I_TS['SOLL_Impfungen5'] = SOLL_Impfungen5\n",
    "\n",
    "# Date_reported in eine Datumsspalte umwandeln\n",
    "#df_I_TS['Datum der Impfung'] = pd.to_datetime(df_I_TS.Date_reported, utc=True)\n",
    "df_I_TS = df_I_TS.dropna(axis=0, how='any')\n",
    "\n",
    "df_I_TS = df_I_TS[df_I_TS.Datum != 'Impfungen gesamt']"
   ]
  },
  {
   "cell_type": "markdown",
   "metadata": {},
   "source": [
    "# Visualisierung der Plots"
   ]
  },
  {
   "cell_type": "code",
   "execution_count": 20,
   "metadata": {
    "scrolled": false
   },
   "outputs": [
    {
     "name": "stdout",
     "output_type": "stream",
     "text": [
      "x = 8.0\n",
      "y = 0.8323912500046637\n",
      "Impfquote_ger = 0.91 %\n"
     ]
    }
   ],
   "source": [
    "x = (1/2)*df_I_EW[\"Bundesland\"].count()\n",
    "y = max(df_I_EW[\"Impfquote [%]\"])*0.92\n",
    "Impfquote_ger = round((df_I_EW[\"Impfungen kumulativ\"].sum()/E_ger)*100,2)\n",
    "\n",
    "print(f'x = {x}')\n",
    "print(f'y = {y}')\n",
    "print(f'Impfquote_ger = {Impfquote_ger} %')"
   ]
  },
  {
   "cell_type": "markdown",
   "metadata": {},
   "source": [
    "## Impfquote - Bundesländer "
   ]
  },
  {
   "cell_type": "code",
   "execution_count": 21,
   "metadata": {
    "scrolled": false
   },
   "outputs": [
    {
     "data": {
      "image/png": "[encoded data removed]",
      "text/plain": [
       "<Figure size 1152x648 with 1 Axes>"
      ]
     },
     "metadata": {
      "needs_background": "light"
     },
     "output_type": "display_data"
    }
   ],
   "source": [
    "plt.figure(figsize=(16,9))\n",
    "\n",
    "plt.style.use('seaborn')\n",
    "\n",
    "plt.bar(x=df_I_EW[\"Bundesland\"], height=df_I_EW[\"Impfquote [%]\"], width = 0.9, align = 'center', color = c_ger)\n",
    "\n",
    "# # Schriftgrößen x und y achsenwerte\n",
    "plt.xticks(fontsize=size - 10, rotation=90)\n",
    "plt.yticks(fontsize=size -4)\n",
    "\n",
    "plt.ylabel('Impfquote [%]', fontsize=size)\n",
    "plt.xlabel('Bundesland', fontsize=size)\n",
    "\n",
    "plt.title('Impfquote - Deutschland (RKI-Daten)\\n', fontsize=size)\n",
    "plt.suptitle(today + ' PW', fontsize=size-5, y=0.92)\n",
    "\n",
    "plt.text(x, y, f'Impfquote Deutschland : {Impfquote_ger}%\\n (Verabreichte Dosen)', \n",
    "        horizontalalignment='center', \n",
    "        size=size-4, \n",
    "        style='italic',\n",
    "        bbox={'facecolor': c_ger, 'alpha': 0.5, 'pad': 5})\n",
    "\n",
    "\n",
    "# korrigierte Hochrechnung mit exp model machen \n",
    "# plt.text(x, y, f'grobe Hochrechnung: 60% der Bevölkerung geimpft in \\nca. {Herdenimmun} Jahren.\\nImpfquote Deutschland: {Impfquote_ger}%', \n",
    "#         horizontalalignment='center', \n",
    "#         size=size-4, \n",
    "#         style='italic',\n",
    "#         bbox={'facecolor': c_ger, 'alpha': 0.5, 'pad': 5})\n",
    "\n",
    "# Diagramm als Bild exporieren und Auflösung definieren\n",
    "plt.savefig(pfad + name_7, dpi = 150, bbox_inches='tight')\n",
    "\n",
    "#plt.close()\n",
    "plt.show()"
   ]
  },
  {
   "cell_type": "markdown",
   "metadata": {},
   "source": [
    "## RKI - Impfungen Timeseries"
   ]
  },
  {
   "cell_type": "code",
   "execution_count": 22,
   "metadata": {},
   "outputs": [],
   "source": [
    "\n",
    "def y_axis_thousands(x, pos):\n",
    "   # 'The two args are the value and tick position'\n",
    "    return '{:0,d}'.format(int(x)).replace(\",\",\".\")\n",
    "formatter = FuncFormatter(y_axis_thousands)\n",
    "\n",
    "\n",
    "fig = plt.figure(figsize=(16,9))\n",
    "ax = fig.add_subplot()\n",
    "ax.yaxis.set_major_formatter(formatter)\n",
    "\n",
    "\n",
    "ax1 = plt.plot(df_I_TS['Datum'],df_I_TS['MA'], color=c_ger, linestyle = 'solid', linewidth = lwb, label = \"Impfungen\\n(7-Tage Mittel)\") # blau, linie, dick\n",
    "ax2 = plt.plot(df_I_TS['Datum'],df_I_TS['Gesamtzahl Impfungen'], marker='.', linestyle='', color=c_ger, markersize = 20)\n",
    "\n",
    "ax3 = plt.plot(df_I_TS['Datum'],df_I_TS['OTG_Impfungen'], color='red', linestyle = 'dashed', linewidth = lws, label =\"+- 1 sigma\")\n",
    "ax4 = plt.plot(df_I_TS['Datum'],df_I_TS['UTG_Impfungen'], color='red', linestyle = 'dashed', linewidth = lws, label =\"\")\n",
    "\n",
    "ax5 = plt.plot(df_I_TS['Datum'],\n",
    "               df_I_TS['SOLL_Impfungen60'], \n",
    "               color='#34eb46', \n",
    "               linestyle = 'dashed', \n",
    "               linewidth = lws, \n",
    "               label = \"SOLL-Impfungen pro Tag\\num 15, 30, 60% der Bevölkerung\\nbis 01.10.2021 zu impfen\")\n",
    "\n",
    "ax6 = plt.plot(df_I_TS['Datum'],\n",
    "               df_I_TS['SOLL_Impfungen30'], \n",
    "               color='#34eb46', \n",
    "               linestyle = 'dashed', \n",
    "               linewidth = lws, \n",
    "               label = \"\")\n",
    "\n",
    "ax7 = plt.plot(df_I_TS['Datum'],\n",
    "               df_I_TS['SOLL_Impfungen15'], \n",
    "               color='#34eb46', \n",
    "               linestyle = 'dashed', \n",
    "               linewidth = lws, \n",
    "               label = \"\")\n",
    "\n",
    "# # Schriftgrößen x und y achsenwerte\n",
    "plt.xticks(fontsize=size - 5, rotation=90)\n",
    "plt.yticks(fontsize=size - 4)\n",
    "\n",
    "plt.ylabel('Anzahl Impfungen', fontsize=size)\n",
    "plt.xlabel('Zeit', fontsize=size)\n",
    "\n",
    "plt.title('Anzahl Impfungen Deutschland (RKI-Daten)\\n', fontsize=size)\n",
    "plt.suptitle(today + ' PW', fontsize=size-5, y=0.92)\n",
    "\n",
    "# # fill area between lines\n",
    "plt.fill_between(df_I_TS['Datum'], df_I_TS['OTG_Impfungen'], df_I_TS['UTG_Impfungen'] , color='red',alpha=0.5)\n",
    "\n",
    "# Legende \n",
    "plt.legend(loc='upper center', \n",
    "           bbox_to_anchor=(0.5, -0.3),\n",
    "           fancybox=True, \n",
    "           shadow=True, \n",
    "           ncol=2, \n",
    "           fontsize=size)\n",
    "\n",
    "fig.savefig(pfad + name_7_2, dpi = 150, bbox_inches='tight')\n",
    "\n",
    "plt.close()\n",
    "#plt.show()\n",
    "\n"
   ]
  },
  {
   "cell_type": "code",
   "execution_count": 23,
   "metadata": {},
   "outputs": [],
   "source": [
    "\n",
    "def y_axis_thousands(x, pos):\n",
    "   # 'The two args are the value and tick position'\n",
    "    return '{:0,d}'.format(int(x)).replace(\",\",\".\")\n",
    "formatter = FuncFormatter(y_axis_thousands)\n",
    "\n",
    "fig = plt.figure(figsize=(16,9))\n",
    "ax = fig.add_subplot()\n",
    "ax.yaxis.set_major_formatter(formatter)\n",
    "\n",
    "ax1 = plt.plot(df_I_TS['Datum'],df_I_TS['MA'], color=c_ger, linestyle = 'solid', linewidth = lws, label = \"Impfungen\\n(exponential moving average, α=0.5)\") # blau, linie, dick\n",
    "ax2 = plt.plot(df_I_TS['Datum'],df_I_TS['Gesamtzahl Impfungen'], marker='.', linestyle='', color=c_ger, markersize = 20)\n",
    "\n",
    "ax3 = plt.plot(df_I_TS['Datum'],df_I_TS['OTG_Impfungen'], color='red', linestyle = 'dashed', linewidth = lws, label =\"+- 1 sigma\")\n",
    "ax4 = plt.plot(df_I_TS['Datum'],df_I_TS['UTG_Impfungen'], color='red', linestyle = 'dashed', linewidth = lws, label =\"\")\n",
    "\n",
    "# # Schriftgrößen x und y achsenwerte\n",
    "plt.xticks(fontsize=size - 5, rotation=90)\n",
    "plt.yticks(fontsize=size - 4)\n",
    "\n",
    "plt.ylabel('Anzahl Impfungen', fontsize=size)\n",
    "plt.xlabel('Zeit', fontsize=size)\n",
    "\n",
    "plt.title('Anzahl Impfungen Deutschland (RKI-Daten)\\n', fontsize=size)\n",
    "plt.suptitle(today + ' PW', fontsize=size-5, y=0.92)\n",
    "\n",
    "\n",
    "# # fill area between lines\n",
    "plt.fill_between(df_I_TS['Datum'], df_I_TS['OTG_Impfungen'], df_I_TS['UTG_Impfungen'] , color=c_ger,alpha=0.5)\n",
    "\n",
    "# Legende \n",
    "plt.legend(loc='upper center', \n",
    "           bbox_to_anchor=(0.5, -0.3),\n",
    "           fancybox=True, \n",
    "           shadow=True, \n",
    "           ncol=2, \n",
    "           fontsize=size)\n",
    "\n",
    "fig.savefig(pfad + name_7_3, dpi = 150, bbox_inches='tight')\n",
    "\n",
    "plt.close()\n",
    "#plt.show()\n",
    "\n"
   ]
  },
  {
   "cell_type": "markdown",
   "metadata": {},
   "source": [
    "## dataframes speichern"
   ]
  },
  {
   "cell_type": "code",
   "execution_count": 24,
   "metadata": {},
   "outputs": [],
   "source": [
    "df_EW.to_csv(r'D:\\\\Github\\\\Covid-19-Auswertung-WHO-DIVI\\\\output\\\\Dataframes\\\\df_EW.csv', index=False)\n",
    "df_I.to_csv(r'D:\\\\Github\\\\Covid-19-Auswertung-WHO-DIVI\\\\output\\\\Dataframes\\\\df_I.csv', index=False)\n",
    "df_I_EW.to_csv(r'D:\\\\Github\\\\Covid-19-Auswertung-WHO-DIVI\\\\output\\\\Dataframes\\\\df_I_EW.csv', index=False)\n",
    "df_I_TS.to_csv(r'D:\\\\Github\\\\Covid-19-Auswertung-WHO-DIVI\\\\output\\\\Dataframes\\\\df_I_TS.csv', index=False)"
   ]
  },
  {
   "cell_type": "markdown",
   "metadata": {},
   "source": [
    "## Performance messen"
   ]
  },
  {
   "cell_type": "code",
   "execution_count": 25,
   "metadata": {},
   "outputs": [
    {
     "name": "stdout",
     "output_type": "stream",
     "text": [
      "performance DOUG = 1.41 seconds\n"
     ]
    }
   ],
   "source": [
    "pc = os.environ['COMPUTERNAME']\n",
    "now2 = datetime.now()\n",
    "\n",
    "# Laufzeit\n",
    "x = now2 - now\n",
    "x = round(x.total_seconds(),2)\n",
    "\n",
    "# Performance CSV einlesen\n",
    "d = pd.read_csv('D:\\\\Github\\\\Covid-19-Auswertung-WHO-DIVI\\\\output\\\\Dataframes\\\\df_performance_Führungskreis.csv')\n",
    "\n",
    "# Neues Dateframe für die Performance definieren\n",
    "now = datetime.now()\n",
    "\n",
    "d2 = {'Date': [now],\n",
    "      'PC': [pc],\n",
    "      'Laufzeit_in_s': [x],\n",
    "      'Version': [Programm_Name]}\n",
    "\n",
    "# Datum Spalte formatieren\n",
    "df2 = pd.DataFrame(d2)\n",
    "df2['Date'] = df2['Date'].dt.strftime('%Y-%m-%d %r')\n",
    "\n",
    "# Performance mit dem CSV verbinden\n",
    "d = d.append(df2, ignore_index=True)\n",
    "\n",
    "# Datenexport Performance\n",
    "d.to_csv(r'D:\\\\Github\\\\Covid-19-Auswertung-WHO-DIVI\\\\output\\\\Dataframes\\\\df_performance_Führungskreis.csv', index=False)\n",
    "\n",
    "print(f'performance {pc} = {x} seconds')"
   ]
  }
 ],
 "metadata": {
  "kernelspec": {
   "display_name": "Python 3",
   "language": "python",
   "name": "python3"
  },
  "language_info": {
   "codemirror_mode": {
    "name": "ipython",
    "version": 3
   },
   "file_extension": ".py",
   "mimetype": "text/x-python",
   "name": "python",
   "nbconvert_exporter": "python",
   "pygments_lexer": "ipython3",
   "version": "3.8.3"
  }
 },
 "nbformat": 4,
 "nbformat_minor": 4
}
