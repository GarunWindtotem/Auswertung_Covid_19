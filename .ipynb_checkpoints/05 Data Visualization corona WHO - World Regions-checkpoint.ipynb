{
 "cells": [
  {
   "cell_type": "markdown",
   "metadata": {},
   "source": [
    "# COVID-19 Auswertung - WHO - new cases, deaths"
   ]
  },
  {
   "cell_type": "markdown",
   "metadata": {},
   "source": [
    "## import libraries"
   ]
  },
  {
   "cell_type": "code",
   "execution_count": 82,
   "metadata": {},
   "outputs": [],
   "source": [
    "Programm_Name = \"WHO_World\" # 04.01.2021 - Time Series Impffdaten erstellen"
   ]
  },
  {
   "cell_type": "code",
   "execution_count": 83,
   "metadata": {},
   "outputs": [],
   "source": [
    "import pandas as pd #Daten\n",
    "from matplotlib import pyplot as plt # plots\n",
    "#import matplotlib as mpl\n",
    "from matplotlib.ticker import FuncFormatter   # Numberformat plot ticks\n",
    "import numpy as np\n",
    "\n",
    "# performance\n",
    "from datetime import datetime\n",
    "from datetime import date # todays date\n",
    "#import seaborn as sns\n",
    "\n",
    "import os\n",
    "now = datetime.now()"
   ]
  },
  {
   "cell_type": "markdown",
   "metadata": {},
   "source": [
    "# Preprocessing Dataframes"
   ]
  },
  {
   "cell_type": "code",
   "execution_count": 84,
   "metadata": {},
   "outputs": [],
   "source": [
    "today = date.today().strftime(\"%d.%m.%Y\")"
   ]
  },
  {
   "cell_type": "markdown",
   "metadata": {},
   "source": [
    "## Datenimport"
   ]
  },
  {
   "cell_type": "code",
   "execution_count": 136,
   "metadata": {
    "scrolled": false
   },
   "outputs": [
    {
     "data": {
      "text/html": [
       "<div>\n",
       "<style scoped>\n",
       "    .dataframe tbody tr th:only-of-type {\n",
       "        vertical-align: middle;\n",
       "    }\n",
       "\n",
       "    .dataframe tbody tr th {\n",
       "        vertical-align: top;\n",
       "    }\n",
       "\n",
       "    .dataframe thead th {\n",
       "        text-align: right;\n",
       "    }\n",
       "</style>\n",
       "<table border=\"1\" class=\"dataframe\">\n",
       "  <thead>\n",
       "    <tr style=\"text-align: right;\">\n",
       "      <th></th>\n",
       "      <th>Date_reported</th>\n",
       "      <th>Country_code</th>\n",
       "      <th>Country</th>\n",
       "      <th>WHO_region</th>\n",
       "      <th>New_cases</th>\n",
       "      <th>Cumulative_cases</th>\n",
       "      <th>New_deaths</th>\n",
       "      <th>Cumulative_deaths</th>\n",
       "    </tr>\n",
       "  </thead>\n",
       "  <tbody>\n",
       "    <tr>\n",
       "      <th>0</th>\n",
       "      <td>2020-01-03</td>\n",
       "      <td>AF</td>\n",
       "      <td>Afghanistan</td>\n",
       "      <td>EMRO</td>\n",
       "      <td>0</td>\n",
       "      <td>0</td>\n",
       "      <td>0</td>\n",
       "      <td>0</td>\n",
       "    </tr>\n",
       "  </tbody>\n",
       "</table>\n",
       "</div>"
      ],
      "text/plain": [
       "  Date_reported Country_code      Country WHO_region  New_cases  \\\n",
       "0    2020-01-03           AF  Afghanistan       EMRO          0   \n",
       "\n",
       "   Cumulative_cases  New_deaths  Cumulative_deaths  \n",
       "0                 0           0                  0  "
      ]
     },
     "execution_count": 136,
     "metadata": {},
     "output_type": "execute_result"
    }
   ],
   "source": [
    "# Webabruf - CSV einlesen\n",
    "data = pd.read_csv(\"https://covid19.who.int/WHO-COVID-19-global-data.csv\")\n",
    "data.head(1)"
   ]
  },
  {
   "cell_type": "code",
   "execution_count": 213,
   "metadata": {},
   "outputs": [],
   "source": [
    "df = data"
   ]
  },
  {
   "cell_type": "code",
   "execution_count": 185,
   "metadata": {
    "scrolled": true
   },
   "outputs": [],
   "source": [
    "# df = df[ ['Date_reported', 'WHO_region', 'New_cases'] ].groupby( [ df[\"Date_reported\"], df[\"WHO_region\"] ] ).sum()\n",
    "# df = df.reset_index()\n",
    "# df"
   ]
  },
  {
   "cell_type": "code",
   "execution_count": 214,
   "metadata": {},
   "outputs": [
    {
     "data": {
      "text/html": [
       "<div>\n",
       "<style scoped>\n",
       "    .dataframe tbody tr th:only-of-type {\n",
       "        vertical-align: middle;\n",
       "    }\n",
       "\n",
       "    .dataframe tbody tr th {\n",
       "        vertical-align: top;\n",
       "    }\n",
       "\n",
       "    .dataframe thead th {\n",
       "        text-align: right;\n",
       "    }\n",
       "</style>\n",
       "<table border=\"1\" class=\"dataframe\">\n",
       "  <thead>\n",
       "    <tr style=\"text-align: right;\">\n",
       "      <th>WHO_region</th>\n",
       "      <th>level_0</th>\n",
       "      <th>Date_reported</th>\n",
       "      <th>AFRO</th>\n",
       "      <th>AMRO</th>\n",
       "      <th>EMRO</th>\n",
       "      <th>EURO</th>\n",
       "      <th>Other</th>\n",
       "      <th>SEARO</th>\n",
       "      <th>WPRO</th>\n",
       "      <th>MA_AFRO</th>\n",
       "      <th>MA_AMRO</th>\n",
       "      <th>MA_EMRO</th>\n",
       "      <th>MA_EURO</th>\n",
       "      <th>MA_SEARO</th>\n",
       "      <th>MA_WPRO</th>\n",
       "    </tr>\n",
       "  </thead>\n",
       "  <tbody>\n",
       "    <tr>\n",
       "      <th>0</th>\n",
       "      <td>New_cases</td>\n",
       "      <td>2020-01-03</td>\n",
       "      <td>0</td>\n",
       "      <td>0</td>\n",
       "      <td>0</td>\n",
       "      <td>0</td>\n",
       "      <td>0</td>\n",
       "      <td>0</td>\n",
       "      <td>0</td>\n",
       "      <td>0.000000</td>\n",
       "      <td>0.000000</td>\n",
       "      <td>0.000000</td>\n",
       "      <td>0.000000</td>\n",
       "      <td>0.000000</td>\n",
       "      <td>0.000000</td>\n",
       "    </tr>\n",
       "    <tr>\n",
       "      <th>1</th>\n",
       "      <td>New_cases</td>\n",
       "      <td>2020-01-04</td>\n",
       "      <td>0</td>\n",
       "      <td>0</td>\n",
       "      <td>0</td>\n",
       "      <td>0</td>\n",
       "      <td>0</td>\n",
       "      <td>0</td>\n",
       "      <td>1</td>\n",
       "      <td>0.000000</td>\n",
       "      <td>0.000000</td>\n",
       "      <td>0.000000</td>\n",
       "      <td>0.000000</td>\n",
       "      <td>0.000000</td>\n",
       "      <td>0.500000</td>\n",
       "    </tr>\n",
       "    <tr>\n",
       "      <th>2</th>\n",
       "      <td>New_cases</td>\n",
       "      <td>2020-01-05</td>\n",
       "      <td>0</td>\n",
       "      <td>0</td>\n",
       "      <td>0</td>\n",
       "      <td>0</td>\n",
       "      <td>0</td>\n",
       "      <td>0</td>\n",
       "      <td>0</td>\n",
       "      <td>0.000000</td>\n",
       "      <td>0.000000</td>\n",
       "      <td>0.000000</td>\n",
       "      <td>0.000000</td>\n",
       "      <td>0.000000</td>\n",
       "      <td>0.333333</td>\n",
       "    </tr>\n",
       "    <tr>\n",
       "      <th>3</th>\n",
       "      <td>New_cases</td>\n",
       "      <td>2020-01-06</td>\n",
       "      <td>0</td>\n",
       "      <td>0</td>\n",
       "      <td>0</td>\n",
       "      <td>0</td>\n",
       "      <td>0</td>\n",
       "      <td>0</td>\n",
       "      <td>3</td>\n",
       "      <td>0.000000</td>\n",
       "      <td>0.000000</td>\n",
       "      <td>0.000000</td>\n",
       "      <td>0.000000</td>\n",
       "      <td>0.000000</td>\n",
       "      <td>1.000000</td>\n",
       "    </tr>\n",
       "    <tr>\n",
       "      <th>4</th>\n",
       "      <td>New_cases</td>\n",
       "      <td>2020-01-07</td>\n",
       "      <td>0</td>\n",
       "      <td>0</td>\n",
       "      <td>0</td>\n",
       "      <td>0</td>\n",
       "      <td>0</td>\n",
       "      <td>0</td>\n",
       "      <td>0</td>\n",
       "      <td>0.000000</td>\n",
       "      <td>0.000000</td>\n",
       "      <td>0.000000</td>\n",
       "      <td>0.000000</td>\n",
       "      <td>0.000000</td>\n",
       "      <td>0.800000</td>\n",
       "    </tr>\n",
       "    <tr>\n",
       "      <th>...</th>\n",
       "      <td>...</td>\n",
       "      <td>...</td>\n",
       "      <td>...</td>\n",
       "      <td>...</td>\n",
       "      <td>...</td>\n",
       "      <td>...</td>\n",
       "      <td>...</td>\n",
       "      <td>...</td>\n",
       "      <td>...</td>\n",
       "      <td>...</td>\n",
       "      <td>...</td>\n",
       "      <td>...</td>\n",
       "      <td>...</td>\n",
       "      <td>...</td>\n",
       "      <td>...</td>\n",
       "    </tr>\n",
       "    <tr>\n",
       "      <th>371</th>\n",
       "      <td>New_cases</td>\n",
       "      <td>2021-01-08</td>\n",
       "      <td>28631</td>\n",
       "      <td>437306</td>\n",
       "      <td>27297</td>\n",
       "      <td>280652</td>\n",
       "      <td>0</td>\n",
       "      <td>30243</td>\n",
       "      <td>12177</td>\n",
       "      <td>22307.285714</td>\n",
       "      <td>318990.142857</td>\n",
       "      <td>23241.285714</td>\n",
       "      <td>247497.428571</td>\n",
       "      <td>28793.285714</td>\n",
       "      <td>8781.428571</td>\n",
       "    </tr>\n",
       "    <tr>\n",
       "      <th>372</th>\n",
       "      <td>New_cases</td>\n",
       "      <td>2021-01-09</td>\n",
       "      <td>30961</td>\n",
       "      <td>441723</td>\n",
       "      <td>26694</td>\n",
       "      <td>298086</td>\n",
       "      <td>0</td>\n",
       "      <td>13248</td>\n",
       "      <td>13144</td>\n",
       "      <td>26730.285714</td>\n",
       "      <td>331572.571429</td>\n",
       "      <td>23808.000000</td>\n",
       "      <td>256920.000000</td>\n",
       "      <td>26415.571429</td>\n",
       "      <td>9458.428571</td>\n",
       "    </tr>\n",
       "    <tr>\n",
       "      <th>373</th>\n",
       "      <td>New_cases</td>\n",
       "      <td>2021-01-10</td>\n",
       "      <td>28863</td>\n",
       "      <td>444154</td>\n",
       "      <td>25132</td>\n",
       "      <td>256869</td>\n",
       "      <td>0</td>\n",
       "      <td>49589</td>\n",
       "      <td>12906</td>\n",
       "      <td>24949.142857</td>\n",
       "      <td>360329.285714</td>\n",
       "      <td>24468.571429</td>\n",
       "      <td>266842.571429</td>\n",
       "      <td>29524.285714</td>\n",
       "      <td>10277.000000</td>\n",
       "    </tr>\n",
       "    <tr>\n",
       "      <th>374</th>\n",
       "      <td>New_cases</td>\n",
       "      <td>2021-01-11</td>\n",
       "      <td>27104</td>\n",
       "      <td>381939</td>\n",
       "      <td>24082</td>\n",
       "      <td>208133</td>\n",
       "      <td>0</td>\n",
       "      <td>28672</td>\n",
       "      <td>10978</td>\n",
       "      <td>26402.285714</td>\n",
       "      <td>366417.142857</td>\n",
       "      <td>24715.857143</td>\n",
       "      <td>268759.714286</td>\n",
       "      <td>29782.000000</td>\n",
       "      <td>10886.285714</td>\n",
       "    </tr>\n",
       "    <tr>\n",
       "      <th>375</th>\n",
       "      <td>New_cases</td>\n",
       "      <td>2021-01-12</td>\n",
       "      <td>25493</td>\n",
       "      <td>309078</td>\n",
       "      <td>23412</td>\n",
       "      <td>173540</td>\n",
       "      <td>0</td>\n",
       "      <td>24113</td>\n",
       "      <td>10550</td>\n",
       "      <td>27489.857143</td>\n",
       "      <td>372419.857143</td>\n",
       "      <td>25112.000000</td>\n",
       "      <td>262220.571429</td>\n",
       "      <td>29502.428571</td>\n",
       "      <td>11284.571429</td>\n",
       "    </tr>\n",
       "  </tbody>\n",
       "</table>\n",
       "<p>376 rows × 15 columns</p>\n",
       "</div>"
      ],
      "text/plain": [
       "WHO_region    level_0 Date_reported   AFRO    AMRO   EMRO    EURO  Other  \\\n",
       "0           New_cases    2020-01-03      0       0      0       0      0   \n",
       "1           New_cases    2020-01-04      0       0      0       0      0   \n",
       "2           New_cases    2020-01-05      0       0      0       0      0   \n",
       "3           New_cases    2020-01-06      0       0      0       0      0   \n",
       "4           New_cases    2020-01-07      0       0      0       0      0   \n",
       "..                ...           ...    ...     ...    ...     ...    ...   \n",
       "371         New_cases    2021-01-08  28631  437306  27297  280652      0   \n",
       "372         New_cases    2021-01-09  30961  441723  26694  298086      0   \n",
       "373         New_cases    2021-01-10  28863  444154  25132  256869      0   \n",
       "374         New_cases    2021-01-11  27104  381939  24082  208133      0   \n",
       "375         New_cases    2021-01-12  25493  309078  23412  173540      0   \n",
       "\n",
       "WHO_region  SEARO   WPRO       MA_AFRO        MA_AMRO       MA_EMRO  \\\n",
       "0               0      0      0.000000       0.000000      0.000000   \n",
       "1               0      1      0.000000       0.000000      0.000000   \n",
       "2               0      0      0.000000       0.000000      0.000000   \n",
       "3               0      3      0.000000       0.000000      0.000000   \n",
       "4               0      0      0.000000       0.000000      0.000000   \n",
       "..            ...    ...           ...            ...           ...   \n",
       "371         30243  12177  22307.285714  318990.142857  23241.285714   \n",
       "372         13248  13144  26730.285714  331572.571429  23808.000000   \n",
       "373         49589  12906  24949.142857  360329.285714  24468.571429   \n",
       "374         28672  10978  26402.285714  366417.142857  24715.857143   \n",
       "375         24113  10550  27489.857143  372419.857143  25112.000000   \n",
       "\n",
       "WHO_region        MA_EURO      MA_SEARO       MA_WPRO  \n",
       "0                0.000000      0.000000      0.000000  \n",
       "1                0.000000      0.000000      0.500000  \n",
       "2                0.000000      0.000000      0.333333  \n",
       "3                0.000000      0.000000      1.000000  \n",
       "4                0.000000      0.000000      0.800000  \n",
       "..                    ...           ...           ...  \n",
       "371         247497.428571  28793.285714   8781.428571  \n",
       "372         256920.000000  26415.571429   9458.428571  \n",
       "373         266842.571429  29524.285714  10277.000000  \n",
       "374         268759.714286  29782.000000  10886.285714  \n",
       "375         262220.571429  29502.428571  11284.571429  \n",
       "\n",
       "[376 rows x 15 columns]"
      ]
     },
     "execution_count": 214,
     "metadata": {},
     "output_type": "execute_result"
    }
   ],
   "source": [
    "df = df[ ['Date_reported', 'WHO_region', 'New_cases'] ].groupby( [ df[\"Date_reported\"], df[\"WHO_region\"] ] ).sum().transpose().stack(0).reset_index()\n",
    "df['Date_reported'] = pd.to_datetime(df.Date_reported)\n",
    "\n",
    "\n",
    "df['MA_AFRO'] = df['AFRO'].rolling(window=7,min_periods=1).mean()\n",
    "df['MA_AMRO'] = df['AMRO'].rolling(window=7,min_periods=1).mean()\n",
    "df['MA_EMRO'] = df['EMRO'].rolling(window=7,min_periods=1).mean()\n",
    "df['MA_EURO'] = df['EURO'].rolling(window=7,min_periods=1).mean()\n",
    "df['MA_SEARO'] = df['SEARO'].rolling(window=7,min_periods=1).mean()\n",
    "df['MA_WPRO'] = df['WPRO'].rolling(window=7,min_periods=1).mean()\n",
    "\n",
    "df"
   ]
  },
  {
   "cell_type": "code",
   "execution_count": 186,
   "metadata": {},
   "outputs": [],
   "source": [
    "# df = df[ ['Date_reported', 'WHO_region', 'New_cases'] ].groupby(\"WHO_region\").sum().sort_values(by='New_cases', ascending=False).head()\n",
    "# df"
   ]
  },
  {
   "cell_type": "code",
   "execution_count": 221,
   "metadata": {},
   "outputs": [
    {
     "data": {
      "image/png": "[encoded data removed]",
      "text/plain": [
       "<Figure size 1152x648 with 1 Axes>"
      ]
     },
     "metadata": {},
     "output_type": "display_data"
    }
   ],
   "source": [
    "# plt.figure(figsize=(16,9))\n",
    "\n",
    "plt.style.use('seaborn')\n",
    "\n",
    "\n",
    "def y_axis_thousands(x, pos):\n",
    "   # 'The two args are the value and tick position'\n",
    "    return '{:0,d}'.format(int(x)).replace(\",\",\".\")\n",
    "formatter = FuncFormatter(y_axis_thousands)\n",
    "\n",
    "\n",
    "fig = plt.figure(figsize=(16,9))\n",
    "ax = fig.add_subplot()\n",
    "ax.yaxis.set_major_formatter(formatter)\n",
    "\n",
    "# df['MA_AFRO'] = df['AFRO'].rolling(window=7,min_periods=1).mean()\n",
    "# df['MA_AMRO'] = df['AMRO'].rolling(window=7,min_periods=1).mean()\n",
    "# df['MA_EMRO'] = df['EMRO'].rolling(window=7,min_periods=1).mean()\n",
    "# df['MA_EURO'] = df['EURO'].rolling(window=7,min_periods=1).mean()\n",
    "# df['MA_SEARO'] = df['SEARO'].rolling(window=7,min_periods=1).mean()\n",
    "# df['MA_WPRO'] = df['WPRO'].rolling(window=7,min_periods=1).mean()\n",
    "\n",
    "plt.plot(df.Date_reported,\n",
    "         df['MA_AFRO'], \n",
    "         color='blue', \n",
    "         linestyle = 'solid', \n",
    "         linewidth = 2, \n",
    "         label = \"MA_AFRO\")\n",
    "\n",
    "plt.plot(df.Date_reported,\n",
    "         df['MA_AMRO'], \n",
    "         color='red', \n",
    "         linestyle = 'solid', \n",
    "         linewidth = 2, \n",
    "         label = \"MA_AMRO\")\n",
    "\n",
    "plt.plot(df.Date_reported,\n",
    "         df['MA_EMRO'], \n",
    "         color='green', \n",
    "         linestyle = 'solid', \n",
    "         linewidth = 2, \n",
    "         label = \"MA_EMRO\")\n",
    "\n",
    "\n",
    "plt.plot(df.Date_reported,\n",
    "         df['MA_EURO'], \n",
    "         color='grey', \n",
    "         linestyle = 'solid', \n",
    "         linewidth = 4, \n",
    "         label = \"MA_EURO\")\n",
    "\n",
    "\n",
    "plt.plot(df.Date_reported,\n",
    "         df['MA_SEARO'], \n",
    "         color='purple', \n",
    "         linestyle = 'solid', \n",
    "         linewidth = 2, \n",
    "         label = \"MA_SEARO\")\n",
    "\n",
    "\n",
    "plt.plot(df.Date_reported,\n",
    "         df['MA_WPRO'], \n",
    "         color='black', \n",
    "         linestyle = 'solid', \n",
    "         linewidth = 2, \n",
    "         label = \"MA_WPRO\")\n",
    "\n",
    "\n",
    "plt.legend(loc='upper center', \n",
    "           bbox_to_anchor=(0.5, -0.3),\n",
    "           fancybox=True, \n",
    "           shadow=True, \n",
    "           ncol=4, \n",
    "           fontsize=size)\n",
    "\n",
    "# Schriftgrößen x und y achsenwerte\n",
    "plt.xticks(fontsize=15, rotation=90)\n",
    "plt.yticks(fontsize=15)\n",
    "\n",
    "plt.ylabel('Neue Fälle', fontsize=15)\n",
    "plt.xlabel('Zeit', fontsize=15)\n",
    "\n",
    "plt.title('Neue Fälle pro Tag - Welt (WHO-Daten)\\n', fontsize=size)\n",
    "plt.suptitle(today + ' PW', fontsize=20, y=0.92)\n",
    "\n",
    "\n",
    "\n",
    "plt.show()"
   ]
  },
  {
   "cell_type": "code",
   "execution_count": null,
   "metadata": {},
   "outputs": [],
   "source": []
  },
  {
   "cell_type": "code",
   "execution_count": null,
   "metadata": {},
   "outputs": [],
   "source": []
  },
  {
   "cell_type": "markdown",
   "metadata": {},
   "source": [
    "## preprocessing"
   ]
  },
  {
   "cell_type": "code",
   "execution_count": 88,
   "metadata": {
    "scrolled": false
   },
   "outputs": [
    {
     "data": {
      "text/html": [
       "<div>\n",
       "<style scoped>\n",
       "    .dataframe tbody tr th:only-of-type {\n",
       "        vertical-align: middle;\n",
       "    }\n",
       "\n",
       "    .dataframe tbody tr th {\n",
       "        vertical-align: top;\n",
       "    }\n",
       "\n",
       "    .dataframe thead th {\n",
       "        text-align: right;\n",
       "    }\n",
       "</style>\n",
       "<table border=\"1\" class=\"dataframe\">\n",
       "  <thead>\n",
       "    <tr style=\"text-align: right;\">\n",
       "      <th></th>\n",
       "      <th>Date_reported</th>\n",
       "      <th>Country</th>\n",
       "      <th>New_cases</th>\n",
       "      <th>New_deaths</th>\n",
       "      <th>MA</th>\n",
       "      <th>MA_deaths</th>\n",
       "      <th>MSTD_cases</th>\n",
       "      <th>MSTD_deaths</th>\n",
       "      <th>OTG_cases</th>\n",
       "      <th>UTG_cases</th>\n",
       "      <th>OTG_deaths</th>\n",
       "      <th>UTG_deaths</th>\n",
       "    </tr>\n",
       "  </thead>\n",
       "  <tbody>\n",
       "    <tr>\n",
       "      <th>272</th>\n",
       "      <td>2020-10-01 00:00:00+00:00</td>\n",
       "      <td>Afghanistan</td>\n",
       "      <td>17</td>\n",
       "      <td>0</td>\n",
       "      <td>16.428571</td>\n",
       "      <td>1.0</td>\n",
       "      <td>8.96023</td>\n",
       "      <td>1.290994</td>\n",
       "      <td>25.388801</td>\n",
       "      <td>7.468342</td>\n",
       "      <td>2.290994</td>\n",
       "      <td>-0.290994</td>\n",
       "    </tr>\n",
       "  </tbody>\n",
       "</table>\n",
       "</div>"
      ],
      "text/plain": [
       "                Date_reported      Country  New_cases  New_deaths         MA  \\\n",
       "272 2020-10-01 00:00:00+00:00  Afghanistan         17           0  16.428571   \n",
       "\n",
       "     MA_deaths  MSTD_cases  MSTD_deaths  OTG_cases  UTG_cases  OTG_deaths  \\\n",
       "272        1.0     8.96023     1.290994  25.388801   7.468342    2.290994   \n",
       "\n",
       "     UTG_deaths  \n",
       "272   -0.290994  "
      ]
     },
     "execution_count": 88,
     "metadata": {},
     "output_type": "execute_result"
    }
   ],
   "source": [
    "#gleitender Mittelwert der cases und deaths, 7 Tage\n",
    "data['MA'] = data['New_cases'].rolling(window=7,min_periods=1).mean()\n",
    "data['MA_deaths'] = data['New_deaths'].rolling(window=7, min_periods=1).mean()\n",
    "\n",
    "data['MSTD_cases'] = data['New_cases'].rolling(window=7,min_periods=1).std()\n",
    "data['MSTD_deaths'] = data['New_deaths'].rolling(window=7,min_periods=1).std()\n",
    "\n",
    "data['OTG_cases'] = data['MA'] + data['MSTD_cases']\n",
    "data['UTG_cases'] = data['MA'] - data['MSTD_cases']\n",
    "\n",
    "data['OTG_deaths'] = data['MA_deaths'] + data['MSTD_deaths']\n",
    "data['UTG_deaths'] = data['MA_deaths'] - data['MSTD_deaths']\n",
    "\n",
    "# Date_reported in eine Datumsspalte umwandeln\n",
    "data['Date_reported'] = pd.to_datetime(data.Date_reported, utc=True)\n",
    "\n",
    "#Timestamp definieren  YYYY-MM-DD\n",
    "ts = pd.to_datetime('2020-10-01', utc=True)\n",
    "\n",
    "# Zeit eingrenzen\n",
    "data = data.loc[data.Date_reported >= ts, :]\n",
    "\n",
    "data = data.drop(columns=['Country_code', 'WHO_region', 'Cumulative_cases', 'Cumulative_deaths'])\n",
    "\n",
    "data.head(1)"
   ]
  },
  {
   "cell_type": "markdown",
   "metadata": {},
   "source": [
    "# Variablen für die Plots definieren"
   ]
  },
  {
   "cell_type": "markdown",
   "metadata": {},
   "source": [
    "### Linien und Schriftgrößen"
   ]
  },
  {
   "cell_type": "code",
   "execution_count": 89,
   "metadata": {},
   "outputs": [],
   "source": [
    "# Linien Stärke\n",
    "lws = 3\n",
    "lwb = 7\n",
    "# Bezugsschriftgröße\n",
    "size = 25"
   ]
  },
  {
   "cell_type": "markdown",
   "metadata": {},
   "source": [
    " ### Bezugsgröße Einwohner"
   ]
  },
  {
   "cell_type": "code",
   "execution_count": 90,
   "metadata": {},
   "outputs": [],
   "source": [
    "pE = 100_000"
   ]
  },
  {
   "cell_type": "markdown",
   "metadata": {},
   "source": [
    "### Speicherorte und Dateinamen Plots"
   ]
  },
  {
   "cell_type": "code",
   "execution_count": 91,
   "metadata": {},
   "outputs": [],
   "source": [
    "pfad = \"D:\\\\Github\\\\Covid-19-Auswertung-WHO-DIVI\\\\output\\\\\"\n",
    "\n",
    "name_1_1 = \"plot_1-1_cases_absolute numbers.png\" # cases absoulte zahlen EU\n",
    "name_1_2 = \"plot_1-2_cases.png\" # cases pro 100.000 Einwohner EU \n",
    "name_2 = \"plot_2_intensiv.png\" # intensiv Deutschland\n",
    "name_2_2 = \"plot_2_2_intensiv_gesamt.png\" # intensiv Deutschland covid und nicht covid\n",
    "name_2_3 = \"plot_2_3_intensiv_covid-19.png\" # intensiv Deutschland covid\n",
    "name_3_1 = \"plot_3-1_deaths_absolute numbers.png\" # deaths absolute zahlen EU\n",
    "name_3_2 = \"plot_3-2_deaths.png\" # deaths pro 100.000 Einwohner EU\n",
    "name_4_1 = \"plot_4-1_cases_ger.png\" # cases Deutschland\n",
    "name_4_2 = \"plot_4-2_deaths_ger.png\" # deaths Deutschland"
   ]
  },
  {
   "cell_type": "markdown",
   "metadata": {},
   "source": [
    "### Länder definieren"
   ]
  },
  {
   "cell_type": "code",
   "execution_count": 92,
   "metadata": {},
   "outputs": [],
   "source": [
    "ger = data[data.Country == 'Germany']\n",
    "fr = data[data.Country == 'France']\n",
    "at = data[data.Country == 'Austria']\n",
    "pl = data[data.Country == 'Poland']\n",
    "cz = data[data.Country == 'Czechia']\n",
    "ch = data[data.Country == 'Switzerland']\n",
    "it = data[data.Country == 'Italy']\n",
    "es = data[data.Country == 'Spain']\n",
    "gb = data[data.Country == 'The United Kingdom']\n",
    "\n",
    "isr = data[data.Country == 'Israel']\n",
    "se = data[data.Country == 'Sweden']\n",
    "usa = data[data.Country == 'United States of America']\n",
    "spa = data[data.Country == 'Spain']\n",
    "ita = data[data.Country == 'Italy']\n",
    "rus = data[data.Country == 'Russian Federation']"
   ]
  },
  {
   "cell_type": "markdown",
   "metadata": {},
   "source": [
    "## Länder Farben"
   ]
  },
  {
   "cell_type": "code",
   "execution_count": 93,
   "metadata": {},
   "outputs": [],
   "source": [
    "c_fr = '#f80d0d'    # rot\n",
    "c_pl = '#25e5e5'    # cyan\n",
    "c_isr = '#25e5e5'\n",
    "c_ger = '#0721ff'   # dunkelblau\n",
    "c_cz = '#bb8fce'    # lila\n",
    "c_usa = '#bb8fce'\n",
    "c_at = '#18c213'    # grün\n",
    "c_rus = '#18c213'\n",
    "c_se = '#18c213'\n",
    "c_ch = '#000000'    # schwarz\n",
    "c_ita = '#000000'\n",
    "c_gb = '#faac2b'    # orange"
   ]
  },
  {
   "cell_type": "markdown",
   "metadata": {},
   "source": [
    "### Einwohnerzahlen"
   ]
  },
  {
   "cell_type": "code",
   "execution_count": 94,
   "metadata": {},
   "outputs": [],
   "source": [
    "E_fr = 66_012_908\n",
    "E_pl = 38_659_927\n",
    "E_ger = 83_020_000\n",
    "E_cz = 10_586_651\n",
    "E_at = 8_902_600\n",
    "E_ch = 8_847_020\n",
    "E_gb = 66_650_000\n",
    "\n",
    "E_isr = 8_884_000\n",
    "E_usa = 328_200_000\n",
    "E_rus = 144_500_000\n",
    "E_ita = 60_360_000\n",
    "E_spa = 46_940_000\n",
    "E_se = 10_230_000"
   ]
  },
  {
   "cell_type": "markdown",
   "metadata": {},
   "source": [
    "# Visualisierung der Plots"
   ]
  },
  {
   "cell_type": "markdown",
   "metadata": {},
   "source": [
    "## dataframes speichern"
   ]
  },
  {
   "cell_type": "code",
   "execution_count": 95,
   "metadata": {},
   "outputs": [],
   "source": [
    "data.to_csv(r'D:\\\\Github\\\\Covid-19-Auswertung-WHO-DIVI\\\\output\\\\Dataframes\\\\data_WHO_data.csv', index=False)"
   ]
  },
  {
   "cell_type": "markdown",
   "metadata": {},
   "source": [
    "## Performance messen"
   ]
  },
  {
   "cell_type": "code",
   "execution_count": 96,
   "metadata": {},
   "outputs": [],
   "source": [
    "# pc = os.environ['COMPUTERNAME']\n",
    "# now2 = datetime.now()\n",
    "\n",
    "# # Laufzeit\n",
    "# x = now2 - now\n",
    "# x = round(x.total_seconds(),2)\n",
    "\n",
    "# # Performance CSV einlesen\n",
    "# d = pd.read_csv('D:\\\\Github\\\\Covid-19-Auswertung-WHO-DIVI\\\\output\\\\Dataframes\\\\df_performance_Führungskreis.csv')\n",
    "\n",
    "# # Neues Dateframe für die Performance definieren\n",
    "# now = datetime.now()\n",
    "\n",
    "# d2 = {'Date': [now],\n",
    "#       'PC': [pc],\n",
    "#       'Laufzeit_in_s': [x],\n",
    "#       'Version': [Programm_Name]}\n",
    "\n",
    "# # Datum Spalte formatieren\n",
    "# df2 = pd.DataFrame(d2)\n",
    "# df2['Date'] = df2['Date'].dt.strftime('%Y-%m-%d %r')\n",
    "\n",
    "# # Performance mit dem CSV verbinden\n",
    "# d = d.append(df2, ignore_index=True)\n",
    "\n",
    "# # Datenexport Performance\n",
    "# d.to_csv(r'D:\\\\Github\\\\Covid-19-Auswertung-WHO-DIVI\\\\output\\\\Dataframes\\\\df_performance_Führungskreis.csv', index=False)\n",
    "\n",
    "# print(f'performance {pc} = {x} seconds')"
   ]
  }
 ],
 "metadata": {
  "kernelspec": {
   "display_name": "Python 3",
   "language": "python",
   "name": "python3"
  },
  "language_info": {
   "codemirror_mode": {
    "name": "ipython",
    "version": 3
   },
   "file_extension": ".py",
   "mimetype": "text/x-python",
   "name": "python",
   "nbconvert_exporter": "python",
   "pygments_lexer": "ipython3",
   "version": "3.8.3"
  }
 },
 "nbformat": 4,
 "nbformat_minor": 4
}
