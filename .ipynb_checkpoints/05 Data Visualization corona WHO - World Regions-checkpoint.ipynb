{
 "cells": [
  {
   "cell_type": "markdown",
   "metadata": {},
   "source": [
    "# COVID-19 Auswertung - WHO - new cases, deaths"
   ]
  },
  {
   "cell_type": "markdown",
   "metadata": {},
   "source": [
    "## import libraries"
   ]
  },
  {
   "cell_type": "code",
   "execution_count": 1,
   "metadata": {},
   "outputs": [],
   "source": [
    "Programm_Name = \"WHO_World\" # 04.01.2021 - Time Series Impffdaten erstellen"
   ]
  },
  {
   "cell_type": "code",
   "execution_count": 2,
   "metadata": {},
   "outputs": [],
   "source": [
    "import pandas as pd #Daten\n",
    "from matplotlib import pyplot as plt # plots\n",
    "#import matplotlib as mpl\n",
    "from matplotlib.ticker import FuncFormatter   # Numberformat plot ticks\n",
    "import numpy as np\n",
    "\n",
    "# performance\n",
    "from datetime import datetime\n",
    "from datetime import date # todays date\n",
    "#import seaborn as sns\n",
    "\n",
    "import os\n",
    "now = datetime.now()"
   ]
  },
  {
   "cell_type": "markdown",
   "metadata": {},
   "source": [
    "# Variablen für die Plots definieren"
   ]
  },
  {
   "cell_type": "markdown",
   "metadata": {},
   "source": [
    "### Linien und Schriftgrößen"
   ]
  },
  {
   "cell_type": "code",
   "execution_count": 3,
   "metadata": {},
   "outputs": [],
   "source": [
    "# Linien Stärke\n",
    "lws = 3\n",
    "lwb = 7\n",
    "# Bezugsschriftgröße\n",
    "size = 25"
   ]
  },
  {
   "cell_type": "markdown",
   "metadata": {},
   "source": [
    " ### Bezugsgröße Einwohner"
   ]
  },
  {
   "cell_type": "code",
   "execution_count": 4,
   "metadata": {},
   "outputs": [],
   "source": [
    "pE = 100_000"
   ]
  },
  {
   "cell_type": "markdown",
   "metadata": {},
   "source": [
    "### Speicherorte und Dateinamen Plots"
   ]
  },
  {
   "cell_type": "code",
   "execution_count": 5,
   "metadata": {},
   "outputs": [],
   "source": [
    "pfad = \"D:\\\\Github\\\\Covid-19-Auswertung-WHO-DIVI\\\\output\\\\\"\n",
    "name_8_1 = \"plot_8-1_cases_world.png\" # deaths Deutschland"
   ]
  },
  {
   "cell_type": "markdown",
   "metadata": {},
   "source": [
    "## Länder Farben"
   ]
  },
  {
   "cell_type": "code",
   "execution_count": 6,
   "metadata": {},
   "outputs": [],
   "source": [
    "c_fr = '#f80d0d'    # rot\n",
    "c_pl = '#25e5e5'    # cyan\n",
    "c_isr = '#25e5e5'\n",
    "c_ger = '#0721ff'   # dunkelblau\n",
    "c_cz = '#bb8fce'    # lila\n",
    "c_usa = '#bb8fce'\n",
    "c_at = '#18c213'    # grün\n",
    "c_rus = '#18c213'\n",
    "c_se = '#18c213'\n",
    "c_ch = '#000000'    # schwarz\n",
    "c_ita = '#000000'\n",
    "c_gb = '#faac2b'    # orange"
   ]
  },
  {
   "cell_type": "markdown",
   "metadata": {},
   "source": [
    "# Preprocessing Dataframes"
   ]
  },
  {
   "cell_type": "code",
   "execution_count": 7,
   "metadata": {},
   "outputs": [],
   "source": [
    "today = date.today().strftime(\"%d.%m.%Y\")\n",
    "size = 25"
   ]
  },
  {
   "cell_type": "markdown",
   "metadata": {},
   "source": [
    "## Datenimport"
   ]
  },
  {
   "cell_type": "code",
   "execution_count": 8,
   "metadata": {
    "scrolled": false
   },
   "outputs": [
    {
     "data": {
      "text/html": [
       "<div>\n",
       "<style scoped>\n",
       "    .dataframe tbody tr th:only-of-type {\n",
       "        vertical-align: middle;\n",
       "    }\n",
       "\n",
       "    .dataframe tbody tr th {\n",
       "        vertical-align: top;\n",
       "    }\n",
       "\n",
       "    .dataframe thead th {\n",
       "        text-align: right;\n",
       "    }\n",
       "</style>\n",
       "<table border=\"1\" class=\"dataframe\">\n",
       "  <thead>\n",
       "    <tr style=\"text-align: right;\">\n",
       "      <th></th>\n",
       "      <th>Date_reported</th>\n",
       "      <th>Country_code</th>\n",
       "      <th>Country</th>\n",
       "      <th>WHO_region</th>\n",
       "      <th>New_cases</th>\n",
       "      <th>Cumulative_cases</th>\n",
       "      <th>New_deaths</th>\n",
       "      <th>Cumulative_deaths</th>\n",
       "    </tr>\n",
       "  </thead>\n",
       "  <tbody>\n",
       "    <tr>\n",
       "      <th>0</th>\n",
       "      <td>2020-01-03</td>\n",
       "      <td>AF</td>\n",
       "      <td>Afghanistan</td>\n",
       "      <td>EMRO</td>\n",
       "      <td>0</td>\n",
       "      <td>0</td>\n",
       "      <td>0</td>\n",
       "      <td>0</td>\n",
       "    </tr>\n",
       "    <tr>\n",
       "      <th>1</th>\n",
       "      <td>2020-01-04</td>\n",
       "      <td>AF</td>\n",
       "      <td>Afghanistan</td>\n",
       "      <td>EMRO</td>\n",
       "      <td>0</td>\n",
       "      <td>0</td>\n",
       "      <td>0</td>\n",
       "      <td>0</td>\n",
       "    </tr>\n",
       "    <tr>\n",
       "      <th>2</th>\n",
       "      <td>2020-01-05</td>\n",
       "      <td>AF</td>\n",
       "      <td>Afghanistan</td>\n",
       "      <td>EMRO</td>\n",
       "      <td>0</td>\n",
       "      <td>0</td>\n",
       "      <td>0</td>\n",
       "      <td>0</td>\n",
       "    </tr>\n",
       "  </tbody>\n",
       "</table>\n",
       "</div>"
      ],
      "text/plain": [
       "  Date_reported Country_code      Country WHO_region  New_cases  \\\n",
       "0    2020-01-03           AF  Afghanistan       EMRO          0   \n",
       "1    2020-01-04           AF  Afghanistan       EMRO          0   \n",
       "2    2020-01-05           AF  Afghanistan       EMRO          0   \n",
       "\n",
       "   Cumulative_cases  New_deaths  Cumulative_deaths  \n",
       "0                 0           0                  0  \n",
       "1                 0           0                  0  \n",
       "2                 0           0                  0  "
      ]
     },
     "execution_count": 8,
     "metadata": {},
     "output_type": "execute_result"
    }
   ],
   "source": [
    "# Webabruf - CSV einlesen\n",
    "data = pd.read_csv(\"https://covid19.who.int/WHO-COVID-19-global-data.csv\")\n",
    "data.head(3)"
   ]
  },
  {
   "cell_type": "code",
   "execution_count": 9,
   "metadata": {},
   "outputs": [],
   "source": [
    "df = data"
   ]
  },
  {
   "cell_type": "code",
   "execution_count": 10,
   "metadata": {
    "scrolled": true
   },
   "outputs": [],
   "source": [
    "# df = df[ ['Date_reported', 'WHO_region', 'New_cases'] ].groupby( [ df[\"Date_reported\"], df[\"WHO_region\"] ] ).sum()\n",
    "# df = df.reset_index()\n",
    "# df"
   ]
  },
  {
   "cell_type": "code",
   "execution_count": 11,
   "metadata": {},
   "outputs": [
    {
     "data": {
      "text/html": [
       "<div>\n",
       "<style scoped>\n",
       "    .dataframe tbody tr th:only-of-type {\n",
       "        vertical-align: middle;\n",
       "    }\n",
       "\n",
       "    .dataframe tbody tr th {\n",
       "        vertical-align: top;\n",
       "    }\n",
       "\n",
       "    .dataframe thead th {\n",
       "        text-align: right;\n",
       "    }\n",
       "</style>\n",
       "<table border=\"1\" class=\"dataframe\">\n",
       "  <thead>\n",
       "    <tr style=\"text-align: right;\">\n",
       "      <th>WHO_region</th>\n",
       "      <th>level_0</th>\n",
       "      <th>Date_reported</th>\n",
       "      <th>AFRO</th>\n",
       "      <th>AMRO</th>\n",
       "      <th>EMRO</th>\n",
       "      <th>EURO</th>\n",
       "      <th>Other</th>\n",
       "      <th>SEARO</th>\n",
       "      <th>WPRO</th>\n",
       "      <th>MA_AFRO</th>\n",
       "      <th>MA_AMRO</th>\n",
       "      <th>MA_EMRO</th>\n",
       "      <th>MA_EURO</th>\n",
       "      <th>MA_SEARO</th>\n",
       "      <th>MA_WPRO</th>\n",
       "    </tr>\n",
       "  </thead>\n",
       "  <tbody>\n",
       "    <tr>\n",
       "      <th>0</th>\n",
       "      <td>New_cases</td>\n",
       "      <td>2020-01-03</td>\n",
       "      <td>0.0</td>\n",
       "      <td>0</td>\n",
       "      <td>0</td>\n",
       "      <td>0.0</td>\n",
       "      <td>0</td>\n",
       "      <td>0</td>\n",
       "      <td>0</td>\n",
       "      <td>0.0</td>\n",
       "      <td>0.0</td>\n",
       "      <td>0.0</td>\n",
       "      <td>0.0</td>\n",
       "      <td>0.0</td>\n",
       "      <td>0.0</td>\n",
       "    </tr>\n",
       "    <tr>\n",
       "      <th>1</th>\n",
       "      <td>New_cases</td>\n",
       "      <td>2020-01-04</td>\n",
       "      <td>0.0</td>\n",
       "      <td>0</td>\n",
       "      <td>0</td>\n",
       "      <td>0.0</td>\n",
       "      <td>0</td>\n",
       "      <td>0</td>\n",
       "      <td>1</td>\n",
       "      <td>0.0</td>\n",
       "      <td>0.0</td>\n",
       "      <td>0.0</td>\n",
       "      <td>0.0</td>\n",
       "      <td>0.0</td>\n",
       "      <td>0.5</td>\n",
       "    </tr>\n",
       "  </tbody>\n",
       "</table>\n",
       "</div>"
      ],
      "text/plain": [
       "WHO_region    level_0 Date_reported  AFRO  AMRO  EMRO  EURO  Other  SEARO  \\\n",
       "0           New_cases    2020-01-03   0.0     0     0   0.0      0      0   \n",
       "1           New_cases    2020-01-04   0.0     0     0   0.0      0      0   \n",
       "\n",
       "WHO_region  WPRO  MA_AFRO  MA_AMRO  MA_EMRO  MA_EURO  MA_SEARO  MA_WPRO  \n",
       "0              0      0.0      0.0      0.0      0.0       0.0      0.0  \n",
       "1              1      0.0      0.0      0.0      0.0       0.0      0.5  "
      ]
     },
     "execution_count": 11,
     "metadata": {},
     "output_type": "execute_result"
    }
   ],
   "source": [
    "df = df[ ['Date_reported', 'WHO_region', 'New_cases'] ].groupby( [ df[\"Date_reported\"], df[\"WHO_region\"] ] ).sum().transpose().stack(0).reset_index()\n",
    "df['Date_reported'] = pd.to_datetime(df.Date_reported)\n",
    "\n",
    "\n",
    "df['MA_AFRO'] = df['AFRO'].rolling(window=7,min_periods=1).mean()\n",
    "df['MA_AMRO'] = df['AMRO'].rolling(window=7,min_periods=1).mean()\n",
    "df['MA_EMRO'] = df['EMRO'].rolling(window=7,min_periods=1).mean()\n",
    "df['MA_EURO'] = df['EURO'].rolling(window=7,min_periods=1).mean()\n",
    "df['MA_SEARO'] = df['SEARO'].rolling(window=7,min_periods=1).mean()\n",
    "df['MA_WPRO'] = df['WPRO'].rolling(window=7,min_periods=1).mean()\n",
    "\n",
    "df.head(2)"
   ]
  },
  {
   "cell_type": "code",
   "execution_count": 12,
   "metadata": {},
   "outputs": [],
   "source": [
    "# df = df[ ['Date_reported', 'WHO_region', 'New_cases'] ].groupby(\"WHO_region\").sum().sort_values(by='New_cases', ascending=False).head()\n",
    "# df"
   ]
  },
  {
   "cell_type": "code",
   "execution_count": 13,
   "metadata": {},
   "outputs": [],
   "source": [
    "# plt.figure(figsize=(16,9))\n",
    "\n",
    "plt.style.use('seaborn')\n",
    "\n",
    "def y_axis_thousands(x, pos):\n",
    "   # 'The two args are the value and tick position'\n",
    "    return '{:0,d}'.format(int(x)).replace(\",\",\".\")\n",
    "formatter = FuncFormatter(y_axis_thousands)\n",
    "\n",
    "\n",
    "fig = plt.figure(figsize=(16,9))\n",
    "ax = fig.add_subplot()\n",
    "ax.yaxis.set_major_formatter(formatter)\n",
    "\n",
    "# df['MA_AFRO'] = df['AFRO'].rolling(window=7,min_periods=1).mean()\n",
    "# df['MA_AMRO'] = df['AMRO'].rolling(window=7,min_periods=1).mean()\n",
    "# df['MA_EMRO'] = df['EMRO'].rolling(window=7,min_periods=1).mean()\n",
    "# df['MA_EURO'] = df['EURO'].rolling(window=7,min_periods=1).mean()\n",
    "# df['MA_SEARO'] = df['SEARO'].rolling(window=7,min_periods=1).mean()\n",
    "# df['MA_WPRO'] = df['WPRO'].rolling(window=7,min_periods=1).mean()\n",
    "\n",
    "plt.plot(df.Date_reported,\n",
    "         df['MA_AMRO']+df['MA_EURO']+df['MA_SEARO']+df['MA_EMRO']+df['MA_AFRO']+df['MA_WPRO'], \n",
    "         color='orange', \n",
    "         linestyle = 'solid', \n",
    "         linewidth = 2, \n",
    "         label = \"Americas\")\n",
    "\n",
    "plt.plot(df.Date_reported,\n",
    "         df['MA_EURO']+df['MA_SEARO']+df['MA_EMRO']+df['MA_AFRO']+df['MA_WPRO'], \n",
    "         color='green', \n",
    "         linestyle = 'solid', \n",
    "         linewidth = 4, \n",
    "         label = \"Europe\")\n",
    "\n",
    "plt.plot(df.Date_reported,\n",
    "         df['MA_SEARO']+df['MA_EMRO']+df['MA_AFRO']+df['MA_WPRO'], \n",
    "         color='purple', \n",
    "         linestyle = 'solid', \n",
    "         linewidth = 4, \n",
    "         label = \"South East Asia\")\n",
    "\n",
    "plt.plot(df.Date_reported,\n",
    "         df['MA_EMRO']+df['MA_AFRO']+df['MA_WPRO'], \n",
    "         color='yellow', \n",
    "         linestyle = 'solid', \n",
    "         linewidth = 2, \n",
    "         label = \"Eastern Mediterran\")\n",
    "\n",
    "plt.plot(df.Date_reported,\n",
    "         df['MA_AFRO']+df['MA_WPRO'], \n",
    "         color='blue', \n",
    "         linestyle = 'solid', \n",
    "         linewidth = 2, \n",
    "         label = \"Africa\")\n",
    "\n",
    "plt.plot(df.Date_reported,\n",
    "         df['MA_WPRO'], \n",
    "         color='black', \n",
    "         linestyle = 'solid', \n",
    "         linewidth = 2, \n",
    "         label = \"Western Pacific\")\n",
    "\n",
    "\n",
    "\n",
    "# fill area between lines\n",
    "plt.fill_between(df.Date_reported,\n",
    "                 df['MA_AMRO']+df['MA_EURO']+df['MA_SEARO']+df['MA_EMRO']+df['MA_AFRO']+df['MA_WPRO'], \n",
    "                 df['MA_EURO']+df['MA_SEARO']+df['MA_EMRO']+df['MA_AFRO']+df['MA_WPRO'] , color='orange',alpha=0.5)\n",
    "\n",
    "plt.fill_between(df.Date_reported,\n",
    "                 df['MA_EURO']+df['MA_SEARO']+df['MA_EMRO']+df['MA_AFRO']+df['MA_WPRO'], \n",
    "                 df['MA_SEARO']+df['MA_EMRO']+df['MA_AFRO']+df['MA_WPRO'] , color='green',alpha=0.5)\n",
    "\n",
    "plt.fill_between(df.Date_reported,\n",
    "                 df['MA_SEARO']+df['MA_EMRO']+df['MA_AFRO']+df['MA_WPRO'], \n",
    "                 df['MA_EMRO']+df['MA_AFRO']+df['MA_WPRO'], color='purple',alpha=0.5)\n",
    "\n",
    "plt.fill_between(df.Date_reported,\n",
    "                 df['MA_EMRO']+df['MA_AFRO']+df['MA_WPRO'], \n",
    "                 df['MA_AFRO']+df['MA_WPRO'], color='yellow',alpha=0.5)\n",
    "\n",
    "plt.fill_between(df.Date_reported,\n",
    "                 df['MA_AFRO']+df['MA_WPRO'], \n",
    "                 df['MA_WPRO'], color='blue',alpha=0.5)\n",
    "\n",
    "plt.fill_between(df.Date_reported,\n",
    "                 df['MA_WPRO'], \n",
    "                 color='black',alpha=0.5)\n",
    "\n",
    "\n",
    "plt.legend(loc='upper center', \n",
    "           bbox_to_anchor=(0.5, -0.3),\n",
    "           fancybox=True, \n",
    "           shadow=True, \n",
    "           ncol=3, \n",
    "           fontsize=size)\n",
    "\n",
    "# Schriftgrößen x und y achsenwerte\n",
    "plt.xticks(fontsize=size - 10, rotation=90)\n",
    "plt.yticks(fontsize=size -4)\n",
    "\n",
    "plt.ylabel('Neue Fälle', fontsize=size)\n",
    "plt.xlabel('Zeit', fontsize=size)\n",
    "\n",
    "plt.title('Neue Fälle pro Tag - Welt (WHO-Daten)\\n', fontsize=size)\n",
    "plt.suptitle(today + ' PW', fontsize=size-5, y=0.915)\n",
    "\n",
    "# Diagramm als Bild exporieren und Auflösung definieren\n",
    "plt.savefig(pfad + name_8_1, dpi = 300, bbox_inches='tight')\n",
    "\n",
    "plt.close()\n",
    "#plt.show()"
   ]
  },
  {
   "cell_type": "markdown",
   "metadata": {},
   "source": [
    "## preprocessing"
   ]
  },
  {
   "cell_type": "code",
   "execution_count": 14,
   "metadata": {
    "scrolled": false
   },
   "outputs": [
    {
     "data": {
      "text/html": [
       "<div>\n",
       "<style scoped>\n",
       "    .dataframe tbody tr th:only-of-type {\n",
       "        vertical-align: middle;\n",
       "    }\n",
       "\n",
       "    .dataframe tbody tr th {\n",
       "        vertical-align: top;\n",
       "    }\n",
       "\n",
       "    .dataframe thead th {\n",
       "        text-align: right;\n",
       "    }\n",
       "</style>\n",
       "<table border=\"1\" class=\"dataframe\">\n",
       "  <thead>\n",
       "    <tr style=\"text-align: right;\">\n",
       "      <th></th>\n",
       "      <th>Date_reported</th>\n",
       "      <th>Country</th>\n",
       "      <th>New_cases</th>\n",
       "      <th>New_deaths</th>\n",
       "      <th>MA</th>\n",
       "      <th>MA_deaths</th>\n",
       "      <th>MSTD_cases</th>\n",
       "      <th>MSTD_deaths</th>\n",
       "      <th>OTG_cases</th>\n",
       "      <th>UTG_cases</th>\n",
       "      <th>OTG_deaths</th>\n",
       "      <th>UTG_deaths</th>\n",
       "    </tr>\n",
       "  </thead>\n",
       "  <tbody>\n",
       "    <tr>\n",
       "      <th>272</th>\n",
       "      <td>2020-10-01 00:00:00+00:00</td>\n",
       "      <td>Afghanistan</td>\n",
       "      <td>17</td>\n",
       "      <td>0</td>\n",
       "      <td>16.428571</td>\n",
       "      <td>1.0</td>\n",
       "      <td>8.96023</td>\n",
       "      <td>1.290994</td>\n",
       "      <td>25.388801</td>\n",
       "      <td>7.468342</td>\n",
       "      <td>2.290994</td>\n",
       "      <td>-0.290994</td>\n",
       "    </tr>\n",
       "  </tbody>\n",
       "</table>\n",
       "</div>"
      ],
      "text/plain": [
       "                Date_reported      Country  New_cases  New_deaths         MA  \\\n",
       "272 2020-10-01 00:00:00+00:00  Afghanistan         17           0  16.428571   \n",
       "\n",
       "     MA_deaths  MSTD_cases  MSTD_deaths  OTG_cases  UTG_cases  OTG_deaths  \\\n",
       "272        1.0     8.96023     1.290994  25.388801   7.468342    2.290994   \n",
       "\n",
       "     UTG_deaths  \n",
       "272   -0.290994  "
      ]
     },
     "execution_count": 14,
     "metadata": {},
     "output_type": "execute_result"
    }
   ],
   "source": [
    "#gleitender Mittelwert der cases und deaths, 7 Tage\n",
    "data['MA'] = data['New_cases'].rolling(window=7,min_periods=1).mean()\n",
    "data['MA_deaths'] = data['New_deaths'].rolling(window=7, min_periods=1).mean()\n",
    "\n",
    "data['MSTD_cases'] = data['New_cases'].rolling(window=7,min_periods=1).std()\n",
    "data['MSTD_deaths'] = data['New_deaths'].rolling(window=7,min_periods=1).std()\n",
    "\n",
    "data['OTG_cases'] = data['MA'] + data['MSTD_cases']\n",
    "data['UTG_cases'] = data['MA'] - data['MSTD_cases']\n",
    "\n",
    "data['OTG_deaths'] = data['MA_deaths'] + data['MSTD_deaths']\n",
    "data['UTG_deaths'] = data['MA_deaths'] - data['MSTD_deaths']\n",
    "\n",
    "# Date_reported in eine Datumsspalte umwandeln\n",
    "data['Date_reported'] = pd.to_datetime(data.Date_reported, utc=True)\n",
    "\n",
    "#Timestamp definieren  YYYY-MM-DD\n",
    "ts = pd.to_datetime('2020-10-01', utc=True)\n",
    "\n",
    "# Zeit eingrenzen\n",
    "data = data.loc[data.Date_reported >= ts, :]\n",
    "\n",
    "data = data.drop(columns=['Country_code', 'WHO_region', 'Cumulative_cases', 'Cumulative_deaths'])\n",
    "\n",
    "data.head(1)"
   ]
  },
  {
   "cell_type": "markdown",
   "metadata": {},
   "source": [
    "### Einwohnerzahlen"
   ]
  },
  {
   "cell_type": "markdown",
   "metadata": {},
   "source": [
    "# Visualisierung der Plots"
   ]
  },
  {
   "cell_type": "markdown",
   "metadata": {},
   "source": [
    "## dataframes speichern"
   ]
  },
  {
   "cell_type": "code",
   "execution_count": 15,
   "metadata": {},
   "outputs": [],
   "source": [
    "df.to_csv(r'D:\\\\Github\\\\Covid-19-Auswertung-WHO-DIVI\\\\output\\\\Dataframes\\\\data_WHO_data_world.csv', index=False)"
   ]
  },
  {
   "cell_type": "markdown",
   "metadata": {},
   "source": [
    "## Performance messen"
   ]
  },
  {
   "cell_type": "code",
   "execution_count": 16,
   "metadata": {},
   "outputs": [
    {
     "name": "stdout",
     "output_type": "stream",
     "text": [
      "performance DOUG = 1.65 seconds\n"
     ]
    }
   ],
   "source": [
    "pc = os.environ['COMPUTERNAME']\n",
    "now2 = datetime.now()\n",
    "\n",
    "# Laufzeit\n",
    "x = now2 - now\n",
    "x = round(x.total_seconds(),2)\n",
    "\n",
    "# Performance CSV einlesen\n",
    "d = pd.read_csv('D:\\\\Github\\\\Covid-19-Auswertung-WHO-DIVI\\\\output\\\\Dataframes\\\\df_performance_Führungskreis.csv')\n",
    "\n",
    "# Neues Dateframe für die Performance definieren\n",
    "now = datetime.now()\n",
    "\n",
    "d2 = {'Date': [now],\n",
    "      'PC': [pc],\n",
    "      'Laufzeit_in_s': [x],\n",
    "      'Version': [Programm_Name]}\n",
    "\n",
    "# Datum Spalte formatieren\n",
    "df2 = pd.DataFrame(d2)\n",
    "df2['Date'] = df2['Date'].dt.strftime('%Y-%m-%d %r')\n",
    "\n",
    "# Performance mit dem CSV verbinden\n",
    "d = d.append(df2, ignore_index=True)\n",
    "\n",
    "# Datenexport Performance\n",
    "d.to_csv(r'D:\\\\Github\\\\Covid-19-Auswertung-WHO-DIVI\\\\output\\\\Dataframes\\\\df_performance_Führungskreis.csv', index=False)\n",
    "\n",
    "print(f'performance {pc} = {x} seconds')"
   ]
  }
 ],
 "metadata": {
  "kernelspec": {
   "display_name": "Python 3",
   "language": "python",
   "name": "python3"
  },
  "language_info": {
   "codemirror_mode": {
    "name": "ipython",
    "version": 3
   },
   "file_extension": ".py",
   "mimetype": "text/x-python",
   "name": "python",
   "nbconvert_exporter": "python",
   "pygments_lexer": "ipython3",
   "version": "3.8.3"
  }
 },
 "nbformat": 4,
 "nbformat_minor": 4
}
