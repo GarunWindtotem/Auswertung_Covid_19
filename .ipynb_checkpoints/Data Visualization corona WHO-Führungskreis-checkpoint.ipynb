{
 "cells": [
  {
   "cell_type": "markdown",
   "metadata": {},
   "source": [
    "# COVID-19 Auswertung - new cases, deaths, Intensivstationen\n",
    "## DIVI und WHO Daten - Deutschland und einige Nachbarn\n"
   ]
  },
  {
   "cell_type": "markdown",
   "metadata": {},
   "source": [
    "## import libraries"
   ]
  },
  {
   "cell_type": "code",
   "execution_count": 818,
   "metadata": {},
   "outputs": [],
   "source": [
    "version = \"V0.2.0\" # 04.01.2021 - Time Series Impffdaten erstellen"
   ]
  },
  {
   "cell_type": "code",
   "execution_count": 819,
   "metadata": {},
   "outputs": [],
   "source": [
    "# DATAFRAMES\n",
    "# data (WHO-data)\n",
    "# df_divi2 (DIVI)\n",
    "# df_PQ (Positivenquote)\n",
    "# df_EW (Einwohner)\n",
    "# df_I (Impfquote)\n",
    "# df_I_EW (Impfqoute UND Einwohner)\n",
    "# d (df_performance_Führungskreis.csv)"
   ]
  },
  {
   "cell_type": "code",
   "execution_count": 820,
   "metadata": {},
   "outputs": [],
   "source": [
    "import pandas as pd #Daten\n",
    "from matplotlib import pyplot as plt # plots\n",
    "#import matplotlib as mpl\n",
    "from matplotlib.ticker import FuncFormatter   # Numberformat plot ticks\n",
    "import numpy as np\n",
    "\n",
    "# performance\n",
    "from datetime import datetime\n",
    "from datetime import date # todays date\n",
    "import seaborn as sns\n",
    "\n",
    "import os\n",
    "now = datetime.now()"
   ]
  },
  {
   "cell_type": "markdown",
   "metadata": {},
   "source": [
    "# Preprocessing Dataframes"
   ]
  },
  {
   "cell_type": "code",
   "execution_count": 821,
   "metadata": {},
   "outputs": [],
   "source": [
    "today = date.today().strftime(\"%d.%m.%Y\")"
   ]
  },
  {
   "cell_type": "markdown",
   "metadata": {},
   "source": [
    "## Datenimport"
   ]
  },
  {
   "cell_type": "code",
   "execution_count": 822,
   "metadata": {
    "scrolled": false
   },
   "outputs": [],
   "source": [
    "# Webabruf - CSV einlesen\n",
    "data = pd.read_csv(\"https://covid19.who.int/WHO-COVID-19-global-data.csv\")\n",
    "\n",
    "# Lokal - CSV einlesen\n",
    "df_divi2 = pd.read_csv(\"D:\\\\Github\\\\Covid-19-Auswertung-WHO-DIVI\\\\input\\\\data-k3LbD.csv\")\n",
    "df_divi2['date'] = pd.to_datetime(df_divi2.date, utc=True)\n",
    "#df_divi2 = df.loc[df.date >= ts, :]\n",
    "\n",
    "# Datenimport Positivenquote\n",
    "df_PQ = pd.read_excel(\"D:\\\\Github\\\\Covid-19-Auswertung-WHO-DIVI\\\\input\\\\Testzahlen-gesamt.xlsx\",\n",
    "                    sheet_name =\"Testzahlen\",\n",
    "                    usecols=\"B:F\",\n",
    "                    skiprows=2,)\n",
    "\n",
    "# Datenimport Einwohnerdaten Bundesländer\n",
    "df_EW = pd.read_excel(\"D:\\\\Github\\\\Covid-19-Auswertung-WHO-DIVI\\\\input\\\\02-bundeslaender.xlsx\",\n",
    "                     sheet_name=\"Bundesländer_mit_Hauptstädten\",\n",
    "                     usecols=\"A:G\",\n",
    "                     skiprows=6)\n",
    "\n",
    "# Datenimport Impfungen\n",
    "df_I = pd.read_excel(\"D:\\\\Github\\\\Covid-19-Auswertung-WHO-DIVI\\\\input\\\\Impfquotenmonitoring.xlsx\",\n",
    "                    sheet_name = sheet_name,\n",
    "                    usecols=\"A:G\")"
   ]
  },
  {
   "cell_type": "markdown",
   "metadata": {},
   "source": [
    "## preprocessing"
   ]
  },
  {
   "cell_type": "markdown",
   "metadata": {},
   "source": [
    "### data (WHO)"
   ]
  },
  {
   "cell_type": "code",
   "execution_count": 823,
   "metadata": {
    "scrolled": false
   },
   "outputs": [],
   "source": [
    "#gleitender Mittelwert der cases und deaths, 7 Tage\n",
    "data['MA'] = data['New_cases'].rolling(window=7,min_periods=1).mean()\n",
    "data['MA_deaths'] = data['New_deaths'].rolling(window=7, min_periods=1).mean()\n",
    "\n",
    "data['MSTD_cases'] = data['New_cases'].rolling(window=7,min_periods=1).std()\n",
    "data['MSTD_deaths'] = data['New_deaths'].rolling(window=7,min_periods=1).std()\n",
    "\n",
    "data['OTG_cases'] = data['MA'] + data['MSTD_cases']\n",
    "data['UTG_cases'] = data['MA'] - data['MSTD_cases']\n",
    "\n",
    "data['OTG_deaths'] = data['MA_deaths'] + data['MSTD_deaths']\n",
    "data['UTG_deaths'] = data['MA_deaths'] - data['MSTD_deaths']\n",
    "\n",
    "# Date_reported in eine Datumsspalte umwandeln\n",
    "data['Date_reported'] = pd.to_datetime(data.Date_reported, utc=True)\n",
    "\n",
    "#Timestamp definieren  YYYY-MM-DD\n",
    "ts = pd.to_datetime('2020-10-01', utc=True)\n",
    "\n",
    "# Zeit eingrenzen\n",
    "data = data.loc[data.Date_reported >= ts, :]\n",
    "\n",
    "del data['Country_code']\n",
    "del data['WHO_region']\n",
    "del data['Cumulative_cases']\n",
    "del data['Cumulative_deaths']\n",
    "#data.head(1)"
   ]
  },
  {
   "cell_type": "markdown",
   "metadata": {},
   "source": [
    "### df_divi2 (DIVI)"
   ]
  },
  {
   "cell_type": "code",
   "execution_count": 824,
   "metadata": {},
   "outputs": [],
   "source": [
    "# Zeit eingrenzen\n",
    "\n",
    "df_divi2 = df_divi2.loc[df_divi2.date >= ts, :]\n",
    "#df_divi2.head(1)"
   ]
  },
  {
   "cell_type": "code",
   "execution_count": 825,
   "metadata": {},
   "outputs": [],
   "source": [
    "# preprocessing Positivenquote\n",
    "del df_PQ[\"Anzahl übermittelnde Labore\"]\n",
    "del df_PQ[\"Positiven-quote (%)\"]\n",
    "df_PQ = df_PQ.replace('\\*','',regex=True)\n",
    "df_PQ.drop(df_PQ.tail(2).index,inplace=True) # drop last n rows\n",
    "df_PQ.drop(df_PQ.head(1).index,inplace=True) # drop last n rows\n",
    "#df_PQ[\"Positiven-quote (%)\"] = df_PQ[\"Positiven-quote (%)\"].astype(str)+ \" %\"\n",
    "df_PQ[\"Kalenderwoche 2020\"] = \"KW \"+df_PQ[\"Kalenderwoche 2020\"].astype(str)\n",
    "\n",
    "df_PQ[\"Positivenquote\"] = round(100*(df_PQ[\"Positiv getestet\"]/df_PQ[\"Anzahl Testungen\"]),1)\n",
    "#df_PQ.head(1)"
   ]
  },
  {
   "cell_type": "markdown",
   "metadata": {},
   "source": [
    "### df_EW (Einwohnerdaten pro Bundesland)"
   ]
  },
  {
   "cell_type": "code",
   "execution_count": 826,
   "metadata": {},
   "outputs": [],
   "source": [
    "# Spalten Überschriften definieren \n",
    "df_EW.rename(columns= {\"Unnamed: 0\": \"Bundesland\"},inplace=True)\n",
    "df_EW.rename(columns= {\"Unnamed: 1\": \"Stadt\"},inplace=True)\n",
    "df_EW.rename(columns= {\"Unnamed: 2\": \"Fläche\"},inplace=True)\n",
    "df_EW.rename(columns= {\"Unnamed: 3\": \"Einwohner\"},inplace=True)\n",
    "df_EW.rename(columns= {\"Unnamed: 4\": \"Einwohner_M\"},inplace=True)\n",
    "df_EW.rename(columns= {\"Unnamed: 5\": \"Einwohner_F\"},inplace=True)\n",
    "df_EW.rename(columns= {\"Unnamed: 6\": \"Einwohner_pro_km²\"},inplace=True)\n",
    "\n",
    "# nicht gebrauchte columns löschen\n",
    "del df_EW[\"Stadt\"]\n",
    "del df_EW[\"Einwohner_M\"]\n",
    "del df_EW[\"Einwohner_F\"]\n",
    "del df_EW[\"Einwohner_pro_km²\"]\n",
    "\n",
    "# Rechnen\n",
    "df_EW[\"Einwohner_pro_km²\"] = df_EW[\"Einwohner\"]/df_EW[\"Fläche\"]\n",
    "\n",
    "# alles löschen was keine Bundesländer sind\n",
    "df_EW[\"Bundesland\"] = df_EW[\"Bundesland\"].fillna(\"x\")      # ersetze alle NaN Werte mit x\n",
    "df_EW[\"Fläche\"] = df_EW[\"Fläche\"].fillna(\"x\")              # ersetze alle NaN Werte mit x\n",
    "indexNames = df_EW[ df_EW['Bundesland'] == \"x\" ].index     # alle Index Werte mit \"x\" in eine Variable schreiben\n",
    "df_EW.drop(indexNames , inplace=True)                      # lösche diese Index rows vom dataframe\n",
    "indexNames = df_EW[ df_EW['Fläche'] == \"x\" ].index         # wiederholen\n",
    "df_EW.drop(indexNames , inplace=True)                      # wiederholen\n",
    "\n",
    "\n",
    "# Bundesland erste 3 Zeichen entfernen\n",
    "df_EW[\"Bundesland\"] = df_EW[\"Bundesland\"].str[3:]\n",
    "\n",
    "# Datentyp in float ändern\n",
    "df_EW[\"Fläche\"] = pd.to_numeric(df_EW[\"Fläche\"], errors='coerce')\n",
    "\n",
    "#remove space at start\n",
    "df_EW[\"Bundesland\"] = df_EW[\"Bundesland\"].str.lstrip()\n",
    "#df_EW.head(1)"
   ]
  },
  {
   "cell_type": "markdown",
   "metadata": {},
   "source": [
    "### df_I (Impfdaten pro Bundesland)"
   ]
  },
  {
   "cell_type": "code",
   "execution_count": 827,
   "metadata": {
    "scrolled": false
   },
   "outputs": [],
   "source": [
    "# Impfungen sheet_name der Datenquelle auslesen\n",
    "df_I_sheet = pd.read_excel(\"D:\\\\Github\\\\Covid-19-Auswertung-WHO-DIVI\\\\input\\\\Impfquotenmonitoring.xlsx\", None)\n",
    "sheet_name = df_I_sheet.keys()         # Tabellenblätter Namen auslesen\n",
    "sheet_name = [*sheet_name][1]          # Namen des zweiten Tabellenblattes anzeigen [*dict] dict keyword->list Index 1 anzeigen\n",
    "\n",
    "# nicht gebrauchte columns löschen\n",
    "del df_I[\"Indikation nach Alter*\"]\n",
    "del df_I[\"Berufliche Indikation*\"]\n",
    "del df_I[\"Medizinische Indikation*\"]\n",
    "del df_I[\"Pflegeheim-bewohnerIn*\"]\n",
    "\n",
    "# nicht gebrauchte rows löschen\n",
    "df_I.drop([16,17,18,19] , inplace=True)\n",
    "\n",
    "df_I[\"Differenz zum Vortag\"] = df_I[\"Differenz zum Vortag\"].fillna(0)\n",
    "\n",
    "#df_I.head(1)"
   ]
  },
  {
   "cell_type": "markdown",
   "metadata": {
    "scrolled": true
   },
   "source": [
    "### df_I_EW (Impfquote)"
   ]
  },
  {
   "cell_type": "code",
   "execution_count": 828,
   "metadata": {},
   "outputs": [],
   "source": [
    "# #df_I_EW.head(1)"
   ]
  },
  {
   "cell_type": "code",
   "execution_count": 829,
   "metadata": {},
   "outputs": [],
   "source": [
    "# Timeseries gestern einlesen\n",
    "df_I_timeseries1 = pd.read_csv('D:\\\\Github\\\\Covid-19-Auswertung-WHO-DIVI\\\\output\\\\Dataframes\\\\df_I_timeseries.csv')"
   ]
  },
  {
   "cell_type": "code",
   "execution_count": 830,
   "metadata": {},
   "outputs": [],
   "source": [
    "# Impfquote in % pro Bundesland\n",
    "# VLOOKUP \n",
    "df_I_EW = pd.merge(df_I, df_EW, on='Bundesland', how='outer')   # how='outer','inner','left','right'\n",
    "df_I_EW[\"Impfquote [%]\"] = (df_I_EW[\"Impfungen kumulativ\"]/df_I_EW[\"Einwohner\"])*100*(1/2)\n",
    "del df_I_EW[\"Fläche\"]\n",
    "del df_I_EW[\"Einwohner\"]\n",
    "del df_I_EW[\"Einwohner_pro_km²\"]\n",
    "df_I_EW = df_I_EW.sort_values(by=['Impfquote [%]'], ascending=False)"
   ]
  },
  {
   "cell_type": "markdown",
   "metadata": {},
   "source": [
    "### df_I_timeseries1 () "
   ]
  },
  {
   "cell_type": "code",
   "execution_count": 831,
   "metadata": {
    "scrolled": true
   },
   "outputs": [
    {
     "name": "stdout",
     "output_type": "stream",
     "text": [
      "z = 04.01.2021\n",
      "nichts appended\n"
     ]
    }
   ],
   "source": [
    "# hier ist noch eine Fehlermöglichkeit, wenn das Programm läuft ohne das neue Daten reinkommen \n",
    "# Es muss noch abgefragt werden, ob die kumulierten impfungen größer sind als die im file \n",
    "# sonst werden doppelte Datensätze erzeugt\n",
    "\n",
    "df_I_timeseries1 = pd.read_csv(\"D:\\\\Github\\\\Covid-19-Auswertung-WHO-DIVI\\\\output\\\\Dataframes\\\\df_I_timeseries.csv\")\n",
    "\n",
    "df_I_timeseries1_last = df_I_timeseries1.iloc[[-1]]   # letzte Zeile des df\n",
    "z = df_I_timeseries1_last[\"Datum\"].values[0]          # z dem Zelleninhalt zuweisen\n",
    "print(f'z = {z}')\n",
    "\n",
    "if z == today:\n",
    "    print(\"nichts appended\")\n",
    "else:\n",
    "    print(\"append\")\n",
    "    df_I_timeseries2 = df_I_EW\n",
    "    df_I_timeseries2[\"Datum\"] = today\n",
    "    df_I_timeseries2 = df_I_timeseries2[['Datum', \n",
    "                                         'Bundesland', \n",
    "                                         'Impfungen kumulativ', \n",
    "                                         'Differenz zum Vortag', \n",
    "                                         'Impfquote [%]']]\n",
    "    df_I_timeseries1 = df_I_timeseries1.append(df_I_timeseries2, ignore_index=True)"
   ]
  },
  {
   "cell_type": "code",
   "execution_count": null,
   "metadata": {},
   "outputs": [],
   "source": []
  },
  {
   "cell_type": "code",
   "execution_count": null,
   "metadata": {},
   "outputs": [],
   "source": []
  },
  {
   "cell_type": "code",
   "execution_count": null,
   "metadata": {},
   "outputs": [],
   "source": []
  },
  {
   "cell_type": "markdown",
   "metadata": {},
   "source": [
    "### Berechnung Herdeinimmunität"
   ]
  },
  {
   "cell_type": "code",
   "execution_count": 832,
   "metadata": {},
   "outputs": [
    {
     "name": "stdout",
     "output_type": "stream",
     "text": [
      "Impfgeschwindigkeit = 19677.557142857142 IF-Statement\n",
      "Tage_seit_Impfstart = 7\n",
      "Summe_Impfungen = 238809.0\n",
      "Impfgeschwindigkeit = 19677.557142857142 Mittelwert\n",
      "Impfgeschwindigkeit_gestern = 20332.5\n",
      "E_ger = 83020000\n",
      "Herdenimmun = 7.0 Jahren\n"
     ]
    }
   ],
   "source": [
    "\n",
    "Impfstart = datetime.strptime('28.12.2020', '%d.%m.%Y')\n",
    "Tage_seit_Impfstart = (now-Impfstart).days\n",
    "Summe_Impfungen = df_I_EW[\"Impfungen kumulativ\"].sum()\n",
    "Impfgeschwindigkeit = (1/2)*Summe_Impfungen/Tage_seit_Impfstart\n",
    "Impfgeschwindigkeit_gestern = (1/2)*df_I_EW[\"Differenz zum Vortag\"].sum()\n",
    "\n",
    "if Impfgeschwindigkeit_gestern > Impfgeschwindigkeit:\n",
    "    Impfgeschwindigkeit = (Impfgeschwindigkeit*0.2 + Impfgeschwindigkeit_gestern*0.8)\n",
    "    print(f'Impfgeschwindigkeit = {Impfgeschwindigkeit} IF-Statement')\n",
    "\n",
    "Herdenimmun = round((1/12)*(1/30)*(E_ger*0.6)*(1/(Impfgeschwindigkeit)),1)   # grobe Schätzung Anzahl Monate bis Herdenimmun\n",
    "\n",
    "\n",
    "\n",
    "print(f'Tage_seit_Impfstart = {Tage_seit_Impfstart}')   # wie lange schon geimpft wird\n",
    "print(f'Summe_Impfungen = {Summe_Impfungen}')\n",
    "print(f'Impfgeschwindigkeit = {Impfgeschwindigkeit} Mittelwert')\n",
    "print(f'Impfgeschwindigkeit_gestern = {Impfgeschwindigkeit_gestern}')\n",
    "print(f'E_ger = {E_ger}')   # Einwohner Deutschland\n",
    "print(f'Herdenimmun = {Herdenimmun} Jahren')"
   ]
  },
  {
   "cell_type": "markdown",
   "metadata": {},
   "source": [
    "### Länder definieren"
   ]
  },
  {
   "cell_type": "code",
   "execution_count": 833,
   "metadata": {},
   "outputs": [],
   "source": [
    "ger = data[data.Country == 'Germany']\n",
    "fr = data[data.Country == 'France']\n",
    "at = data[data.Country == 'Austria']\n",
    "pl = data[data.Country == 'Poland']\n",
    "cz = data[data.Country == 'Czechia']\n",
    "ch = data[data.Country == 'Switzerland']\n",
    "it = data[data.Country == 'Italy']\n",
    "es = data[data.Country == 'Spain']\n",
    "gb = data[data.Country == 'The United Kingdom']\n",
    "se = data[data.Country == 'Sweden']"
   ]
  },
  {
   "cell_type": "markdown",
   "metadata": {},
   "source": [
    "# Variablen für die Plots definieren"
   ]
  },
  {
   "cell_type": "markdown",
   "metadata": {},
   "source": [
    "### Linien und Schriftgrößen"
   ]
  },
  {
   "cell_type": "code",
   "execution_count": 834,
   "metadata": {},
   "outputs": [],
   "source": [
    "# Linien Stärke\n",
    "lws = 3\n",
    "lwb = 7\n",
    "# Bezugsschriftgröße\n",
    "size = 28"
   ]
  },
  {
   "cell_type": "markdown",
   "metadata": {},
   "source": [
    "### Einwohnerzahlen"
   ]
  },
  {
   "cell_type": "code",
   "execution_count": 835,
   "metadata": {},
   "outputs": [],
   "source": [
    "E_fr = 66012908\n",
    "E_pl = 38659927\n",
    "E_ger = 83020000\n",
    "E_cz = 10586651\n",
    "E_at = 8902600\n",
    "E_ch = 8847020\n",
    "E_gb = 66650000"
   ]
  },
  {
   "cell_type": "markdown",
   "metadata": {},
   "source": [
    " ### Bezugsgröße Einwohner"
   ]
  },
  {
   "cell_type": "code",
   "execution_count": 836,
   "metadata": {},
   "outputs": [],
   "source": [
    "pE = 100000"
   ]
  },
  {
   "cell_type": "markdown",
   "metadata": {},
   "source": [
    "### Speicherorte und Dateinamen Plots"
   ]
  },
  {
   "cell_type": "code",
   "execution_count": 837,
   "metadata": {},
   "outputs": [],
   "source": [
    "pfad = \"D:\\\\Github\\\\Covid-19-Auswertung-WHO-DIVI\\\\output\\\\\"\n",
    "\n",
    "name_1_1 = \"plot_1-1_cases_absolute numbers.png\" # cases absoulte zahlen EU\n",
    "name_1_2 = \"plot_1-2_cases.png\" # cases pro 100.000 Einwohner EU \n",
    "name_2 = \"plot_2_intensiv.png\" # intensiv Deutschland\n",
    "name_2_2 = \"plot_2_2_intensiv_gesamt.png\" # intensiv Deutschland covid und nicht covid\n",
    "name_2_3 = \"plot_2_3_intensiv_covid-19.png\" # intensiv Deutschland covid\n",
    "name_3_1 = \"plot_3-1_deaths_absolute numbers.png\" # deaths absolute zahlen EU\n",
    "name_3_2 = \"plot_3-2_deaths.png\" # deaths pro 100.000 Einwohner EU\n",
    "name_4_1 = \"plot_4-1_cases_ger.png\" # cases Deutschland\n",
    "name_4_2 = \"plot_4-2_deaths_ger.png\" # deaths Deutschland\n",
    "name_5 = \"performance_dist_plot.png\" # Performance Plot\n",
    "name_6 = \"plot_6_Positivenquote_ger.png\" # Positivenquote\n",
    "name_6_2 = \"plot_6-2_Anzahl_Testungen_ger.png\" # Anzahl Testungen\n",
    "name_7 = \"plot_7_Impfquote_ger.png\" # Impfquote Deutschland Bundesländer"
   ]
  },
  {
   "cell_type": "markdown",
   "metadata": {},
   "source": [
    "## Länder Farben"
   ]
  },
  {
   "cell_type": "code",
   "execution_count": 838,
   "metadata": {},
   "outputs": [],
   "source": [
    "c_fr = '#f80d0d'    # rot\n",
    "c_pl = '#25e5e5'    # cyan\n",
    "c_ger = '#0721ff'   # dunkelblau\n",
    "c_cz = '#bb8fce'    # lila\n",
    "c_at = '#18c213'    # grün\n",
    "c_ch = '#000000'    # schwarz\n",
    "c_gb = '#faac2b'    # orange"
   ]
  },
  {
   "cell_type": "markdown",
   "metadata": {},
   "source": [
    "# Visualisierung der Plots"
   ]
  },
  {
   "cell_type": "markdown",
   "metadata": {},
   "source": [
    "### 1-1) Neue Fälle 7 Tage Mittelwert (absolute Zahlen)"
   ]
  },
  {
   "cell_type": "code",
   "execution_count": 839,
   "metadata": {
    "scrolled": true
   },
   "outputs": [],
   "source": [
    "# Größe im 16:9 format und mit Umrechnungsfaktor 1.2 (durch Test ermittelt) für PowerPoint angepasst\n",
    "plt.figure(figsize=(16,9))\n",
    "\n",
    "plt.style.use('seaborn')\n",
    "\n",
    "# Neue Fälle pro Tag pro 100.000 Einwohner - 02.12.2020 \n",
    "\n",
    "plt.plot(gb.Date_reported,gb['MA'], color=c_gb, linestyle = 'dashed', linewidth = lws, label=\"Großbritannien\")\n",
    "plt.plot(ger.Date_reported,ger['MA'], color=c_ger, linestyle = 'solid', linewidth = lwb, label=\"Deutschland\")\n",
    "plt.plot(fr.Date_reported,fr['MA'], color=c_fr, linestyle = 'dashed', linewidth = lws, label=\"Frankreich\")\n",
    "plt.plot(pl.Date_reported,pl['MA'], color=c_pl, linestyle = 'dashed', linewidth = lws, label=\"Polen\")\n",
    "plt.plot(cz.Date_reported,cz['MA'], color=c_cz, linestyle = 'dashed', linewidth = lws, label=\"Tschechien\")\n",
    "plt.plot(ch.Date_reported,ch['MA'], color=c_ch, linestyle = 'dashed', linewidth = lws, label=\"Schweitz\")\n",
    "plt.plot(at.Date_reported,at['MA'], color=c_at, linestyle = 'dashed', linewidth = lws, label=\"Österreich\")\n",
    "\n",
    "plt.legend(loc='upper center', \n",
    "           bbox_to_anchor=(0.5, -0.3),\n",
    "           fancybox=True, \n",
    "           shadow=True, \n",
    "           ncol=4, \n",
    "           fontsize=size)\n",
    "\n",
    "# Schriftgrößen x und y achsenwerte\n",
    "plt.xticks(fontsize=size - 10, rotation=90)\n",
    "plt.yticks(fontsize=size -4)\n",
    "\n",
    "plt.ylabel('Neue Fälle', fontsize=size)\n",
    "plt.xlabel('Zeit', fontsize=size)\n",
    "\n",
    "plt.title('Neue Fälle pro Tag - absolute Zahlen (WHO-Daten)\\n', fontsize=size)\n",
    "plt.suptitle(today + ' PW', fontsize=size-5, y=0.92)\n",
    "\n",
    "# Diagramm als Bild exporieren und Auflösung definieren\n",
    "plt.savefig(pfad + name_1_1, dpi = 150, bbox_inches='tight')\n",
    "plt.close()"
   ]
  },
  {
   "cell_type": "markdown",
   "metadata": {},
   "source": [
    "### 1-2) Neue Fälle 7 Tage Mittelwert (pro 100.000 Einwohner)"
   ]
  },
  {
   "cell_type": "code",
   "execution_count": 840,
   "metadata": {
    "scrolled": true
   },
   "outputs": [],
   "source": [
    "# Größe im 16:9 format und mit Umrechnungsfaktor 1.2 (durch Test ermittelt) für PowerPoint angepasst\n",
    "plt.figure(figsize=(16,9))\n",
    "\n",
    "plt.style.use('seaborn')\n",
    "\n",
    "\n",
    "# Neue Fälle pro Tag pro 100.000 Einwohner - 02.12.2020 \n",
    "\n",
    "plt.plot(cz.Date_reported,cz['MA']* (pE/E_cz), color=c_cz, linestyle = 'dashed', linewidth = lws, label=\"Tschechien\")\n",
    "plt.plot(gb.Date_reported,gb['MA']* (pE/E_gb), color=c_gb, linestyle = 'dashed', linewidth = lws, label=\"Großbritannien\")\n",
    "plt.plot(ch.Date_reported,ch['MA']* (pE/E_ch), color=c_ch, linestyle = 'dashed', linewidth = lws, label=\"Schweitz\")\n",
    "plt.plot(ger.Date_reported,ger['MA']* (pE/E_ger), color=c_ger, linestyle = 'solid', linewidth = lwb, label=\"Deutschland\")\n",
    "plt.plot(at.Date_reported,at['MA']* (pE/E_at), color=c_at, linestyle = 'dashed', linewidth = lws, label=\"Österreich\")\n",
    "plt.plot(pl.Date_reported,pl['MA']* (pE/E_pl), color=c_pl, linestyle = 'dashed', linewidth = lws, label=\"Polen\")\n",
    "plt.plot(fr.Date_reported,fr['MA']* (pE/E_fr), color=c_fr, linestyle = 'dashed', linewidth = lws, label=\"Frankreich\")\n",
    "\n",
    "plt.legend(loc='upper center', \n",
    "           bbox_to_anchor=(0.5, -0.3),\n",
    "           fancybox=True, \n",
    "           shadow=True, \n",
    "           ncol=4, \n",
    "           fontsize=size)\n",
    "\n",
    "\n",
    "# Schriftgrößen x und y achsenwerte\n",
    "plt.xticks(fontsize=size - 10, rotation=90)\n",
    "plt.yticks(fontsize=size -4)\n",
    "\n",
    "plt.ylabel('Neue Fälle', fontsize=size)\n",
    "plt.xlabel('Zeit', fontsize=size)\n",
    "\n",
    "plt.title('Neue Fälle pro Tag - pro 100.000 Einwohner (WHO-Daten)\\n', fontsize=size)\n",
    "plt.suptitle(today + ' PW', fontsize=size-5, y=0.92)\n",
    "\n",
    "# Diagramm als Bild exporieren und Auflösung definieren\n",
    "plt.savefig(pfad + name_1_2, dpi = 150, bbox_inches='tight')\n",
    "plt.close()"
   ]
  },
  {
   "cell_type": "markdown",
   "metadata": {},
   "source": [
    "### 2-2) Intensivstationen DIVI2"
   ]
  },
  {
   "cell_type": "code",
   "execution_count": 841,
   "metadata": {},
   "outputs": [],
   "source": [
    "# Größe im 16:9 format und mit Umrechnungsfaktor 1.2 (durch Test ermittelt) für PowerPoint angepasst\n",
    "plt.figure(figsize=(16,9))\n",
    "\n",
    "plt.style.use('seaborn')\n",
    "plt.grid(True)\n",
    "plt.plot(df_divi2.date,df_divi2['Belegte Betten'], color = 'blue', linewidth = lws, label = \"nicht-Covid-19\")\n",
    "plt.plot(df_divi2.date,df_divi2['COVID-19-Fälle'], color = 'red', linewidth = lws, label = \"Covid-19\")\n",
    "\n",
    "\n",
    "plt.legend(loc='upper center', \n",
    "           bbox_to_anchor=(0.5, -0.3),\n",
    "           fancybox=True, \n",
    "           shadow=True, \n",
    "           ncol=2, \n",
    "           fontsize=size)\n",
    "\n",
    "# Schriftgrößen x und y achsenwerte\n",
    "plt.xticks(fontsize=size - 10, rotation = 90)\n",
    "plt.yticks(fontsize=size -4)\n",
    "\n",
    "# plt.xticks([])\n",
    "plt.ylabel('Anzahl Personen', fontsize=size)\n",
    "plt.xlabel('Zeit', fontsize=size)\n",
    "#plt.title('DIVI-Intensivregister (www.intensivregister.de)  \\n Stand: ' + today, fontsize=size)\n",
    "\n",
    "plt.title('Intensivstationen in Deutschland (DIVI-Daten)\\n', fontsize=size)\n",
    "plt.suptitle(today + ' PW', fontsize=size-5, y=0.92)\n",
    "\n",
    "# fill area between \n",
    "plt.fill_between(df_divi2.date, df_divi2['COVID-19-Fälle'], color='red',alpha=0.5)\n",
    "plt.fill_between(df_divi2.date, df_divi2['COVID-19-Fälle'], df_divi2['Belegte Betten'], color='blue',alpha=0.5)\n",
    "\n",
    "# Diagramm als Bild exporieren und Auflösung definieren\n",
    "plt.savefig(pfad + name_2_2, dpi = 150, bbox_inches='tight')\n",
    "plt.close()"
   ]
  },
  {
   "cell_type": "code",
   "execution_count": 842,
   "metadata": {},
   "outputs": [],
   "source": [
    "# Größe im 16:9 format und mit Umrechnungsfaktor 1.2 (durch Test ermittelt) für PowerPoint angepasst\n",
    "plt.figure(figsize=(16,9))\n",
    "\n",
    "plt.style.use('seaborn')\n",
    "plt.grid(True)\n",
    "#plt.plot(df_divi2.date,df_divi2['Belegte Betten'], color = 'blue', linewidth = lws, label = \"nicht-Covid-19\")\n",
    "plt.plot(df_divi2.date,df_divi2['COVID-19-Fälle'], color = 'red', linewidth = lws, label = \"Covid-19\")\n",
    "\n",
    "\n",
    "plt.legend(loc='upper center', \n",
    "           bbox_to_anchor=(0.5, -0.3),\n",
    "           fancybox=True, \n",
    "           shadow=True, \n",
    "           ncol=2, \n",
    "           fontsize=size)\n",
    "\n",
    "# Schriftgrößen x und y achsenwerte\n",
    "plt.xticks(fontsize=size - 10, rotation = 90)\n",
    "plt.yticks(fontsize=size -4)\n",
    "\n",
    "# plt.xticks([])\n",
    "plt.ylabel('Anzahl Personen', fontsize=size)\n",
    "plt.xlabel('Zeit', fontsize=size)\n",
    "#plt.title('DIVI-Intensivregister (www.intensivregister.de)  \\n Stand: ' + today, fontsize=size)\n",
    "\n",
    "plt.title('Intensivstationen in Deutschland (DIVI-Daten)\\n', fontsize=size)\n",
    "plt.suptitle(today + ' PW', fontsize=size-5, y=0.92)\n",
    "\n",
    "# fill area between \n",
    "plt.fill_between(df_divi2.date, df_divi2['COVID-19-Fälle'], color='red',alpha=0.5)\n",
    "#plt.fill_between(df_divi2.date, df_divi2['COVID-19-Fälle'], df_divi2['Belegte Betten'], color='blue',alpha=0.5)\n",
    "\n",
    "# Diagramm als Bild exporieren und Auflösung definieren\n",
    "plt.savefig(pfad + name_2_3, dpi = 150, bbox_inches='tight')\n",
    "plt.close()"
   ]
  },
  {
   "cell_type": "markdown",
   "metadata": {},
   "source": [
    "###  3-1) Todesfälle 7 Tage Mittelwert (absolute Zahlen) "
   ]
  },
  {
   "cell_type": "code",
   "execution_count": 843,
   "metadata": {},
   "outputs": [],
   "source": [
    "# Größe im 16:9 format und mit Umrechnungsfaktor 1.2 (durch Test ermittelt) für PowerPoint angepasst\n",
    "plt.figure(figsize=(16,9))\n",
    "\n",
    "plt.style.use('seaborn')\n",
    "plt.grid(True)\n",
    "\n",
    "# Todesfälle pro 100.000 Einwohner 02.12.2020\n",
    "plt.plot(ger.Date_reported,ger['MA_deaths'], color=c_ger, linestyle = 'solid', linewidth = lwb, label = \"Deutschland\") # blau, linie, dick\n",
    "plt.plot(gb.Date_reported,gb['MA_deaths'], color=c_gb, linestyle = 'dashed', linewidth = lws, label = \"Großbritannien\") # gelb, gestrichelt, dünn\n",
    "plt.plot(fr.Date_reported,fr['MA_deaths'], color=c_fr, linestyle = 'dashed', linewidth = lws, label = \"Frankreich\") # rot, gestrichelt, dünn\n",
    "plt.plot(pl.Date_reported,pl['MA_deaths'], color=c_pl, linestyle = 'dashed', linewidth = lws, label = \"Polen\") # cyan, gestrichelt, dünn\n",
    "plt.plot(cz.Date_reported,cz['MA_deaths'], color=c_cz, linestyle = 'dashed', linewidth = lws, label = \"Tschechien\") # magenta, gestrichelt, dünn\n",
    "plt.plot(at.Date_reported,at['MA_deaths'], color=c_at, linestyle = 'dashed', linewidth = lws, label = \"Österreich\") # grün, gestrichelt, dünn\n",
    "plt.plot(ch.Date_reported,ch['MA_deaths'], color=c_ch, linestyle = 'dashed', linewidth = lws, label = \"Schweitz\") # schwarz, gestrichelt, dünn\n",
    "\n",
    "# Legende \n",
    "plt.legend(loc='upper center', \n",
    "           bbox_to_anchor=(0.5, -0.3),\n",
    "           fancybox=True, \n",
    "           shadow=True, \n",
    "           ncol=4, \n",
    "           fontsize=size)\n",
    "\n",
    "# Schriftgrößen x und y achsenwerte\n",
    "plt.xticks(fontsize=size - 10, rotation = 90)\n",
    "plt.yticks(fontsize=size -4)\n",
    "plt.ylabel('Todesfälle', fontsize=size)\n",
    "plt.xlabel('Zeit', fontsize=size)\n",
    "\n",
    "plt.title('Todesfälle pro Tag - absolute Zahlen (WHO-Daten)\\n', fontsize=size)\n",
    "plt.suptitle(today + ' PW', fontsize=size-5, y=0.92)\n",
    "\n",
    "\n",
    "# Diagramm als Bild exporieren und Auflösung definieren\n",
    "plt.savefig(pfad + name_3_1, dpi = 150, bbox_inches='tight')\n",
    "plt.close()"
   ]
  },
  {
   "cell_type": "markdown",
   "metadata": {},
   "source": [
    "###  3-2) Todesfälle 7 Tage Mittelwert (pro 100.000 Einwohner) "
   ]
  },
  {
   "cell_type": "code",
   "execution_count": 844,
   "metadata": {
    "scrolled": true
   },
   "outputs": [],
   "source": [
    "# Größe im 16:9 format und mit Umrechnungsfaktor 1.2 (durch Test ermittelt) für PowerPoint angepasst\n",
    "plt.figure(figsize=(16,9))\n",
    "\n",
    "plt.style.use('seaborn')\n",
    "plt.grid(True)\n",
    "\n",
    "# Todesfälle pro 100.000 Einwohner 02.12.2020\n",
    "\n",
    "plt.plot(cz.Date_reported,cz['MA_deaths'] * (pE/E_cz), color=c_cz, linestyle = 'dashed', linewidth = lws, label = \"Tschechien\") # magenta, gestrichelt, dünn\n",
    "plt.plot(at.Date_reported,at['MA_deaths'] * (pE/E_at), color=c_at, linestyle = 'dashed', linewidth = lws, label = \"Österreich\") # grün, gestrichelt, dünn\n",
    "plt.plot(gb.Date_reported,gb['MA_deaths'] * (pE/E_gb), color=c_gb, linestyle = 'dashed', linewidth = lws, label = \"Großbritannien\") # gelb, gestrichelt, dünn\n",
    "plt.plot(ger.Date_reported,ger['MA_deaths'] * (pE/E_ger), color=c_ger, linestyle = 'solid', linewidth = lwb, label = \"Deutschland\") # blau, linie, dick\n",
    "plt.plot(ch.Date_reported,ch['MA_deaths'] * (pE/E_ch), color=c_ch, linestyle = 'dashed', linewidth = lws, label = \"Schweitz\") # schwarz, gestrichelt, dünn\n",
    "plt.plot(pl.Date_reported,pl['MA_deaths'] * (pE/E_pl), color=c_pl, linestyle = 'dashed', linewidth = lws, label = \"Polen\") # cyan, gestrichelt, dünn\n",
    "plt.plot(fr.Date_reported,fr['MA_deaths'] * (pE/E_fr), color=c_fr, linestyle = 'dashed', linewidth = lws, label = \"Frankreich\") # rot, gestrichelt, dünn\n",
    "\n",
    "\n",
    "# Legende \n",
    "plt.legend(loc='upper center', \n",
    "           bbox_to_anchor=(0.5, -0.3),\n",
    "           fancybox=True, \n",
    "           shadow=True, \n",
    "           ncol=4, \n",
    "           fontsize=size)\n",
    "\n",
    "# Schriftgrößen x und y achsenwerte\n",
    "plt.xticks(fontsize=size - 10, rotation = 90)\n",
    "plt.yticks(fontsize=size -4)\n",
    "plt.ylabel('Todesfälle', fontsize=size)\n",
    "plt.xlabel('Zeit', fontsize=size)\n",
    "\n",
    "plt.title('Todesfälle pro Tag - pro 100.000 Einwohner (WHO-Daten)\\n', fontsize=size)\n",
    "plt.suptitle(today + ' PW', fontsize=size-5, y=0.92)\n",
    "\n",
    "# Diagramm als Bild exporieren und Auflösung definieren\n",
    "plt.savefig(pfad + name_3_2, dpi = 150, bbox_inches='tight')\n",
    "plt.close()"
   ]
  },
  {
   "cell_type": "code",
   "execution_count": 845,
   "metadata": {},
   "outputs": [],
   "source": [
    "# ts = pd.to_datetime('2020-12-15', utc=True)\n",
    "# #dataframe reduzieren \n",
    "# data = data.loc[data.Date_reported >= ts, :]\n",
    "# ger = data[data.Country == 'Germany']"
   ]
  },
  {
   "cell_type": "markdown",
   "metadata": {},
   "source": [
    "###  4-1) Cases 7 Tage Mittelwert Deutschland"
   ]
  },
  {
   "cell_type": "code",
   "execution_count": 846,
   "metadata": {
    "scrolled": false
   },
   "outputs": [],
   "source": [
    "# Größe im 16:9 format und mit Umrechnungsfaktor 1.2 (durch Test ermittelt) für PowerPoint angepasst\n",
    "plt.figure(figsize=(16,9))\n",
    "\n",
    "# Neue Fälle pro Tag pro 100.000 Einwohner - 02.12.2020 \n",
    "plt.plot(ger.Date_reported,ger['MA'], color=c_ger, linestyle = 'solid', linewidth = lwb, label = \"Deutschland\\n(7-Tage Mittel)\")\n",
    "plt.plot(ger.Date_reported,ger['New_cases'], marker='.', linestyle='', color=c_ger, markersize = 20)\n",
    "plt.plot(ger.Date_reported,ger['OTG_cases'], color='red', linestyle = 'dashed', linewidth = lws, label =\"+1 sigma\")\n",
    "plt.plot(ger.Date_reported,ger['UTG_cases'], color='red', linestyle = 'dashed', linewidth = lws, label =\"-1 sigma\")\n",
    "\n",
    "plt.legend(loc='upper center', \n",
    "           bbox_to_anchor=(0.5, -0.3),\n",
    "           fancybox=True, \n",
    "           shadow=True, \n",
    "           ncol=3, \n",
    "           fontsize=size)\n",
    "\n",
    "# Schriftgrößen x und y achsenwerte\n",
    "plt.xticks(fontsize=size - 10, rotation = 90)\n",
    "plt.yticks(fontsize=size -4)\n",
    "\n",
    "plt.ylabel('Neue Fälle', fontsize=size)\n",
    "plt.xlabel('Zeit', fontsize=size)\n",
    "\n",
    "plt.title('Neue Fälle pro Tag - Deutschland (WHO-Daten)\\n', fontsize=size)\n",
    "plt.suptitle(today + ' PW', fontsize=size-5, y=0.92)\n",
    "\n",
    "# fill area between lines\n",
    "plt.fill_between(ger.Date_reported, ger['OTG_cases'], ger['UTG_cases'] , color='red',alpha=0.5)\n",
    "\n",
    "# Diagramm als Bild exporieren und Auflösung definieren\n",
    "plt.savefig(pfad + name_4_1, dpi = 150, bbox_inches='tight')\n",
    "plt.close()"
   ]
  },
  {
   "cell_type": "markdown",
   "metadata": {},
   "source": [
    "###  4-2) Deaths 7 Tage Mittelwert Deutschland"
   ]
  },
  {
   "cell_type": "code",
   "execution_count": 847,
   "metadata": {
    "scrolled": false
   },
   "outputs": [],
   "source": [
    "# Größe im 16:9 format und mit Umrechnungsfaktor 1.2 (durch Test ermittelt) für PowerPoint angepasst\n",
    "plt.figure(figsize=(16,9))\n",
    "\n",
    "plt.style.use('seaborn')\n",
    "plt.grid(True)\n",
    "\n",
    "# Todesfälle pro 100.000 Einwohner 02.12.2020\n",
    "\n",
    "plt.plot(ger.Date_reported,ger['MA_deaths'], color=c_ger, linestyle = 'solid', linewidth = lwb, label = \"Deutschland\\n(7-Tage Mittel)\") # blau, linie, dick\n",
    "plt.plot(ger.Date_reported,ger['New_deaths'], marker='.', linestyle='', color=c_ger, markersize = 20)\n",
    "\n",
    "plt.plot(ger.Date_reported,ger['OTG_deaths'], color='red', linestyle = 'dashed', linewidth = lws, label =\"+1 sigma\")\n",
    "plt.plot(ger.Date_reported,ger['UTG_deaths'], color='red', linestyle = 'dashed', linewidth = lws, label =\"-1 sigma\")\n",
    "\n",
    "# Legende \n",
    "plt.legend(loc='upper center', \n",
    "           bbox_to_anchor=(0.5, -0.3),\n",
    "           fancybox=True, \n",
    "           shadow=True, \n",
    "           ncol=3, \n",
    "           fontsize=size)\n",
    "\n",
    "# Schriftgrößen x und y achsenwerte\n",
    "plt.xticks(fontsize=size - 10, rotation = 90)\n",
    "plt.yticks(fontsize=size -4)\n",
    "plt.ylabel('Todesfälle', fontsize=size)\n",
    "plt.xlabel('Zeit', fontsize=size)\n",
    "\n",
    "plt.title('Todesfälle pro Tag - Deutschland (WHO-Daten)\\n', fontsize=size)\n",
    "plt.suptitle(today + ' PW', fontsize=size-5, y=0.92)\n",
    "\n",
    "# fill area between lines\n",
    "plt.fill_between(ger.Date_reported, ger['OTG_deaths'], ger['UTG_deaths'] , color='red',alpha=0.5)\n",
    "\n",
    "# Diagramm als Bild exporieren und Auflösung definieren\n",
    "plt.savefig(pfad + name_4_2, dpi = 150, bbox_inches='tight')\n",
    "plt.close()"
   ]
  },
  {
   "cell_type": "code",
   "execution_count": 848,
   "metadata": {},
   "outputs": [],
   "source": [
    "#df_PQ.head(1)"
   ]
  },
  {
   "cell_type": "code",
   "execution_count": 849,
   "metadata": {},
   "outputs": [
    {
     "name": "stdout",
     "output_type": "stream",
     "text": [
      "y = 12.48\n",
      "x = 21.0\n"
     ]
    }
   ],
   "source": [
    "y = max(df_PQ[\"Positivenquote\"])*0.96\n",
    "print(f'y = {y}')\n",
    "\n",
    "x=(1/2)*df_PQ[\"Kalenderwoche 2020\"].count()\n",
    "print(f'x = {x}')\n"
   ]
  },
  {
   "cell_type": "markdown",
   "metadata": {},
   "source": [
    "## RKI Positivenquote pro Woche"
   ]
  },
  {
   "cell_type": "code",
   "execution_count": 850,
   "metadata": {
    "scrolled": false
   },
   "outputs": [],
   "source": [
    "# Größe im 16:9 format und mit Umrechnungsfaktor 1.2 (durch Test ermittelt) für PowerPoint angepasst\n",
    "plt.figure(figsize=(16,9))\n",
    "\n",
    "plt.style.use('seaborn')\n",
    "\n",
    "plt.bar(x=df_PQ[\"Kalenderwoche 2020\"], height=df_PQ[\"Positivenquote\"], width = 0.9, align = 'center', color = c_ger)\n",
    "\n",
    "# # Schriftgrößen x und y achsenwerte\n",
    "plt.xticks(fontsize=size - 15, rotation=90)\n",
    "plt.yticks(fontsize=size -4)\n",
    "\n",
    "plt.ylabel('Positivenquote in %', fontsize=size)\n",
    "plt.xlabel('Zeit', fontsize=size)\n",
    "\n",
    "plt.title('Positivenquote - Deutschland (RKI-Daten)\\n', fontsize=size)\n",
    "plt.suptitle(today + ' PW', fontsize=size-5, y=0.92)\n",
    "\n",
    "\n",
    "plt.text(x, y, r'Positivenquote =  $\\frac{Positive\\ Tests}{Anzahl\\ Tests}\\cdot100$', horizontalalignment='center', size=size-4, style='italic',\n",
    "        bbox={'facecolor': c_ger, 'alpha': 0.5, 'pad': 5})\n",
    "\n",
    "# Diagramm als Bild exporieren und Auflösung definieren\n",
    "plt.savefig(pfad + name_6, dpi = 150, bbox_inches='tight')\n",
    "\n",
    "plt.close()"
   ]
  },
  {
   "cell_type": "markdown",
   "metadata": {},
   "source": [
    "## Testungen"
   ]
  },
  {
   "cell_type": "code",
   "execution_count": 851,
   "metadata": {},
   "outputs": [],
   "source": [
    "#df_PQ.head(1)"
   ]
  },
  {
   "cell_type": "code",
   "execution_count": 852,
   "metadata": {
    "scrolled": false
   },
   "outputs": [],
   "source": [
    "def millions(x, pos):\n",
    "   # 'The two args are the value and tick position'\n",
    "    return '%1.1f Mio' % (x * 1e-6)\n",
    "formatter = FuncFormatter(millions)\n",
    "\n",
    "\n",
    "fig = plt.figure(figsize=(16,9))\n",
    "ax = fig.add_subplot()\n",
    "ax.yaxis.set_major_formatter(formatter)\n",
    "\n",
    "\n",
    "ax = plt.bar(x=df_PQ[\"Kalenderwoche 2020\"], height=df_PQ[\"Anzahl Testungen\"], width = 0.9, align = 'center', color = c_ger)\n",
    "\n",
    "# # Schriftgrößen x und y achsenwerte\n",
    "plt.xticks(fontsize=size - 15, rotation=90)\n",
    "plt.yticks(fontsize=size -4)\n",
    "\n",
    "\n",
    "plt.ylabel('Anzahl Testungen', fontsize=size)\n",
    "plt.xlabel('Zeit', fontsize=size)\n",
    "\n",
    "plt.title('Anzahl Testungen (RKI-Daten)\\n', fontsize=size)\n",
    "plt.suptitle(today + ' PW', fontsize=size-5, y=0.92)\n",
    "\n",
    "#plt.figure(figsize=(16,9))\n",
    "\n",
    "fig.savefig(pfad + name_6_2, dpi = 150, bbox_inches='tight')\n",
    "\n",
    "plt.close()"
   ]
  },
  {
   "cell_type": "code",
   "execution_count": 853,
   "metadata": {},
   "outputs": [
    {
     "name": "stdout",
     "output_type": "stream",
     "text": [
      "8.0\n",
      "0.3323539397738254\n"
     ]
    }
   ],
   "source": [
    "x = (1/2)*df_I_EW[\"Bundesland\"].count()\n",
    "y = max(df_I_EW[\"Impfquote [%]\"])*0.93\n",
    "print(x)\n",
    "print(y)"
   ]
  },
  {
   "cell_type": "code",
   "execution_count": 854,
   "metadata": {
    "scrolled": true
   },
   "outputs": [],
   "source": [
    "plt.figure(figsize=(16,9))\n",
    "\n",
    "\n",
    "\n",
    "plt.style.use('seaborn')\n",
    "\n",
    "plt.bar(x=df_I_EW[\"Bundesland\"], height=df_I_EW[\"Impfquote [%]\"], width = 0.9, align = 'center', color = c_ger)\n",
    "\n",
    "# # Schriftgrößen x und y achsenwerte\n",
    "plt.xticks(fontsize=size - 10, rotation=90)\n",
    "plt.yticks(fontsize=size -4)\n",
    "\n",
    "plt.ylabel('Impfquote [%]', fontsize=size)\n",
    "plt.xlabel('Bundesland', fontsize=size)\n",
    "\n",
    "plt.title('Impfquote - Deutschland (RKI-Daten)\\n', fontsize=size)\n",
    "plt.suptitle(today + ' PW', fontsize=size-5, y=0.92)\n",
    "\n",
    "plt.text(x, y, f'grobe Hochrechnung: 60% der Bevölkerung geimpft in \\nca. {Herdenimmun} Jahren.', \n",
    "        horizontalalignment='center', \n",
    "        size=size-4, \n",
    "        style='italic',\n",
    "        bbox={'facecolor': c_ger, 'alpha': 0.5, 'pad': 5})\n",
    "\n",
    "# plt.text(x, y*0.89, r'Impfquote =  $\\frac{1}{2}\\cdot\\frac{Impfungen}{Einwohner}\\cdot100$', \n",
    "#         horizontalalignment='center', \n",
    "#         size=size-4, \n",
    "#         style='italic',\n",
    "#         bbox={'facecolor': c_ger, 'alpha': 0.5, 'pad': 5})\n",
    "\n",
    "# Diagramm als Bild exporieren und Auflösung definieren\n",
    "plt.savefig(pfad + name_7, dpi = 150, bbox_inches='tight')\n",
    "\n",
    "plt.close()"
   ]
  },
  {
   "cell_type": "markdown",
   "metadata": {},
   "source": [
    "## RKI Ausbruchdaten"
   ]
  },
  {
   "cell_type": "code",
   "execution_count": 855,
   "metadata": {},
   "outputs": [],
   "source": [
    "# # Daten einlesen Excel - Ausbruchsdaten\n",
    "# df_AB = pd.read_excel(\"D:\\Github\\Covid-19-Auswertung-WHO-DIVI\\Data\\Ausbruchsdaten.xlsx;jsessionid=F348B3B6878DF2812C1DF10FACEB13F4.xlsx\",\n",
    "#                      sheet_name =\"Ausbruch_MW_D_ab2Faelle\")\n",
    "# #                       usecols=,\n",
    "# #                       skiprows=,\n",
    "# df_AB.head(1)"
   ]
  },
  {
   "cell_type": "markdown",
   "metadata": {},
   "source": [
    "## RKI Altersdaten"
   ]
  },
  {
   "cell_type": "code",
   "execution_count": 856,
   "metadata": {},
   "outputs": [],
   "source": [
    "#df_AB[\"Meldewoche\"].tail(1)"
   ]
  },
  {
   "cell_type": "markdown",
   "metadata": {},
   "source": [
    "## dataframes speichern"
   ]
  },
  {
   "cell_type": "code",
   "execution_count": 857,
   "metadata": {},
   "outputs": [],
   "source": [
    "data.to_csv(r'D:\\\\Github\\\\Covid-19-Auswertung-WHO-DIVI\\\\output\\\\Dataframes\\\\data_WHO_data.csv', index=False)\n",
    "df_divi2.to_csv(r'D:\\\\Github\\\\Covid-19-Auswertung-WHO-DIVI\\\\output\\\\Dataframes\\\\df_divi2.csv', index=False)\n",
    "df_PQ.to_csv(r'D:\\\\Github\\\\Covid-19-Auswertung-WHO-DIVI\\\\output\\\\Dataframes\\\\df_PQ.csv', index=False)\n",
    "df_EW.to_csv(r'D:\\\\Github\\\\Covid-19-Auswertung-WHO-DIVI\\\\output\\\\Dataframes\\\\df_EW.csv', index=False)\n",
    "df_I.to_csv(r'D:\\\\Github\\\\Covid-19-Auswertung-WHO-DIVI\\\\output\\\\Dataframes\\\\df_I.csv', index=False)\n",
    "df_I_EW.to_csv(r'D:\\\\Github\\\\Covid-19-Auswertung-WHO-DIVI\\\\output\\\\Dataframes\\\\df_I_EW.csv', index=False)"
   ]
  },
  {
   "cell_type": "markdown",
   "metadata": {},
   "source": [
    "## Performance messen"
   ]
  },
  {
   "cell_type": "code",
   "execution_count": 858,
   "metadata": {},
   "outputs": [
    {
     "name": "stdout",
     "output_type": "stream",
     "text": [
      "performance DOUG = 6.47 seconds\n"
     ]
    }
   ],
   "source": [
    "pc = os.environ['COMPUTERNAME']\n",
    "now2 = datetime.now()\n",
    "\n",
    "# Laufzeit\n",
    "x = now2 - now\n",
    "x = round(x.total_seconds(),2)\n",
    "\n",
    "# Performance CSV einlesen\n",
    "d = pd.read_csv('D:\\\\Github\\\\Covid-19-Auswertung-WHO-DIVI\\\\output\\\\Dataframes\\\\df_performance_Führungskreis.csv')\n",
    "\n",
    "# Neues Dateframe für die Performance definieren\n",
    "now = datetime.now()\n",
    "\n",
    "d2 = {'Date': [now],\n",
    "      'PC': [pc],\n",
    "      'Laufzeit_in_s': [x],\n",
    "      'Version': [version]}\n",
    "#d2\n",
    "\n",
    "# Datum Spalte formatieren\n",
    "df2 = pd.DataFrame(d2)\n",
    "df2['Date'] = df2['Date'].dt.strftime('%Y-%m-%d %r')\n",
    "\n",
    "# Performance mit dem CSV verbinden\n",
    "d = d.append(df2, ignore_index=True)\n",
    "\n",
    "# Datenexport Performance\n",
    "d.to_csv(r'D:\\\\Github\\\\Covid-19-Auswertung-WHO-DIVI\\\\output\\\\Dataframes\\\\df_performance_Führungskreis.csv', index=False)\n",
    "\n",
    "# Plot Performance\n",
    "sns.set(rc={'figure.figsize':(16,9)})\n",
    "sns_plot = sns.distplot(d['Laufzeit_in_s'],\n",
    "            kde=True,\n",
    "            rug=True,\n",
    "            )\n",
    "sns_plot.set_title('Performance distribution',size=size)\n",
    "sns_plot.set_ylabel('Wahrscheinlichkeit', size = size -5)\n",
    "sns_plot.set_xlabel('Laufzeit [s]', size = size -5)\n",
    "fig = sns_plot.get_figure()\n",
    "fig.savefig(pfad + name_5) \n",
    "plt.close()\n",
    "print(f'performance {pc} = {x} seconds')"
   ]
  }
 ],
 "metadata": {
  "kernelspec": {
   "display_name": "Python 3",
   "language": "python",
   "name": "python3"
  },
  "language_info": {
   "codemirror_mode": {
    "name": "ipython",
    "version": 3
   },
   "file_extension": ".py",
   "mimetype": "text/x-python",
   "name": "python",
   "nbconvert_exporter": "python",
   "pygments_lexer": "ipython3",
   "version": "3.8.3"
  }
 },
 "nbformat": 4,
 "nbformat_minor": 4
}
