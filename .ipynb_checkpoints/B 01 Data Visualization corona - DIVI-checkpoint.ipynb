{
 "cells": [
  {
   "cell_type": "markdown",
   "metadata": {},
   "source": [
    "# COVID-19 Auswertung - DIVI"
   ]
  },
  {
   "cell_type": "code",
   "execution_count": 1,
   "metadata": {},
   "outputs": [],
   "source": [
    "Programm_Name = \"DIVI\""
   ]
  },
  {
   "cell_type": "markdown",
   "metadata": {},
   "source": [
    "### Speicherorte und Dateinamen Plots"
   ]
  },
  {
   "cell_type": "code",
   "execution_count": 2,
   "metadata": {},
   "outputs": [],
   "source": [
    "Laufwerk = \"D:\\\\\"\n",
    "name_input = 'data-ovyiI.csv'\n",
    "name_input3 = 'data-UIdqI.csv'\n",
    "name_output_df = 'Dataframes\\\\df_divi2.csv'\n",
    "\n",
    "pfad_output = \"Github\\\\Auswertung_Covid_19\\\\output\\\\\"\n",
    "pfad_onedrive = \"OneDrive\\\\Auswertung_Covid_19\\\\\"\n",
    "pfad_input = \"Github\\\\Auswertung_Covid_19\\\\input\\\\\"\n",
    "name_performance = 'Dataframes\\\\df_performance.csv'\n",
    "\n",
    "name_1_1 = \"plot_1-1_cases_absolute numbers.png\" # cases absoulte zahlen EU\n",
    "name_1_2 = \"plot_1-2_cases.png\" # cases pro 100.000 Einwohner EU \n",
    "name_2 = \"plot_2_intensiv.png\" # intensiv Deutschland\n",
    "name_2_2 = \"plot_2_2_intensiv_gesamt.png\" # intensiv Deutschland covid und nicht covid\n",
    "name_2_3 = \"plot_2_3_intensiv_covid-19.png\" # intensiv Deutschland covid\n",
    "name_2_4 = \"plot_2_4_Belegte_Betten_intensiv_covid-19.png\" # intensiv Deutschland covid\n",
    "name_3_1 = \"plot_3-1_deaths_absolute numbers.png\" # deaths absolute zahlen EU\n",
    "name_3_2 = \"plot_3-2_deaths.png\" # deaths pro 100.000 Einwohner EU\n",
    "name_4_1 = \"plot_4-1_cases_ger.png\" # cases Deutschland\n",
    "name_4_2 = \"plot_4-2_deaths_ger.png\" # deaths Deutschland\n",
    "name_5 = \"performance_dist_plot.png\" # Performance Plot\n",
    "name_6 = \"plot_6_Positivenquote_ger.png\" # Positivenquote\n",
    "name_6_2 = \"plot_6-2_Anzahl_Testungen_ger.png\" # Anzahl Testungen\n",
    "name_7 = \"plot_7_Impfquote_ger.png\" # Impfquote Deutschland Bundesländer\n",
    "name_7_2 = \"plot_7-2_Impfungen_Timeseries_ger.png\" # Impfungen Timeseries Deutschland\n",
    "name_7_3 = \"plot_7-3_Impfungen_Timeseries_ger.png\" # Impfungen Timeseries Deutschland"
   ]
  },
  {
   "cell_type": "markdown",
   "metadata": {},
   "source": [
    "## import libraries"
   ]
  },
  {
   "cell_type": "code",
   "execution_count": 3,
   "metadata": {},
   "outputs": [],
   "source": [
    "import pandas as pd #Daten\n",
    "from matplotlib import pyplot as plt # plots\n",
    "from matplotlib.ticker import FuncFormatter   # Numberformat plot ticks\n",
    "import matplotlib.dates as mdates\n",
    "\n",
    "# performance\n",
    "from datetime import datetime, timedelta\n",
    "from datetime import date # todays date\n",
    "\n",
    "import os\n",
    "now = datetime.now()"
   ]
  },
  {
   "cell_type": "code",
   "execution_count": 4,
   "metadata": {},
   "outputs": [],
   "source": [
    "# Datum einstellen \n",
    "minticks = 14\n",
    "maxticks = 14"
   ]
  },
  {
   "cell_type": "markdown",
   "metadata": {},
   "source": [
    "# Preprocessing Dataframes"
   ]
  },
  {
   "cell_type": "markdown",
   "metadata": {},
   "source": [
    "### Linien und Schriftgrößen"
   ]
  },
  {
   "cell_type": "code",
   "execution_count": 5,
   "metadata": {},
   "outputs": [],
   "source": [
    "# Linien Stärke\n",
    "lws = 3\n",
    "lwb = 7\n",
    "# Bezugsschriftgröße\n",
    "size = 25\n",
    "\n",
    "# output größe der bilder\n",
    "h = 16*1\n",
    "v = 9\n",
    "dpi = 200"
   ]
  },
  {
   "cell_type": "code",
   "execution_count": 6,
   "metadata": {},
   "outputs": [],
   "source": [
    "today = date.today().strftime(\"%d.%m.%Y\")"
   ]
  },
  {
   "cell_type": "markdown",
   "metadata": {},
   "source": [
    "## Datenimport"
   ]
  },
  {
   "cell_type": "markdown",
   "metadata": {},
   "source": [
    "# Variablen für die Plots definieren"
   ]
  },
  {
   "cell_type": "markdown",
   "metadata": {},
   "source": [
    "## Länder Farben"
   ]
  },
  {
   "cell_type": "code",
   "execution_count": 7,
   "metadata": {},
   "outputs": [],
   "source": [
    "c_fr = '#f80d0d'    # rot\n",
    "c_pl = '#25e5e5'    # cyan\n",
    "c_isr = '#25e5e5'\n",
    "c_ger = '#0721ff'   # dunkelblau\n",
    "c_cz = '#bb8fce'    # lila\n",
    "c_usa = '#bb8fce'\n",
    "c_at = '#18c213'    # grün\n",
    "c_rus = '#18c213'\n",
    "c_se = '#18c213'\n",
    "c_ch = '#000000'    # schwarz\n",
    "c_ita = '#000000'\n",
    "c_gb = '#faac2b'    # orange\n"
   ]
  },
  {
   "cell_type": "code",
   "execution_count": null,
   "metadata": {},
   "outputs": [],
   "source": []
  },
  {
   "cell_type": "code",
   "execution_count": 8,
   "metadata": {
    "scrolled": false
   },
   "outputs": [],
   "source": [
    "# Lokal - CSV einlesen\n",
    "### nur covid Intensivbelegungen\n",
    "df_divi2 = pd.read_csv(Laufwerk + pfad_input + name_input)\n",
    "df_divi2['date'] = pd.to_datetime(df_divi2.date, utc=True)\n",
    "# df_divi2 = df_divi2.loc[df_divi2.date >= ts, :]\n",
    "\n",
    "\n",
    "### covid und alle Intensivbelegungen\n",
    "df_divi3 = pd.read_csv(Laufwerk + pfad_input + name_input3)\n",
    "df_divi3['date'] = pd.to_datetime(df_divi2.date, utc=True)\n",
    "df_divi3[\"limit\"] = 4900\n"
   ]
  },
  {
   "cell_type": "markdown",
   "metadata": {},
   "source": [
    "## preprocessing"
   ]
  },
  {
   "cell_type": "markdown",
   "metadata": {},
   "source": [
    "### data (DIVI)"
   ]
  },
  {
   "cell_type": "code",
   "execution_count": 9,
   "metadata": {},
   "outputs": [],
   "source": [
    "def days_between(d1, d2):\n",
    "    d1 = datetime.strptime(d1, \"%Y-%m-%d\")\n",
    "    d2 = datetime.strptime(d2, \"%Y-%m-%d\")\n",
    "    return abs((d2 - d1).days)"
   ]
  },
  {
   "cell_type": "code",
   "execution_count": 10,
   "metadata": {
    "scrolled": true
   },
   "outputs": [
    {
     "name": "stdout",
     "output_type": "stream",
     "text": [
      "2022-02-17\n",
      "718\n"
     ]
    }
   ],
   "source": [
    "a = str(date.today().strftime(\"%Y-%m-%d\"))\n",
    "print(a)\n",
    "tage = days_between(a, \"2020-03-01\")\n",
    "print(tage)"
   ]
  },
  {
   "cell_type": "code",
   "execution_count": null,
   "metadata": {},
   "outputs": [],
   "source": []
  },
  {
   "cell_type": "code",
   "execution_count": 11,
   "metadata": {},
   "outputs": [],
   "source": [
    "# ts_x = str(datetime.today() - timedelta(tage))\n",
    "ts_x = str(datetime.today() - timedelta(tage))"
   ]
  },
  {
   "cell_type": "code",
   "execution_count": 12,
   "metadata": {},
   "outputs": [
    {
     "name": "stdout",
     "output_type": "stream",
     "text": [
      "2020-03-01 07:24:08.825334+00:00\n",
      "2022-02-17 07:24:08.845282\n"
     ]
    }
   ],
   "source": [
    "# Zeit eingrenzen\n",
    "# ts_x = str(datetime. today() - timedelta(140))\n",
    "ts = pd.to_datetime(ts_x, utc=True)\n",
    "df_divi2 = df_divi2.loc[df_divi2.date >= ts, :]\n",
    "\n",
    "df_divi3 = df_divi3.loc[df_divi3.date >= ts, :]\n",
    "\n",
    "print(ts)\n",
    "print(datetime.today())\n",
    "#df_divi2.head(1)"
   ]
  },
  {
   "cell_type": "markdown",
   "metadata": {},
   "source": [
    "## Covid Belegungen"
   ]
  },
  {
   "cell_type": "code",
   "execution_count": 13,
   "metadata": {
    "scrolled": true
   },
   "outputs": [
    {
     "data": {
      "image/png": "[encoded data removed]",
      "text/plain": [
       "<Figure size 1152x712.8 with 1 Axes>"
      ]
     },
     "metadata": {},
     "output_type": "display_data"
    }
   ],
   "source": [
    "# Größe im 16:9 format und mit Umrechnungsfaktor 1.2 (durch Test ermittelt) für PowerPoint angepasst\n",
    "#plt.figure(figsize=(19,9))\n",
    "\n",
    "def y_axis_thousands(x, pos):\n",
    "   # 'The two args are the value and tick position'\n",
    "    return '{:0,d}'.format(int(x)).replace(\",\",\".\")\n",
    "formatter = FuncFormatter(y_axis_thousands)\n",
    "plt.style.use('seaborn')\n",
    "\n",
    "fig, ax = plt.subplots(figsize=(h, v*1.1))\n",
    "\n",
    "ax.yaxis.set_major_formatter(formatter)\n",
    "\n",
    "plt.style.use('seaborn')\n",
    "plt.grid(True)\n",
    "\n",
    "#plt.plot(df_divi2.date,df_divi2['Belegte Betten'], color = 'blue', linewidth = lws, label = \"nicht-Covid-19\")\n",
    "ax1 = plt.plot(df_divi2.date,df_divi2['COVID-19-Fälle'], color = 'red', linewidth = lws, label = \"Intensivbelegungen mit Covid-19\")\n",
    "\n",
    "\n",
    "plt.legend(loc='upper center', \n",
    "           bbox_to_anchor=(0.5, -0.1),\n",
    "           fancybox=True, \n",
    "           shadow=True, \n",
    "           ncol=2, \n",
    "           fontsize=size)\n",
    "\n",
    "# Schriftgrößen x und y achsenwerte\n",
    "plt.xticks(fontsize=size - 10, rotation = 0)\n",
    "plt.yticks(fontsize=size -4)\n",
    "\n",
    "# plt.xticks([])\n",
    "plt.ylabel('Anzahl Personen', fontsize=size)\n",
    "plt.xlabel('Zeit', fontsize=size)\n",
    "#plt.title('DIVI-Intensivregister (www.intensivregister.de)  \\n Stand: ' + today, fontsize=size)\n",
    "\n",
    "plt.title('Intensivstationen in Deutschland (DIVI-Daten)\\n', fontsize=size+10)\n",
    "plt.suptitle(today + ' PW', fontsize=size-5, y=0.92)\n",
    "\n",
    "# fill area between \n",
    "plt.fill_between(df_divi2.date, df_divi2['COVID-19-Fälle'], color='red',alpha=0.5)\n",
    "#plt.fill_between(df_divi2.date, df_divi2['COVID-19-Fälle'], df_divi2['Belegte Betten'], color='blue',alpha=0.5)\n",
    "\n",
    "locator = mdates.AutoDateLocator(minticks=minticks, maxticks=maxticks)\n",
    "formatter = mdates.ConciseDateFormatter(locator)\n",
    "ax.xaxis.set_major_locator(locator)\n",
    "ax.xaxis.set_major_formatter(formatter)\n",
    "\n",
    "# Diagramm als Bild exporieren und Auflösung definieren\n",
    "plt.savefig(Laufwerk + pfad_output + name_2_3, dpi = dpi, bbox_inches='tight')\n",
    "plt.savefig(Laufwerk + pfad_onedrive + name_2_3, dpi = dpi, bbox_inches='tight')\n",
    "\n",
    "plt.show()"
   ]
  },
  {
   "cell_type": "code",
   "execution_count": null,
   "metadata": {},
   "outputs": [],
   "source": []
  },
  {
   "cell_type": "markdown",
   "metadata": {},
   "source": [
    "### Belegte Betten und Covid"
   ]
  },
  {
   "cell_type": "code",
   "execution_count": 14,
   "metadata": {},
   "outputs": [
    {
     "data": {
      "text/html": [
       "<div>\n",
       "<style scoped>\n",
       "    .dataframe tbody tr th:only-of-type {\n",
       "        vertical-align: middle;\n",
       "    }\n",
       "\n",
       "    .dataframe tbody tr th {\n",
       "        vertical-align: top;\n",
       "    }\n",
       "\n",
       "    .dataframe thead th {\n",
       "        text-align: right;\n",
       "    }\n",
       "</style>\n",
       "<table border=\"1\" class=\"dataframe\">\n",
       "  <thead>\n",
       "    <tr style=\"text-align: right;\">\n",
       "      <th></th>\n",
       "      <th>date</th>\n",
       "      <th>Belegte Betten</th>\n",
       "      <th>COVID-19-Fälle</th>\n",
       "      <th>limit</th>\n",
       "    </tr>\n",
       "  </thead>\n",
       "  <tbody>\n",
       "    <tr>\n",
       "      <th>0</th>\n",
       "      <td>2020-03-20 11:15:00+00:00</td>\n",
       "      <td>576</td>\n",
       "      <td>200</td>\n",
       "      <td>4900</td>\n",
       "    </tr>\n",
       "    <tr>\n",
       "      <th>1</th>\n",
       "      <td>2020-03-21 11:15:00+00:00</td>\n",
       "      <td>2828</td>\n",
       "      <td>308</td>\n",
       "      <td>4900</td>\n",
       "    </tr>\n",
       "    <tr>\n",
       "      <th>2</th>\n",
       "      <td>2020-03-22 11:15:00+00:00</td>\n",
       "      <td>3255</td>\n",
       "      <td>364</td>\n",
       "      <td>4900</td>\n",
       "    </tr>\n",
       "    <tr>\n",
       "      <th>3</th>\n",
       "      <td>2020-03-23 11:15:00+00:00</td>\n",
       "      <td>3778</td>\n",
       "      <td>451</td>\n",
       "      <td>4900</td>\n",
       "    </tr>\n",
       "    <tr>\n",
       "      <th>4</th>\n",
       "      <td>2020-03-24 11:15:00+00:00</td>\n",
       "      <td>4856</td>\n",
       "      <td>616</td>\n",
       "      <td>4900</td>\n",
       "    </tr>\n",
       "    <tr>\n",
       "      <th>...</th>\n",
       "      <td>...</td>\n",
       "      <td>...</td>\n",
       "      <td>...</td>\n",
       "      <td>...</td>\n",
       "    </tr>\n",
       "    <tr>\n",
       "      <th>526</th>\n",
       "      <td>2021-08-28 10:15:00+00:00</td>\n",
       "      <td>18573</td>\n",
       "      <td>965</td>\n",
       "      <td>4900</td>\n",
       "    </tr>\n",
       "    <tr>\n",
       "      <th>527</th>\n",
       "      <td>2021-08-29 10:15:00+00:00</td>\n",
       "      <td>18298</td>\n",
       "      <td>1003</td>\n",
       "      <td>4900</td>\n",
       "    </tr>\n",
       "    <tr>\n",
       "      <th>528</th>\n",
       "      <td>2021-08-30 10:15:00+00:00</td>\n",
       "      <td>18493</td>\n",
       "      <td>1061</td>\n",
       "      <td>4900</td>\n",
       "    </tr>\n",
       "    <tr>\n",
       "      <th>529</th>\n",
       "      <td>2021-08-31 10:15:00+00:00</td>\n",
       "      <td>18893</td>\n",
       "      <td>1090</td>\n",
       "      <td>4900</td>\n",
       "    </tr>\n",
       "    <tr>\n",
       "      <th>530</th>\n",
       "      <td>2021-09-01 10:15:00+00:00</td>\n",
       "      <td>19135</td>\n",
       "      <td>1128</td>\n",
       "      <td>4900</td>\n",
       "    </tr>\n",
       "  </tbody>\n",
       "</table>\n",
       "<p>531 rows × 4 columns</p>\n",
       "</div>"
      ],
      "text/plain": [
       "                         date  Belegte Betten  COVID-19-Fälle  limit\n",
       "0   2020-03-20 11:15:00+00:00             576             200   4900\n",
       "1   2020-03-21 11:15:00+00:00            2828             308   4900\n",
       "2   2020-03-22 11:15:00+00:00            3255             364   4900\n",
       "3   2020-03-23 11:15:00+00:00            3778             451   4900\n",
       "4   2020-03-24 11:15:00+00:00            4856             616   4900\n",
       "..                        ...             ...             ...    ...\n",
       "526 2021-08-28 10:15:00+00:00           18573             965   4900\n",
       "527 2021-08-29 10:15:00+00:00           18298            1003   4900\n",
       "528 2021-08-30 10:15:00+00:00           18493            1061   4900\n",
       "529 2021-08-31 10:15:00+00:00           18893            1090   4900\n",
       "530 2021-09-01 10:15:00+00:00           19135            1128   4900\n",
       "\n",
       "[531 rows x 4 columns]"
      ]
     },
     "execution_count": 14,
     "metadata": {},
     "output_type": "execute_result"
    }
   ],
   "source": [
    "df_divi3"
   ]
  },
  {
   "cell_type": "code",
   "execution_count": 15,
   "metadata": {
    "scrolled": false
   },
   "outputs": [],
   "source": [
    "# # Größe im 16:9 format und mit Umrechnungsfaktor 1.2 (durch Test ermittelt) für PowerPoint angepasst\n",
    "# #plt.figure(figsize=(19,9))\n",
    "\n",
    "# def y_axis_thousands(x, pos):\n",
    "#    # 'The two args are the value and tick position'\n",
    "#     return '{:0,d}'.format(int(x)).replace(\",\",\".\")\n",
    "# formatter = FuncFormatter(y_axis_thousands)\n",
    "# plt.style.use('seaborn')\n",
    "\n",
    "# fig, ax = plt.subplots(figsize=(h, v*1.1))\n",
    "\n",
    "# ax.yaxis.set_major_formatter(formatter)\n",
    "\n",
    "# plt.style.use('seaborn')\n",
    "# plt.grid(True)\n",
    "\n",
    "# #plt.plot(df_divi2.date,df_divi2['Belegte Betten'], color = 'blue', linewidth = lws, label = \"nicht-Covid-19\")\n",
    "\n",
    "# ax2 = plt.plot(df_divi3.date,df_divi3['Belegte Betten'], color = 'grey', linestyle=\"\", \n",
    "#                marker='', linewidth = lws, label = \"\")\n",
    "\n",
    "# ax1 = plt.plot(df_divi3.date,df_divi3['COVID-19-Fälle'], color = 'red', linewidth = lws, \n",
    "#                label = \"\")\n",
    "\n",
    "# ax1 = plt.plot(df_divi3.date,df_divi3['COVID-19-Fälle'], color = 'black', linewidth = lws, \n",
    "#                label = \"Belegte Betten\\nmit Covid-19\")\n",
    "\n",
    "# ax3 = plt.plot(df_divi3.date,df_divi3['limit'], color = 'grey', linestyle=\"\", linewidth = lws, label = \"\")\n",
    "\n",
    "\n",
    "\n",
    "\n",
    "# # Schriftgrößen x und y achsenwerte\n",
    "# plt.xticks(fontsize=size - 10, rotation = 0)\n",
    "# plt.yticks(fontsize=size -4)\n",
    "\n",
    "# # plt.xticks([])\n",
    "# plt.ylabel('Anzahl Personen', fontsize=size)\n",
    "# plt.xlabel('Zeit', fontsize=size)\n",
    "# #plt.title('DIVI-Intensivregister (www.intensivregister.de)  \\n Stand: ' + today, fontsize=size)\n",
    "\n",
    "# plt.title('Intensivstationen in Deutschland (DIVI-Daten)\\n', fontsize=size+10)\n",
    "# plt.suptitle(today + ' PW', fontsize=size-5, y=0.92)\n",
    "\n",
    "# # fill area between \n",
    "# plt.fill_between(df_divi3.date, df_divi3['Belegte Betten'], df_divi3['COVID-19-Fälle'] , color='blue',alpha=0.5,\n",
    "#                 label=\"Belegte Betten\\nnicht Covid-19\",\n",
    "#                 interpolate=True)\n",
    "\n",
    "# # plt.fill_between(df_divi3.date, df_divi3['COVID-19-Fälle'], df_divi3['limit'] , color='red',alpha=0.5,\n",
    "# #                 label=\"Covid-19 Fälle über\\ngeschätzter Kapazitätsgrenze\",\n",
    "# #                 interpolate=True, where = df_divi3['COVID-19-Fälle'] > df_divi3[\"limit\"])\n",
    "# #plt.fill_between(df_divi2.date, df_divi2['COVID-19-Fälle'], df_divi2['Belegte Betten'], color='blue',alpha=0.5)\n",
    "\n",
    "# plt.legend(loc='upper center', \n",
    "#            bbox_to_anchor=(0.5, -0.1),\n",
    "#            fancybox=True, \n",
    "#            shadow=True, \n",
    "#            ncol=2, \n",
    "#            fontsize=size)\n",
    "\n",
    "# locator = mdates.AutoDateLocator(minticks=minticks, maxticks=maxticks)\n",
    "# formatter = mdates.ConciseDateFormatter(locator)\n",
    "# ax.xaxis.set_major_locator(locator)\n",
    "# ax.xaxis.set_major_formatter(formatter)\n",
    "\n",
    "# # Diagramm als Bild exporieren und Auflösung definieren\n",
    "# plt.savefig(Laufwerk + pfad_output + name_2_4, dpi = dpi, bbox_inches='tight')\n",
    "# plt.savefig(Laufwerk + pfad_onedrive + name_2_4, dpi = dpi, bbox_inches='tight')\n",
    "\n",
    "# plt.show()"
   ]
  },
  {
   "cell_type": "code",
   "execution_count": null,
   "metadata": {},
   "outputs": [],
   "source": []
  },
  {
   "cell_type": "code",
   "execution_count": null,
   "metadata": {},
   "outputs": [],
   "source": []
  },
  {
   "cell_type": "code",
   "execution_count": null,
   "metadata": {},
   "outputs": [],
   "source": []
  },
  {
   "cell_type": "markdown",
   "metadata": {},
   "source": [
    "## dataframes speichern"
   ]
  },
  {
   "cell_type": "code",
   "execution_count": 16,
   "metadata": {},
   "outputs": [],
   "source": [
    "df_divi2.to_csv(Laufwerk + pfad_output + name_output_df, index=False)"
   ]
  },
  {
   "cell_type": "markdown",
   "metadata": {},
   "source": [
    "## Performance messen"
   ]
  },
  {
   "cell_type": "code",
   "execution_count": 17,
   "metadata": {},
   "outputs": [
    {
     "name": "stdout",
     "output_type": "stream",
     "text": [
      "performance DOUG = 1.84 seconds\n"
     ]
    }
   ],
   "source": [
    "pc = os.environ['COMPUTERNAME']\n",
    "now2 = datetime.now()\n",
    "\n",
    "# Laufzeit\n",
    "x = now2 - now\n",
    "x = round(x.total_seconds(),2)\n",
    "\n",
    "print(f'performance {pc} = {x} seconds')"
   ]
  }
 ],
 "metadata": {
  "kernelspec": {
   "display_name": "Python 3",
   "language": "python",
   "name": "python3"
  },
  "language_info": {
   "codemirror_mode": {
    "name": "ipython",
    "version": 3
   },
   "file_extension": ".py",
   "mimetype": "text/x-python",
   "name": "python",
   "nbconvert_exporter": "python",
   "pygments_lexer": "ipython3",
   "version": "3.8.3"
  }
 },
 "nbformat": 4,
 "nbformat_minor": 4
}
