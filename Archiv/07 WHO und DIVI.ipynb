{
 "cells": [
  {
   "cell_type": "code",
   "execution_count": 1,
   "metadata": {},
   "outputs": [],
   "source": [
    "import pandas as pd\n",
    "import datetime\n",
    "from datetime import datetime, timedelta\n",
    "from datetime import date # todays date"
   ]
  },
  {
   "cell_type": "code",
   "execution_count": 2,
   "metadata": {},
   "outputs": [],
   "source": [
    "df = pd.read_csv(\"https://covid19.who.int/WHO-COVID-19-global-data.csv\")\n",
    "df = df.loc[df.Country=='Germany']"
   ]
  },
  {
   "cell_type": "code",
   "execution_count": null,
   "metadata": {},
   "outputs": [],
   "source": []
  },
  {
   "cell_type": "code",
   "execution_count": null,
   "metadata": {},
   "outputs": [],
   "source": []
  },
  {
   "cell_type": "code",
   "execution_count": null,
   "metadata": {},
   "outputs": [],
   "source": []
  },
  {
   "cell_type": "code",
   "execution_count": 3,
   "metadata": {},
   "outputs": [
    {
     "name": "stdout",
     "output_type": "stream",
     "text": [
      "23.11.2021\n"
     ]
    }
   ],
   "source": [
    "today = date.today().strftime(\"%d.%m.%Y\")\n",
    "print(today)"
   ]
  },
  {
   "cell_type": "code",
   "execution_count": 4,
   "metadata": {},
   "outputs": [],
   "source": [
    "def days_between(d1, d2):\n",
    "    d1 = datetime.strptime(d1, \"%Y-%m-%d\")\n",
    "    d2 = datetime.strptime(d2, \"%Y-%m-%d\")\n",
    "    return abs((d2 - d1).days)"
   ]
  },
  {
   "cell_type": "code",
   "execution_count": 5,
   "metadata": {},
   "outputs": [
    {
     "name": "stdout",
     "output_type": "stream",
     "text": [
      "2021-11-23\n",
      "136\n"
     ]
    }
   ],
   "source": [
    "a = str(date.today().strftime(\"%Y-%m-%d\"))\n",
    "print(a)\n",
    "# tage = days_between(a, \"2020-03-01\")\n",
    "tage = days_between(a, \"2021-07-10\")\n",
    "print(tage)"
   ]
  },
  {
   "cell_type": "code",
   "execution_count": 6,
   "metadata": {},
   "outputs": [
    {
     "name": "stdout",
     "output_type": "stream",
     "text": [
      "2021-11-23 23:12:56.072037\n",
      "2021-07-10 23:12:56.072037+00:00\n"
     ]
    }
   ],
   "source": [
    "print(datetime.today())\n",
    "\n",
    "ts_x = str(datetime.today() - timedelta(tage))\n",
    "ts_x = str(datetime.today() - timedelta(tage))\n",
    "\n",
    "ts = pd.to_datetime(ts_x, utc=True)\n",
    "print(ts)"
   ]
  },
  {
   "cell_type": "code",
   "execution_count": 7,
   "metadata": {},
   "outputs": [],
   "source": [
    "df['Date_reported'] = pd.to_datetime(df.Date_reported, utc=True)\n",
    "\n",
    "df = df.loc[df.Date_reported >= ts, :]"
   ]
  },
  {
   "cell_type": "code",
   "execution_count": 8,
   "metadata": {},
   "outputs": [
    {
     "data": {
      "text/html": [
       "<div>\n",
       "<style scoped>\n",
       "    .dataframe tbody tr th:only-of-type {\n",
       "        vertical-align: middle;\n",
       "    }\n",
       "\n",
       "    .dataframe tbody tr th {\n",
       "        vertical-align: top;\n",
       "    }\n",
       "\n",
       "    .dataframe thead th {\n",
       "        text-align: right;\n",
       "    }\n",
       "</style>\n",
       "<table border=\"1\" class=\"dataframe\">\n",
       "  <thead>\n",
       "    <tr style=\"text-align: right;\">\n",
       "      <th></th>\n",
       "      <th>Date_reported</th>\n",
       "      <th>Country_code</th>\n",
       "      <th>Country</th>\n",
       "      <th>WHO_region</th>\n",
       "      <th>New_cases</th>\n",
       "      <th>Cumulative_cases</th>\n",
       "      <th>New_deaths</th>\n",
       "      <th>Cumulative_deaths</th>\n",
       "    </tr>\n",
       "  </thead>\n",
       "  <tbody>\n",
       "    <tr>\n",
       "      <th>54453</th>\n",
       "      <td>2021-07-11 00:00:00+00:00</td>\n",
       "      <td>DE</td>\n",
       "      <td>Germany</td>\n",
       "      <td>EURO</td>\n",
       "      <td>745</td>\n",
       "      <td>3736165</td>\n",
       "      <td>6</td>\n",
       "      <td>91231</td>\n",
       "    </tr>\n",
       "    <tr>\n",
       "      <th>54454</th>\n",
       "      <td>2021-07-12 00:00:00+00:00</td>\n",
       "      <td>DE</td>\n",
       "      <td>Germany</td>\n",
       "      <td>EURO</td>\n",
       "      <td>324</td>\n",
       "      <td>3736489</td>\n",
       "      <td>2</td>\n",
       "      <td>91233</td>\n",
       "    </tr>\n",
       "    <tr>\n",
       "      <th>54455</th>\n",
       "      <td>2021-07-13 00:00:00+00:00</td>\n",
       "      <td>DE</td>\n",
       "      <td>Germany</td>\n",
       "      <td>EURO</td>\n",
       "      <td>646</td>\n",
       "      <td>3737135</td>\n",
       "      <td>26</td>\n",
       "      <td>91259</td>\n",
       "    </tr>\n",
       "    <tr>\n",
       "      <th>54456</th>\n",
       "      <td>2021-07-14 00:00:00+00:00</td>\n",
       "      <td>DE</td>\n",
       "      <td>Germany</td>\n",
       "      <td>EURO</td>\n",
       "      <td>1548</td>\n",
       "      <td>3738683</td>\n",
       "      <td>28</td>\n",
       "      <td>91287</td>\n",
       "    </tr>\n",
       "    <tr>\n",
       "      <th>54457</th>\n",
       "      <td>2021-07-15 00:00:00+00:00</td>\n",
       "      <td>DE</td>\n",
       "      <td>Germany</td>\n",
       "      <td>EURO</td>\n",
       "      <td>1642</td>\n",
       "      <td>3740325</td>\n",
       "      <td>32</td>\n",
       "      <td>91319</td>\n",
       "    </tr>\n",
       "    <tr>\n",
       "      <th>...</th>\n",
       "      <td>...</td>\n",
       "      <td>...</td>\n",
       "      <td>...</td>\n",
       "      <td>...</td>\n",
       "      <td>...</td>\n",
       "      <td>...</td>\n",
       "      <td>...</td>\n",
       "      <td>...</td>\n",
       "    </tr>\n",
       "    <tr>\n",
       "      <th>54584</th>\n",
       "      <td>2021-11-19 00:00:00+00:00</td>\n",
       "      <td>DE</td>\n",
       "      <td>Germany</td>\n",
       "      <td>EURO</td>\n",
       "      <td>52970</td>\n",
       "      <td>5248291</td>\n",
       "      <td>201</td>\n",
       "      <td>98739</td>\n",
       "    </tr>\n",
       "    <tr>\n",
       "      <th>54585</th>\n",
       "      <td>2021-11-20 00:00:00+00:00</td>\n",
       "      <td>DE</td>\n",
       "      <td>Germany</td>\n",
       "      <td>EURO</td>\n",
       "      <td>63924</td>\n",
       "      <td>5312215</td>\n",
       "      <td>248</td>\n",
       "      <td>98987</td>\n",
       "    </tr>\n",
       "    <tr>\n",
       "      <th>54586</th>\n",
       "      <td>2021-11-21 00:00:00+00:00</td>\n",
       "      <td>DE</td>\n",
       "      <td>Germany</td>\n",
       "      <td>EURO</td>\n",
       "      <td>42727</td>\n",
       "      <td>5354942</td>\n",
       "      <td>75</td>\n",
       "      <td>99062</td>\n",
       "    </tr>\n",
       "    <tr>\n",
       "      <th>54587</th>\n",
       "      <td>2021-11-22 00:00:00+00:00</td>\n",
       "      <td>DE</td>\n",
       "      <td>Germany</td>\n",
       "      <td>EURO</td>\n",
       "      <td>30643</td>\n",
       "      <td>5385585</td>\n",
       "      <td>62</td>\n",
       "      <td>99124</td>\n",
       "    </tr>\n",
       "    <tr>\n",
       "      <th>54588</th>\n",
       "      <td>2021-11-23 00:00:00+00:00</td>\n",
       "      <td>DE</td>\n",
       "      <td>Germany</td>\n",
       "      <td>EURO</td>\n",
       "      <td>45326</td>\n",
       "      <td>5430911</td>\n",
       "      <td>309</td>\n",
       "      <td>99433</td>\n",
       "    </tr>\n",
       "  </tbody>\n",
       "</table>\n",
       "<p>136 rows × 8 columns</p>\n",
       "</div>"
      ],
      "text/plain": [
       "                  Date_reported Country_code  Country WHO_region  New_cases  \\\n",
       "54453 2021-07-11 00:00:00+00:00           DE  Germany       EURO        745   \n",
       "54454 2021-07-12 00:00:00+00:00           DE  Germany       EURO        324   \n",
       "54455 2021-07-13 00:00:00+00:00           DE  Germany       EURO        646   \n",
       "54456 2021-07-14 00:00:00+00:00           DE  Germany       EURO       1548   \n",
       "54457 2021-07-15 00:00:00+00:00           DE  Germany       EURO       1642   \n",
       "...                         ...          ...      ...        ...        ...   \n",
       "54584 2021-11-19 00:00:00+00:00           DE  Germany       EURO      52970   \n",
       "54585 2021-11-20 00:00:00+00:00           DE  Germany       EURO      63924   \n",
       "54586 2021-11-21 00:00:00+00:00           DE  Germany       EURO      42727   \n",
       "54587 2021-11-22 00:00:00+00:00           DE  Germany       EURO      30643   \n",
       "54588 2021-11-23 00:00:00+00:00           DE  Germany       EURO      45326   \n",
       "\n",
       "       Cumulative_cases  New_deaths  Cumulative_deaths  \n",
       "54453           3736165           6              91231  \n",
       "54454           3736489           2              91233  \n",
       "54455           3737135          26              91259  \n",
       "54456           3738683          28              91287  \n",
       "54457           3740325          32              91319  \n",
       "...                 ...         ...                ...  \n",
       "54584           5248291         201              98739  \n",
       "54585           5312215         248              98987  \n",
       "54586           5354942          75              99062  \n",
       "54587           5385585          62              99124  \n",
       "54588           5430911         309              99433  \n",
       "\n",
       "[136 rows x 8 columns]"
      ]
     },
     "execution_count": 8,
     "metadata": {},
     "output_type": "execute_result"
    }
   ],
   "source": [
    "df"
   ]
  },
  {
   "cell_type": "code",
   "execution_count": null,
   "metadata": {},
   "outputs": [],
   "source": []
  },
  {
   "cell_type": "code",
   "execution_count": null,
   "metadata": {},
   "outputs": [],
   "source": []
  },
  {
   "cell_type": "code",
   "execution_count": null,
   "metadata": {},
   "outputs": [],
   "source": []
  },
  {
   "cell_type": "code",
   "execution_count": null,
   "metadata": {},
   "outputs": [],
   "source": []
  }
 ],
 "metadata": {
  "kernelspec": {
   "display_name": "Python 3",
   "language": "python",
   "name": "python3"
  },
  "language_info": {
   "codemirror_mode": {
    "name": "ipython",
    "version": 3
   },
   "file_extension": ".py",
   "mimetype": "text/x-python",
   "name": "python",
   "nbconvert_exporter": "python",
   "pygments_lexer": "ipython3",
   "version": "3.8.3"
  }
 },
 "nbformat": 4,
 "nbformat_minor": 4
}
